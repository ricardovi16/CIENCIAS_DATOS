{
  "nbformat": 4,
  "nbformat_minor": 0,
  "metadata": {
    "colab": {
      "provenance": []
    },
    "kernelspec": {
      "name": "python3",
      "display_name": "Python 3"
    },
    "language_info": {
      "name": "python"
    }
  },
  "cells": [
    {
      "cell_type": "markdown",
      "source": [
        "#Definicion de cada feature  del dataframe de titanic\n",
        "\n",
        "PassengerId = Identificador del pasajero\n",
        "\n",
        "Survived = 0=murio; 1=sobrevivio\n",
        "\n",
        "Pclass = 1=Primera clase; 2=Segunda clase; 3=Tercera clase\n",
        "\n",
        "Name = Nombre del pasajero\n",
        "\n",
        "Sex = Genero: Hombre/Mujer\n",
        "\n",
        "Age = Edad del pasajero\n",
        "\n",
        "SibSp = Numero de hermanos\n",
        "\n",
        "Parch = Número de padres o hijos que un pasajero tenía a bordo\n",
        "\n",
        "Ticket = Número del ticket del pasajero\n",
        "\n",
        "Fare = Tarifa pagada por el pasajero (en libras esterlinas)\n",
        "\n",
        "Cabin = Cabina donde se alojaba el pasajero durante el viaje.\n",
        "\n",
        "Embarked = Lugar desde el cual embarco: C=Cherbourg; Q=Queenstown; S=Southampton"
      ],
      "metadata": {
        "id": "kJvBDW_B6ukj"
      }
    }
  ]
}