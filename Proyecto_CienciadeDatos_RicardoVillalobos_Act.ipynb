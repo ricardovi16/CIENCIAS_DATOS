{
  "nbformat": 4,
  "nbformat_minor": 0,
  "metadata": {
    "colab": {
      "provenance": []
    },
    "kernelspec": {
      "name": "python3",
      "display_name": "Python 3"
    },
    "language_info": {
      "name": "python"
    }
  },
  "cells": [
    {
      "cell_type": "markdown",
      "source": [
        "# ANALISIS DEL JUGADOR DE LA SELECCION UNAB RUZI(ADC)🧀\n",
        "# Especficamente con el uso del campeon Kai'sa\n",
        "We start by showing the daaaaata :)"
      ],
      "metadata": {
        "id": "jPMdXNu4BQlF"
      }
    },
    {
      "cell_type": "code",
      "source": [
        "from google.colab import drive\n",
        "drive.mount('/content/drive')"
      ],
      "metadata": {
        "colab": {
          "base_uri": "https://localhost:8080/"
        },
        "id": "YG8zo69QCyUN",
        "outputId": "41f25999-be94-43ee-c948-5ecb9c72cbbe"
      },
      "execution_count": 1,
      "outputs": [
        {
          "output_type": "stream",
          "name": "stdout",
          "text": [
            "Mounted at /content/drive\n"
          ]
        }
      ]
    },
    {
      "cell_type": "code",
      "source": [
        "!pip install statsmodels"
      ],
      "metadata": {
        "collapsed": true,
        "colab": {
          "base_uri": "https://localhost:8080/"
        },
        "id": "gcs1m5xLj3Qc",
        "outputId": "57fc0fca-0e5d-43a0-fba4-21fe4ba945a8"
      },
      "execution_count": 2,
      "outputs": [
        {
          "output_type": "stream",
          "name": "stdout",
          "text": [
            "Requirement already satisfied: statsmodels in /usr/local/lib/python3.10/dist-packages (0.14.2)\n",
            "Requirement already satisfied: numpy>=1.22.3 in /usr/local/lib/python3.10/dist-packages (from statsmodels) (1.26.4)\n",
            "Requirement already satisfied: scipy!=1.9.2,>=1.8 in /usr/local/lib/python3.10/dist-packages (from statsmodels) (1.13.1)\n",
            "Requirement already satisfied: pandas!=2.1.0,>=1.4 in /usr/local/lib/python3.10/dist-packages (from statsmodels) (2.1.4)\n",
            "Requirement already satisfied: patsy>=0.5.6 in /usr/local/lib/python3.10/dist-packages (from statsmodels) (0.5.6)\n",
            "Requirement already satisfied: packaging>=21.3 in /usr/local/lib/python3.10/dist-packages (from statsmodels) (24.1)\n",
            "Requirement already satisfied: python-dateutil>=2.8.2 in /usr/local/lib/python3.10/dist-packages (from pandas!=2.1.0,>=1.4->statsmodels) (2.8.2)\n",
            "Requirement already satisfied: pytz>=2020.1 in /usr/local/lib/python3.10/dist-packages (from pandas!=2.1.0,>=1.4->statsmodels) (2024.2)\n",
            "Requirement already satisfied: tzdata>=2022.1 in /usr/local/lib/python3.10/dist-packages (from pandas!=2.1.0,>=1.4->statsmodels) (2024.1)\n",
            "Requirement already satisfied: six in /usr/local/lib/python3.10/dist-packages (from patsy>=0.5.6->statsmodels) (1.16.0)\n"
          ]
        }
      ]
    },
    {
      "cell_type": "code",
      "source": [
        "!pip install wquantiles"
      ],
      "metadata": {
        "collapsed": true,
        "colab": {
          "base_uri": "https://localhost:8080/"
        },
        "id": "8xPgB4JDj5t2",
        "outputId": "e97a73ea-6ef1-4526-8e94-93f2e4178a1c"
      },
      "execution_count": 3,
      "outputs": [
        {
          "output_type": "stream",
          "name": "stdout",
          "text": [
            "Collecting wquantiles\n",
            "  Downloading wquantiles-0.6-py3-none-any.whl.metadata (1.1 kB)\n",
            "Requirement already satisfied: numpy>=1.18 in /usr/local/lib/python3.10/dist-packages (from wquantiles) (1.26.4)\n",
            "Downloading wquantiles-0.6-py3-none-any.whl (3.3 kB)\n",
            "Installing collected packages: wquantiles\n",
            "Successfully installed wquantiles-0.6\n"
          ]
        }
      ]
    },
    {
      "cell_type": "code",
      "execution_count": 4,
      "metadata": {
        "id": "OZ5xDVxbwXWv"
      },
      "outputs": [],
      "source": [
        "import pandas as pd # Manipulacion y analisis de datos\n",
        "import numpy as np # Calculos matematicos\n",
        "import matplotlib.pyplot as plt\n",
        "import seaborn as sns # Graficas bonitas\n",
        "import scipy.stats as stats"
      ]
    },
    {
      "cell_type": "code",
      "source": [
        "from scipy.stats import trim_mean\n",
        "from statsmodels import robust"
      ],
      "metadata": {
        "id": "UV1bb_JTkf6_"
      },
      "execution_count": 5,
      "outputs": []
    },
    {
      "cell_type": "code",
      "source": [
        "daRoute = \"/content/drive/MyDrive/Proyecto_CienciaDeDatos/dataset_ruzi_cienciadatos.csv\"\n",
        "df = pd.read_csv(daRoute) #Mostrar mi data set\n",
        "df.head(25)"
      ],
      "metadata": {
        "colab": {
          "base_uri": "https://localhost:8080/",
          "height": 833
        },
        "id": "jkfVPs2ayqRm",
        "outputId": "80737557-5b62-4e8b-975e-a0499b7b5815"
      },
      "execution_count": 6,
      "outputs": [
        {
          "output_type": "execute_result",
          "data": {
            "text/plain": [
              "   champion spell_1       spell_2  win / lose (1/0)  durationG(min)   cs  \\\n",
              "0    kai sa   flash  purification                 0           29.12  157   \n",
              "1    kai sa   flash  purification                 0           42.09  253   \n",
              "2    kai sa   flash       barrier                 1           33.32  213   \n",
              "3    kai sa   flash  purification                 0           17.34  130   \n",
              "4    kai sa   flash  purification                 1           21.10  140   \n",
              "5    kai sa   flash       barrier                 0           24.25  159   \n",
              "6    kai sa   flash  purification                 0           34.12  223   \n",
              "7    kai sa   flash       barrier                 1           27.34  227   \n",
              "8    kai sa   flash          heal                 0           26.59  211   \n",
              "9    kai sa   flash  purification                 0           31.27  194   \n",
              "10   kai sa   flash  purification                 0           23.24  130   \n",
              "11   kai sa   flash  purification                 1           21.47  182   \n",
              "12   kai sa   flash          heal                 0           31.21  249   \n",
              "13   kai sa   flash  purification                 1           17.29  166   \n",
              "14   kai sa   flash  purification                 1           33.12  194   \n",
              "15   kai sa   flash  purification                 1           30.43  220   \n",
              "16   kai sa   flash  purification                 0           31.15  256   \n",
              "17   kai sa   flash  purification                 0           33.56  194   \n",
              "18   kai sa   flash       exhaust                 1           28.41  167   \n",
              "19   kai sa   flash  purification                 0           25.29  150   \n",
              "20   kai sa   flash         ghost                 0           25.14  180   \n",
              "21   kai sa   flash  purification                 1           22.80  175   \n",
              "22   kai sa   flash  purification                 0           27.51  197   \n",
              "23   kai sa   flash         ghost                 1           32.04  229   \n",
              "24   kai sa   flash          heal                 0           27.35  248   \n",
              "\n",
              "     cs/min     first item  kills  deaths  assists day_played  \n",
              "0   5.39148    statik shyv      9       9        8    domingo  \n",
              "1   6.01093    statik shyv     22       8        9     sabado  \n",
              "2   6.39256    statik shyv     20       4       18    viernes  \n",
              "3   7.49712    statik shyv      2       7        8    viernes  \n",
              "4   6.63507  kraken slayer      8       3        6     jueves  \n",
              "5   6.55670    statik shyv      4       1        1  miercoles  \n",
              "6   6.53576  kraken slayer     12       7        7     martes  \n",
              "7   8.30285  kraken slayer     13       4        8     jueves  \n",
              "8   7.93531  kraken slayer     11       6        2     martes  \n",
              "9   6.20403    statik shyv     12       7        6     martes  \n",
              "10  5.59380    statik shyv      9       7        6     martes  \n",
              "11  8.47694    statik shyv      6       1        4     martes  \n",
              "12  7.97821    statik shyv      6       4        6    viernes  \n",
              "13  9.60093    statik shyv      8       0        3    viernes  \n",
              "14  5.85749  kraken slayer     19       8        7     martes  \n",
              "15  7.22971    statik shyv     15       5       12    domingo  \n",
              "16  8.21830    statik shyv     10       5        4    domingo  \n",
              "17  5.78069  kraken slayer     12       5       10     martes  \n",
              "18  5.87821  kraken slayer     16       6        4     martes  \n",
              "19  5.93120  kraken slayer      2       6        5     martes  \n",
              "20  7.15990  kraken slayer     13       7        3    viernes  \n",
              "21  7.67544  kraken slayer     12       5        6     jueves  \n",
              "22  7.16103  kraken slayer     10       5        5    domingo  \n",
              "23  7.14732  kraken slayer     11       3        9    domingo  \n",
              "24  9.06764  kraken slayer     10       4        4     jueves  "
            ],
            "text/html": [
              "\n",
              "  <div id=\"df-dc19881d-d677-41dc-8763-9e820613ced1\" class=\"colab-df-container\">\n",
              "    <div>\n",
              "<style scoped>\n",
              "    .dataframe tbody tr th:only-of-type {\n",
              "        vertical-align: middle;\n",
              "    }\n",
              "\n",
              "    .dataframe tbody tr th {\n",
              "        vertical-align: top;\n",
              "    }\n",
              "\n",
              "    .dataframe thead th {\n",
              "        text-align: right;\n",
              "    }\n",
              "</style>\n",
              "<table border=\"1\" class=\"dataframe\">\n",
              "  <thead>\n",
              "    <tr style=\"text-align: right;\">\n",
              "      <th></th>\n",
              "      <th>champion</th>\n",
              "      <th>spell_1</th>\n",
              "      <th>spell_2</th>\n",
              "      <th>win / lose (1/0)</th>\n",
              "      <th>durationG(min)</th>\n",
              "      <th>cs</th>\n",
              "      <th>cs/min</th>\n",
              "      <th>first item</th>\n",
              "      <th>kills</th>\n",
              "      <th>deaths</th>\n",
              "      <th>assists</th>\n",
              "      <th>day_played</th>\n",
              "    </tr>\n",
              "  </thead>\n",
              "  <tbody>\n",
              "    <tr>\n",
              "      <th>0</th>\n",
              "      <td>kai sa</td>\n",
              "      <td>flash</td>\n",
              "      <td>purification</td>\n",
              "      <td>0</td>\n",
              "      <td>29.12</td>\n",
              "      <td>157</td>\n",
              "      <td>5.39148</td>\n",
              "      <td>statik shyv</td>\n",
              "      <td>9</td>\n",
              "      <td>9</td>\n",
              "      <td>8</td>\n",
              "      <td>domingo</td>\n",
              "    </tr>\n",
              "    <tr>\n",
              "      <th>1</th>\n",
              "      <td>kai sa</td>\n",
              "      <td>flash</td>\n",
              "      <td>purification</td>\n",
              "      <td>0</td>\n",
              "      <td>42.09</td>\n",
              "      <td>253</td>\n",
              "      <td>6.01093</td>\n",
              "      <td>statik shyv</td>\n",
              "      <td>22</td>\n",
              "      <td>8</td>\n",
              "      <td>9</td>\n",
              "      <td>sabado</td>\n",
              "    </tr>\n",
              "    <tr>\n",
              "      <th>2</th>\n",
              "      <td>kai sa</td>\n",
              "      <td>flash</td>\n",
              "      <td>barrier</td>\n",
              "      <td>1</td>\n",
              "      <td>33.32</td>\n",
              "      <td>213</td>\n",
              "      <td>6.39256</td>\n",
              "      <td>statik shyv</td>\n",
              "      <td>20</td>\n",
              "      <td>4</td>\n",
              "      <td>18</td>\n",
              "      <td>viernes</td>\n",
              "    </tr>\n",
              "    <tr>\n",
              "      <th>3</th>\n",
              "      <td>kai sa</td>\n",
              "      <td>flash</td>\n",
              "      <td>purification</td>\n",
              "      <td>0</td>\n",
              "      <td>17.34</td>\n",
              "      <td>130</td>\n",
              "      <td>7.49712</td>\n",
              "      <td>statik shyv</td>\n",
              "      <td>2</td>\n",
              "      <td>7</td>\n",
              "      <td>8</td>\n",
              "      <td>viernes</td>\n",
              "    </tr>\n",
              "    <tr>\n",
              "      <th>4</th>\n",
              "      <td>kai sa</td>\n",
              "      <td>flash</td>\n",
              "      <td>purification</td>\n",
              "      <td>1</td>\n",
              "      <td>21.10</td>\n",
              "      <td>140</td>\n",
              "      <td>6.63507</td>\n",
              "      <td>kraken slayer</td>\n",
              "      <td>8</td>\n",
              "      <td>3</td>\n",
              "      <td>6</td>\n",
              "      <td>jueves</td>\n",
              "    </tr>\n",
              "    <tr>\n",
              "      <th>5</th>\n",
              "      <td>kai sa</td>\n",
              "      <td>flash</td>\n",
              "      <td>barrier</td>\n",
              "      <td>0</td>\n",
              "      <td>24.25</td>\n",
              "      <td>159</td>\n",
              "      <td>6.55670</td>\n",
              "      <td>statik shyv</td>\n",
              "      <td>4</td>\n",
              "      <td>1</td>\n",
              "      <td>1</td>\n",
              "      <td>miercoles</td>\n",
              "    </tr>\n",
              "    <tr>\n",
              "      <th>6</th>\n",
              "      <td>kai sa</td>\n",
              "      <td>flash</td>\n",
              "      <td>purification</td>\n",
              "      <td>0</td>\n",
              "      <td>34.12</td>\n",
              "      <td>223</td>\n",
              "      <td>6.53576</td>\n",
              "      <td>kraken slayer</td>\n",
              "      <td>12</td>\n",
              "      <td>7</td>\n",
              "      <td>7</td>\n",
              "      <td>martes</td>\n",
              "    </tr>\n",
              "    <tr>\n",
              "      <th>7</th>\n",
              "      <td>kai sa</td>\n",
              "      <td>flash</td>\n",
              "      <td>barrier</td>\n",
              "      <td>1</td>\n",
              "      <td>27.34</td>\n",
              "      <td>227</td>\n",
              "      <td>8.30285</td>\n",
              "      <td>kraken slayer</td>\n",
              "      <td>13</td>\n",
              "      <td>4</td>\n",
              "      <td>8</td>\n",
              "      <td>jueves</td>\n",
              "    </tr>\n",
              "    <tr>\n",
              "      <th>8</th>\n",
              "      <td>kai sa</td>\n",
              "      <td>flash</td>\n",
              "      <td>heal</td>\n",
              "      <td>0</td>\n",
              "      <td>26.59</td>\n",
              "      <td>211</td>\n",
              "      <td>7.93531</td>\n",
              "      <td>kraken slayer</td>\n",
              "      <td>11</td>\n",
              "      <td>6</td>\n",
              "      <td>2</td>\n",
              "      <td>martes</td>\n",
              "    </tr>\n",
              "    <tr>\n",
              "      <th>9</th>\n",
              "      <td>kai sa</td>\n",
              "      <td>flash</td>\n",
              "      <td>purification</td>\n",
              "      <td>0</td>\n",
              "      <td>31.27</td>\n",
              "      <td>194</td>\n",
              "      <td>6.20403</td>\n",
              "      <td>statik shyv</td>\n",
              "      <td>12</td>\n",
              "      <td>7</td>\n",
              "      <td>6</td>\n",
              "      <td>martes</td>\n",
              "    </tr>\n",
              "    <tr>\n",
              "      <th>10</th>\n",
              "      <td>kai sa</td>\n",
              "      <td>flash</td>\n",
              "      <td>purification</td>\n",
              "      <td>0</td>\n",
              "      <td>23.24</td>\n",
              "      <td>130</td>\n",
              "      <td>5.59380</td>\n",
              "      <td>statik shyv</td>\n",
              "      <td>9</td>\n",
              "      <td>7</td>\n",
              "      <td>6</td>\n",
              "      <td>martes</td>\n",
              "    </tr>\n",
              "    <tr>\n",
              "      <th>11</th>\n",
              "      <td>kai sa</td>\n",
              "      <td>flash</td>\n",
              "      <td>purification</td>\n",
              "      <td>1</td>\n",
              "      <td>21.47</td>\n",
              "      <td>182</td>\n",
              "      <td>8.47694</td>\n",
              "      <td>statik shyv</td>\n",
              "      <td>6</td>\n",
              "      <td>1</td>\n",
              "      <td>4</td>\n",
              "      <td>martes</td>\n",
              "    </tr>\n",
              "    <tr>\n",
              "      <th>12</th>\n",
              "      <td>kai sa</td>\n",
              "      <td>flash</td>\n",
              "      <td>heal</td>\n",
              "      <td>0</td>\n",
              "      <td>31.21</td>\n",
              "      <td>249</td>\n",
              "      <td>7.97821</td>\n",
              "      <td>statik shyv</td>\n",
              "      <td>6</td>\n",
              "      <td>4</td>\n",
              "      <td>6</td>\n",
              "      <td>viernes</td>\n",
              "    </tr>\n",
              "    <tr>\n",
              "      <th>13</th>\n",
              "      <td>kai sa</td>\n",
              "      <td>flash</td>\n",
              "      <td>purification</td>\n",
              "      <td>1</td>\n",
              "      <td>17.29</td>\n",
              "      <td>166</td>\n",
              "      <td>9.60093</td>\n",
              "      <td>statik shyv</td>\n",
              "      <td>8</td>\n",
              "      <td>0</td>\n",
              "      <td>3</td>\n",
              "      <td>viernes</td>\n",
              "    </tr>\n",
              "    <tr>\n",
              "      <th>14</th>\n",
              "      <td>kai sa</td>\n",
              "      <td>flash</td>\n",
              "      <td>purification</td>\n",
              "      <td>1</td>\n",
              "      <td>33.12</td>\n",
              "      <td>194</td>\n",
              "      <td>5.85749</td>\n",
              "      <td>kraken slayer</td>\n",
              "      <td>19</td>\n",
              "      <td>8</td>\n",
              "      <td>7</td>\n",
              "      <td>martes</td>\n",
              "    </tr>\n",
              "    <tr>\n",
              "      <th>15</th>\n",
              "      <td>kai sa</td>\n",
              "      <td>flash</td>\n",
              "      <td>purification</td>\n",
              "      <td>1</td>\n",
              "      <td>30.43</td>\n",
              "      <td>220</td>\n",
              "      <td>7.22971</td>\n",
              "      <td>statik shyv</td>\n",
              "      <td>15</td>\n",
              "      <td>5</td>\n",
              "      <td>12</td>\n",
              "      <td>domingo</td>\n",
              "    </tr>\n",
              "    <tr>\n",
              "      <th>16</th>\n",
              "      <td>kai sa</td>\n",
              "      <td>flash</td>\n",
              "      <td>purification</td>\n",
              "      <td>0</td>\n",
              "      <td>31.15</td>\n",
              "      <td>256</td>\n",
              "      <td>8.21830</td>\n",
              "      <td>statik shyv</td>\n",
              "      <td>10</td>\n",
              "      <td>5</td>\n",
              "      <td>4</td>\n",
              "      <td>domingo</td>\n",
              "    </tr>\n",
              "    <tr>\n",
              "      <th>17</th>\n",
              "      <td>kai sa</td>\n",
              "      <td>flash</td>\n",
              "      <td>purification</td>\n",
              "      <td>0</td>\n",
              "      <td>33.56</td>\n",
              "      <td>194</td>\n",
              "      <td>5.78069</td>\n",
              "      <td>kraken slayer</td>\n",
              "      <td>12</td>\n",
              "      <td>5</td>\n",
              "      <td>10</td>\n",
              "      <td>martes</td>\n",
              "    </tr>\n",
              "    <tr>\n",
              "      <th>18</th>\n",
              "      <td>kai sa</td>\n",
              "      <td>flash</td>\n",
              "      <td>exhaust</td>\n",
              "      <td>1</td>\n",
              "      <td>28.41</td>\n",
              "      <td>167</td>\n",
              "      <td>5.87821</td>\n",
              "      <td>kraken slayer</td>\n",
              "      <td>16</td>\n",
              "      <td>6</td>\n",
              "      <td>4</td>\n",
              "      <td>martes</td>\n",
              "    </tr>\n",
              "    <tr>\n",
              "      <th>19</th>\n",
              "      <td>kai sa</td>\n",
              "      <td>flash</td>\n",
              "      <td>purification</td>\n",
              "      <td>0</td>\n",
              "      <td>25.29</td>\n",
              "      <td>150</td>\n",
              "      <td>5.93120</td>\n",
              "      <td>kraken slayer</td>\n",
              "      <td>2</td>\n",
              "      <td>6</td>\n",
              "      <td>5</td>\n",
              "      <td>martes</td>\n",
              "    </tr>\n",
              "    <tr>\n",
              "      <th>20</th>\n",
              "      <td>kai sa</td>\n",
              "      <td>flash</td>\n",
              "      <td>ghost</td>\n",
              "      <td>0</td>\n",
              "      <td>25.14</td>\n",
              "      <td>180</td>\n",
              "      <td>7.15990</td>\n",
              "      <td>kraken slayer</td>\n",
              "      <td>13</td>\n",
              "      <td>7</td>\n",
              "      <td>3</td>\n",
              "      <td>viernes</td>\n",
              "    </tr>\n",
              "    <tr>\n",
              "      <th>21</th>\n",
              "      <td>kai sa</td>\n",
              "      <td>flash</td>\n",
              "      <td>purification</td>\n",
              "      <td>1</td>\n",
              "      <td>22.80</td>\n",
              "      <td>175</td>\n",
              "      <td>7.67544</td>\n",
              "      <td>kraken slayer</td>\n",
              "      <td>12</td>\n",
              "      <td>5</td>\n",
              "      <td>6</td>\n",
              "      <td>jueves</td>\n",
              "    </tr>\n",
              "    <tr>\n",
              "      <th>22</th>\n",
              "      <td>kai sa</td>\n",
              "      <td>flash</td>\n",
              "      <td>purification</td>\n",
              "      <td>0</td>\n",
              "      <td>27.51</td>\n",
              "      <td>197</td>\n",
              "      <td>7.16103</td>\n",
              "      <td>kraken slayer</td>\n",
              "      <td>10</td>\n",
              "      <td>5</td>\n",
              "      <td>5</td>\n",
              "      <td>domingo</td>\n",
              "    </tr>\n",
              "    <tr>\n",
              "      <th>23</th>\n",
              "      <td>kai sa</td>\n",
              "      <td>flash</td>\n",
              "      <td>ghost</td>\n",
              "      <td>1</td>\n",
              "      <td>32.04</td>\n",
              "      <td>229</td>\n",
              "      <td>7.14732</td>\n",
              "      <td>kraken slayer</td>\n",
              "      <td>11</td>\n",
              "      <td>3</td>\n",
              "      <td>9</td>\n",
              "      <td>domingo</td>\n",
              "    </tr>\n",
              "    <tr>\n",
              "      <th>24</th>\n",
              "      <td>kai sa</td>\n",
              "      <td>flash</td>\n",
              "      <td>heal</td>\n",
              "      <td>0</td>\n",
              "      <td>27.35</td>\n",
              "      <td>248</td>\n",
              "      <td>9.06764</td>\n",
              "      <td>kraken slayer</td>\n",
              "      <td>10</td>\n",
              "      <td>4</td>\n",
              "      <td>4</td>\n",
              "      <td>jueves</td>\n",
              "    </tr>\n",
              "  </tbody>\n",
              "</table>\n",
              "</div>\n",
              "    <div class=\"colab-df-buttons\">\n",
              "\n",
              "  <div class=\"colab-df-container\">\n",
              "    <button class=\"colab-df-convert\" onclick=\"convertToInteractive('df-dc19881d-d677-41dc-8763-9e820613ced1')\"\n",
              "            title=\"Convert this dataframe to an interactive table.\"\n",
              "            style=\"display:none;\">\n",
              "\n",
              "  <svg xmlns=\"http://www.w3.org/2000/svg\" height=\"24px\" viewBox=\"0 -960 960 960\">\n",
              "    <path d=\"M120-120v-720h720v720H120Zm60-500h600v-160H180v160Zm220 220h160v-160H400v160Zm0 220h160v-160H400v160ZM180-400h160v-160H180v160Zm440 0h160v-160H620v160ZM180-180h160v-160H180v160Zm440 0h160v-160H620v160Z\"/>\n",
              "  </svg>\n",
              "    </button>\n",
              "\n",
              "  <style>\n",
              "    .colab-df-container {\n",
              "      display:flex;\n",
              "      gap: 12px;\n",
              "    }\n",
              "\n",
              "    .colab-df-convert {\n",
              "      background-color: #E8F0FE;\n",
              "      border: none;\n",
              "      border-radius: 50%;\n",
              "      cursor: pointer;\n",
              "      display: none;\n",
              "      fill: #1967D2;\n",
              "      height: 32px;\n",
              "      padding: 0 0 0 0;\n",
              "      width: 32px;\n",
              "    }\n",
              "\n",
              "    .colab-df-convert:hover {\n",
              "      background-color: #E2EBFA;\n",
              "      box-shadow: 0px 1px 2px rgba(60, 64, 67, 0.3), 0px 1px 3px 1px rgba(60, 64, 67, 0.15);\n",
              "      fill: #174EA6;\n",
              "    }\n",
              "\n",
              "    .colab-df-buttons div {\n",
              "      margin-bottom: 4px;\n",
              "    }\n",
              "\n",
              "    [theme=dark] .colab-df-convert {\n",
              "      background-color: #3B4455;\n",
              "      fill: #D2E3FC;\n",
              "    }\n",
              "\n",
              "    [theme=dark] .colab-df-convert:hover {\n",
              "      background-color: #434B5C;\n",
              "      box-shadow: 0px 1px 3px 1px rgba(0, 0, 0, 0.15);\n",
              "      filter: drop-shadow(0px 1px 2px rgba(0, 0, 0, 0.3));\n",
              "      fill: #FFFFFF;\n",
              "    }\n",
              "  </style>\n",
              "\n",
              "    <script>\n",
              "      const buttonEl =\n",
              "        document.querySelector('#df-dc19881d-d677-41dc-8763-9e820613ced1 button.colab-df-convert');\n",
              "      buttonEl.style.display =\n",
              "        google.colab.kernel.accessAllowed ? 'block' : 'none';\n",
              "\n",
              "      async function convertToInteractive(key) {\n",
              "        const element = document.querySelector('#df-dc19881d-d677-41dc-8763-9e820613ced1');\n",
              "        const dataTable =\n",
              "          await google.colab.kernel.invokeFunction('convertToInteractive',\n",
              "                                                    [key], {});\n",
              "        if (!dataTable) return;\n",
              "\n",
              "        const docLinkHtml = 'Like what you see? Visit the ' +\n",
              "          '<a target=\"_blank\" href=https://colab.research.google.com/notebooks/data_table.ipynb>data table notebook</a>'\n",
              "          + ' to learn more about interactive tables.';\n",
              "        element.innerHTML = '';\n",
              "        dataTable['output_type'] = 'display_data';\n",
              "        await google.colab.output.renderOutput(dataTable, element);\n",
              "        const docLink = document.createElement('div');\n",
              "        docLink.innerHTML = docLinkHtml;\n",
              "        element.appendChild(docLink);\n",
              "      }\n",
              "    </script>\n",
              "  </div>\n",
              "\n",
              "\n",
              "<div id=\"df-70c8aaf2-395e-4121-ba6a-f83d3bd7fbc8\">\n",
              "  <button class=\"colab-df-quickchart\" onclick=\"quickchart('df-70c8aaf2-395e-4121-ba6a-f83d3bd7fbc8')\"\n",
              "            title=\"Suggest charts\"\n",
              "            style=\"display:none;\">\n",
              "\n",
              "<svg xmlns=\"http://www.w3.org/2000/svg\" height=\"24px\"viewBox=\"0 0 24 24\"\n",
              "     width=\"24px\">\n",
              "    <g>\n",
              "        <path d=\"M19 3H5c-1.1 0-2 .9-2 2v14c0 1.1.9 2 2 2h14c1.1 0 2-.9 2-2V5c0-1.1-.9-2-2-2zM9 17H7v-7h2v7zm4 0h-2V7h2v10zm4 0h-2v-4h2v4z\"/>\n",
              "    </g>\n",
              "</svg>\n",
              "  </button>\n",
              "\n",
              "<style>\n",
              "  .colab-df-quickchart {\n",
              "      --bg-color: #E8F0FE;\n",
              "      --fill-color: #1967D2;\n",
              "      --hover-bg-color: #E2EBFA;\n",
              "      --hover-fill-color: #174EA6;\n",
              "      --disabled-fill-color: #AAA;\n",
              "      --disabled-bg-color: #DDD;\n",
              "  }\n",
              "\n",
              "  [theme=dark] .colab-df-quickchart {\n",
              "      --bg-color: #3B4455;\n",
              "      --fill-color: #D2E3FC;\n",
              "      --hover-bg-color: #434B5C;\n",
              "      --hover-fill-color: #FFFFFF;\n",
              "      --disabled-bg-color: #3B4455;\n",
              "      --disabled-fill-color: #666;\n",
              "  }\n",
              "\n",
              "  .colab-df-quickchart {\n",
              "    background-color: var(--bg-color);\n",
              "    border: none;\n",
              "    border-radius: 50%;\n",
              "    cursor: pointer;\n",
              "    display: none;\n",
              "    fill: var(--fill-color);\n",
              "    height: 32px;\n",
              "    padding: 0;\n",
              "    width: 32px;\n",
              "  }\n",
              "\n",
              "  .colab-df-quickchart:hover {\n",
              "    background-color: var(--hover-bg-color);\n",
              "    box-shadow: 0 1px 2px rgba(60, 64, 67, 0.3), 0 1px 3px 1px rgba(60, 64, 67, 0.15);\n",
              "    fill: var(--button-hover-fill-color);\n",
              "  }\n",
              "\n",
              "  .colab-df-quickchart-complete:disabled,\n",
              "  .colab-df-quickchart-complete:disabled:hover {\n",
              "    background-color: var(--disabled-bg-color);\n",
              "    fill: var(--disabled-fill-color);\n",
              "    box-shadow: none;\n",
              "  }\n",
              "\n",
              "  .colab-df-spinner {\n",
              "    border: 2px solid var(--fill-color);\n",
              "    border-color: transparent;\n",
              "    border-bottom-color: var(--fill-color);\n",
              "    animation:\n",
              "      spin 1s steps(1) infinite;\n",
              "  }\n",
              "\n",
              "  @keyframes spin {\n",
              "    0% {\n",
              "      border-color: transparent;\n",
              "      border-bottom-color: var(--fill-color);\n",
              "      border-left-color: var(--fill-color);\n",
              "    }\n",
              "    20% {\n",
              "      border-color: transparent;\n",
              "      border-left-color: var(--fill-color);\n",
              "      border-top-color: var(--fill-color);\n",
              "    }\n",
              "    30% {\n",
              "      border-color: transparent;\n",
              "      border-left-color: var(--fill-color);\n",
              "      border-top-color: var(--fill-color);\n",
              "      border-right-color: var(--fill-color);\n",
              "    }\n",
              "    40% {\n",
              "      border-color: transparent;\n",
              "      border-right-color: var(--fill-color);\n",
              "      border-top-color: var(--fill-color);\n",
              "    }\n",
              "    60% {\n",
              "      border-color: transparent;\n",
              "      border-right-color: var(--fill-color);\n",
              "    }\n",
              "    80% {\n",
              "      border-color: transparent;\n",
              "      border-right-color: var(--fill-color);\n",
              "      border-bottom-color: var(--fill-color);\n",
              "    }\n",
              "    90% {\n",
              "      border-color: transparent;\n",
              "      border-bottom-color: var(--fill-color);\n",
              "    }\n",
              "  }\n",
              "</style>\n",
              "\n",
              "  <script>\n",
              "    async function quickchart(key) {\n",
              "      const quickchartButtonEl =\n",
              "        document.querySelector('#' + key + ' button');\n",
              "      quickchartButtonEl.disabled = true;  // To prevent multiple clicks.\n",
              "      quickchartButtonEl.classList.add('colab-df-spinner');\n",
              "      try {\n",
              "        const charts = await google.colab.kernel.invokeFunction(\n",
              "            'suggestCharts', [key], {});\n",
              "      } catch (error) {\n",
              "        console.error('Error during call to suggestCharts:', error);\n",
              "      }\n",
              "      quickchartButtonEl.classList.remove('colab-df-spinner');\n",
              "      quickchartButtonEl.classList.add('colab-df-quickchart-complete');\n",
              "    }\n",
              "    (() => {\n",
              "      let quickchartButtonEl =\n",
              "        document.querySelector('#df-70c8aaf2-395e-4121-ba6a-f83d3bd7fbc8 button');\n",
              "      quickchartButtonEl.style.display =\n",
              "        google.colab.kernel.accessAllowed ? 'block' : 'none';\n",
              "    })();\n",
              "  </script>\n",
              "</div>\n",
              "\n",
              "    </div>\n",
              "  </div>\n"
            ],
            "application/vnd.google.colaboratory.intrinsic+json": {
              "type": "dataframe",
              "variable_name": "df",
              "summary": "{\n  \"name\": \"df\",\n  \"rows\": 25,\n  \"fields\": [\n    {\n      \"column\": \"champion\",\n      \"properties\": {\n        \"dtype\": \"category\",\n        \"num_unique_values\": 1,\n        \"samples\": [\n          \"kai sa\"\n        ],\n        \"semantic_type\": \"\",\n        \"description\": \"\"\n      }\n    },\n    {\n      \"column\": \"spell_1\",\n      \"properties\": {\n        \"dtype\": \"category\",\n        \"num_unique_values\": 1,\n        \"samples\": [\n          \"flash\"\n        ],\n        \"semantic_type\": \"\",\n        \"description\": \"\"\n      }\n    },\n    {\n      \"column\": \"spell_2\",\n      \"properties\": {\n        \"dtype\": \"category\",\n        \"num_unique_values\": 5,\n        \"samples\": [\n          \"barrier\"\n        ],\n        \"semantic_type\": \"\",\n        \"description\": \"\"\n      }\n    },\n    {\n      \"column\": \"win / lose (1/0)\",\n      \"properties\": {\n        \"dtype\": \"number\",\n        \"std\": 0,\n        \"min\": 0,\n        \"max\": 1,\n        \"num_unique_values\": 2,\n        \"samples\": [\n          1\n        ],\n        \"semantic_type\": \"\",\n        \"description\": \"\"\n      }\n    },\n    {\n      \"column\": \"durationG(min)\",\n      \"properties\": {\n        \"dtype\": \"number\",\n        \"std\": 5.6879477845704605,\n        \"min\": 17.29,\n        \"max\": 42.09,\n        \"num_unique_values\": 25,\n        \"samples\": [\n          26.59\n        ],\n        \"semantic_type\": \"\",\n        \"description\": \"\"\n      }\n    },\n    {\n      \"column\": \"cs\",\n      \"properties\": {\n        \"dtype\": \"number\",\n        \"std\": 38,\n        \"min\": 130,\n        \"max\": 256,\n        \"num_unique_values\": 22,\n        \"samples\": [\n          157\n        ],\n        \"semantic_type\": \"\",\n        \"description\": \"\"\n      }\n    },\n    {\n      \"column\": \"cs/min\",\n      \"properties\": {\n        \"dtype\": \"number\",\n        \"std\": 1.141785095997783,\n        \"min\": 5.39148,\n        \"max\": 9.60093,\n        \"num_unique_values\": 25,\n        \"samples\": [\n          7.93531\n        ],\n        \"semantic_type\": \"\",\n        \"description\": \"\"\n      }\n    },\n    {\n      \"column\": \"first item\",\n      \"properties\": {\n        \"dtype\": \"category\",\n        \"num_unique_values\": 2,\n        \"samples\": [\n          \"kraken slayer\"\n        ],\n        \"semantic_type\": \"\",\n        \"description\": \"\"\n      }\n    },\n    {\n      \"column\": \"kills\",\n      \"properties\": {\n        \"dtype\": \"number\",\n        \"std\": 5,\n        \"min\": 2,\n        \"max\": 22,\n        \"num_unique_values\": 14,\n        \"samples\": [\n          6\n        ],\n        \"semantic_type\": \"\",\n        \"description\": \"\"\n      }\n    },\n    {\n      \"column\": \"deaths\",\n      \"properties\": {\n        \"dtype\": \"number\",\n        \"std\": 2,\n        \"min\": 0,\n        \"max\": 9,\n        \"num_unique_values\": 9,\n        \"samples\": [\n          0\n        ],\n        \"semantic_type\": \"\",\n        \"description\": \"\"\n      }\n    },\n    {\n      \"column\": \"assists\",\n      \"properties\": {\n        \"dtype\": \"number\",\n        \"std\": 3,\n        \"min\": 1,\n        \"max\": 18,\n        \"num_unique_values\": 12,\n        \"samples\": [\n          10\n        ],\n        \"semantic_type\": \"\",\n        \"description\": \"\"\n      }\n    },\n    {\n      \"column\": \"day_played\",\n      \"properties\": {\n        \"dtype\": \"category\",\n        \"num_unique_values\": 6,\n        \"samples\": [\n          \"domingo\"\n        ],\n        \"semantic_type\": \"\",\n        \"description\": \"\"\n      }\n    }\n  ]\n}"
            }
          },
          "metadata": {},
          "execution_count": 6
        }
      ]
    },
    {
      "cell_type": "code",
      "source": [
        "df.info() # Muestra informacion de mi data set"
      ],
      "metadata": {
        "colab": {
          "base_uri": "https://localhost:8080/"
        },
        "id": "znueJkaAZUVR",
        "outputId": "c1d6ed0d-0614-4651-c372-4f53780a010e"
      },
      "execution_count": 7,
      "outputs": [
        {
          "output_type": "stream",
          "name": "stdout",
          "text": [
            "<class 'pandas.core.frame.DataFrame'>\n",
            "RangeIndex: 25 entries, 0 to 24\n",
            "Data columns (total 12 columns):\n",
            " #   Column            Non-Null Count  Dtype  \n",
            "---  ------            --------------  -----  \n",
            " 0   champion          25 non-null     object \n",
            " 1   spell_1           25 non-null     object \n",
            " 2   spell_2           25 non-null     object \n",
            " 3   win / lose (1/0)  25 non-null     int64  \n",
            " 4   durationG(min)    25 non-null     float64\n",
            " 5   cs                25 non-null     int64  \n",
            " 6   cs/min            25 non-null     float64\n",
            " 7   first item        25 non-null     object \n",
            " 8   kills             25 non-null     int64  \n",
            " 9   deaths            25 non-null     int64  \n",
            " 10  assists           25 non-null     int64  \n",
            " 11  day_played        25 non-null     object \n",
            "dtypes: float64(2), int64(5), object(5)\n",
            "memory usage: 2.5+ KB\n"
          ]
        }
      ]
    },
    {
      "cell_type": "code",
      "source": [
        "df.describe() # Muestra estadisticas de mi data set"
      ],
      "metadata": {
        "colab": {
          "base_uri": "https://localhost:8080/",
          "height": 300
        },
        "id": "oSBCggV1ZjAo",
        "outputId": "3655f2a9-ebae-47f0-8e3e-22e74cfb95b8"
      },
      "execution_count": 8,
      "outputs": [
        {
          "output_type": "execute_result",
          "data": {
            "text/plain": [
              "       win / lose (1/0)  durationG(min)          cs     cs/min      kills  \\\n",
              "count              25.0       25.000000   25.000000  25.000000  25.000000   \n",
              "mean                0.4       27.862000  193.760000   7.048745  10.880000   \n",
              "std                 0.5        5.687948   38.517615   1.141785   5.035871   \n",
              "min                 0.0       17.290000  130.000000   5.391480   2.000000   \n",
              "25%                 0.0       24.250000  166.000000   6.010930   8.000000   \n",
              "50%                 0.0       27.510000  194.000000   7.147320  11.000000   \n",
              "75%                 1.0       31.270000  223.000000   7.935310  13.000000   \n",
              "max                 1.0       42.090000  256.000000   9.600930  22.000000   \n",
              "\n",
              "          deaths    assists  \n",
              "count  25.000000  25.000000  \n",
              "mean    5.080000   6.440000  \n",
              "std     2.289833   3.536477  \n",
              "min     0.000000   1.000000  \n",
              "25%     4.000000   4.000000  \n",
              "50%     5.000000   6.000000  \n",
              "75%     7.000000   8.000000  \n",
              "max     9.000000  18.000000  "
            ],
            "text/html": [
              "\n",
              "  <div id=\"df-16b28df4-c7b9-4435-ba73-2201781ab03f\" class=\"colab-df-container\">\n",
              "    <div>\n",
              "<style scoped>\n",
              "    .dataframe tbody tr th:only-of-type {\n",
              "        vertical-align: middle;\n",
              "    }\n",
              "\n",
              "    .dataframe tbody tr th {\n",
              "        vertical-align: top;\n",
              "    }\n",
              "\n",
              "    .dataframe thead th {\n",
              "        text-align: right;\n",
              "    }\n",
              "</style>\n",
              "<table border=\"1\" class=\"dataframe\">\n",
              "  <thead>\n",
              "    <tr style=\"text-align: right;\">\n",
              "      <th></th>\n",
              "      <th>win / lose (1/0)</th>\n",
              "      <th>durationG(min)</th>\n",
              "      <th>cs</th>\n",
              "      <th>cs/min</th>\n",
              "      <th>kills</th>\n",
              "      <th>deaths</th>\n",
              "      <th>assists</th>\n",
              "    </tr>\n",
              "  </thead>\n",
              "  <tbody>\n",
              "    <tr>\n",
              "      <th>count</th>\n",
              "      <td>25.0</td>\n",
              "      <td>25.000000</td>\n",
              "      <td>25.000000</td>\n",
              "      <td>25.000000</td>\n",
              "      <td>25.000000</td>\n",
              "      <td>25.000000</td>\n",
              "      <td>25.000000</td>\n",
              "    </tr>\n",
              "    <tr>\n",
              "      <th>mean</th>\n",
              "      <td>0.4</td>\n",
              "      <td>27.862000</td>\n",
              "      <td>193.760000</td>\n",
              "      <td>7.048745</td>\n",
              "      <td>10.880000</td>\n",
              "      <td>5.080000</td>\n",
              "      <td>6.440000</td>\n",
              "    </tr>\n",
              "    <tr>\n",
              "      <th>std</th>\n",
              "      <td>0.5</td>\n",
              "      <td>5.687948</td>\n",
              "      <td>38.517615</td>\n",
              "      <td>1.141785</td>\n",
              "      <td>5.035871</td>\n",
              "      <td>2.289833</td>\n",
              "      <td>3.536477</td>\n",
              "    </tr>\n",
              "    <tr>\n",
              "      <th>min</th>\n",
              "      <td>0.0</td>\n",
              "      <td>17.290000</td>\n",
              "      <td>130.000000</td>\n",
              "      <td>5.391480</td>\n",
              "      <td>2.000000</td>\n",
              "      <td>0.000000</td>\n",
              "      <td>1.000000</td>\n",
              "    </tr>\n",
              "    <tr>\n",
              "      <th>25%</th>\n",
              "      <td>0.0</td>\n",
              "      <td>24.250000</td>\n",
              "      <td>166.000000</td>\n",
              "      <td>6.010930</td>\n",
              "      <td>8.000000</td>\n",
              "      <td>4.000000</td>\n",
              "      <td>4.000000</td>\n",
              "    </tr>\n",
              "    <tr>\n",
              "      <th>50%</th>\n",
              "      <td>0.0</td>\n",
              "      <td>27.510000</td>\n",
              "      <td>194.000000</td>\n",
              "      <td>7.147320</td>\n",
              "      <td>11.000000</td>\n",
              "      <td>5.000000</td>\n",
              "      <td>6.000000</td>\n",
              "    </tr>\n",
              "    <tr>\n",
              "      <th>75%</th>\n",
              "      <td>1.0</td>\n",
              "      <td>31.270000</td>\n",
              "      <td>223.000000</td>\n",
              "      <td>7.935310</td>\n",
              "      <td>13.000000</td>\n",
              "      <td>7.000000</td>\n",
              "      <td>8.000000</td>\n",
              "    </tr>\n",
              "    <tr>\n",
              "      <th>max</th>\n",
              "      <td>1.0</td>\n",
              "      <td>42.090000</td>\n",
              "      <td>256.000000</td>\n",
              "      <td>9.600930</td>\n",
              "      <td>22.000000</td>\n",
              "      <td>9.000000</td>\n",
              "      <td>18.000000</td>\n",
              "    </tr>\n",
              "  </tbody>\n",
              "</table>\n",
              "</div>\n",
              "    <div class=\"colab-df-buttons\">\n",
              "\n",
              "  <div class=\"colab-df-container\">\n",
              "    <button class=\"colab-df-convert\" onclick=\"convertToInteractive('df-16b28df4-c7b9-4435-ba73-2201781ab03f')\"\n",
              "            title=\"Convert this dataframe to an interactive table.\"\n",
              "            style=\"display:none;\">\n",
              "\n",
              "  <svg xmlns=\"http://www.w3.org/2000/svg\" height=\"24px\" viewBox=\"0 -960 960 960\">\n",
              "    <path d=\"M120-120v-720h720v720H120Zm60-500h600v-160H180v160Zm220 220h160v-160H400v160Zm0 220h160v-160H400v160ZM180-400h160v-160H180v160Zm440 0h160v-160H620v160ZM180-180h160v-160H180v160Zm440 0h160v-160H620v160Z\"/>\n",
              "  </svg>\n",
              "    </button>\n",
              "\n",
              "  <style>\n",
              "    .colab-df-container {\n",
              "      display:flex;\n",
              "      gap: 12px;\n",
              "    }\n",
              "\n",
              "    .colab-df-convert {\n",
              "      background-color: #E8F0FE;\n",
              "      border: none;\n",
              "      border-radius: 50%;\n",
              "      cursor: pointer;\n",
              "      display: none;\n",
              "      fill: #1967D2;\n",
              "      height: 32px;\n",
              "      padding: 0 0 0 0;\n",
              "      width: 32px;\n",
              "    }\n",
              "\n",
              "    .colab-df-convert:hover {\n",
              "      background-color: #E2EBFA;\n",
              "      box-shadow: 0px 1px 2px rgba(60, 64, 67, 0.3), 0px 1px 3px 1px rgba(60, 64, 67, 0.15);\n",
              "      fill: #174EA6;\n",
              "    }\n",
              "\n",
              "    .colab-df-buttons div {\n",
              "      margin-bottom: 4px;\n",
              "    }\n",
              "\n",
              "    [theme=dark] .colab-df-convert {\n",
              "      background-color: #3B4455;\n",
              "      fill: #D2E3FC;\n",
              "    }\n",
              "\n",
              "    [theme=dark] .colab-df-convert:hover {\n",
              "      background-color: #434B5C;\n",
              "      box-shadow: 0px 1px 3px 1px rgba(0, 0, 0, 0.15);\n",
              "      filter: drop-shadow(0px 1px 2px rgba(0, 0, 0, 0.3));\n",
              "      fill: #FFFFFF;\n",
              "    }\n",
              "  </style>\n",
              "\n",
              "    <script>\n",
              "      const buttonEl =\n",
              "        document.querySelector('#df-16b28df4-c7b9-4435-ba73-2201781ab03f button.colab-df-convert');\n",
              "      buttonEl.style.display =\n",
              "        google.colab.kernel.accessAllowed ? 'block' : 'none';\n",
              "\n",
              "      async function convertToInteractive(key) {\n",
              "        const element = document.querySelector('#df-16b28df4-c7b9-4435-ba73-2201781ab03f');\n",
              "        const dataTable =\n",
              "          await google.colab.kernel.invokeFunction('convertToInteractive',\n",
              "                                                    [key], {});\n",
              "        if (!dataTable) return;\n",
              "\n",
              "        const docLinkHtml = 'Like what you see? Visit the ' +\n",
              "          '<a target=\"_blank\" href=https://colab.research.google.com/notebooks/data_table.ipynb>data table notebook</a>'\n",
              "          + ' to learn more about interactive tables.';\n",
              "        element.innerHTML = '';\n",
              "        dataTable['output_type'] = 'display_data';\n",
              "        await google.colab.output.renderOutput(dataTable, element);\n",
              "        const docLink = document.createElement('div');\n",
              "        docLink.innerHTML = docLinkHtml;\n",
              "        element.appendChild(docLink);\n",
              "      }\n",
              "    </script>\n",
              "  </div>\n",
              "\n",
              "\n",
              "<div id=\"df-8bf71136-cbc1-45e0-ae28-417fe5331ec3\">\n",
              "  <button class=\"colab-df-quickchart\" onclick=\"quickchart('df-8bf71136-cbc1-45e0-ae28-417fe5331ec3')\"\n",
              "            title=\"Suggest charts\"\n",
              "            style=\"display:none;\">\n",
              "\n",
              "<svg xmlns=\"http://www.w3.org/2000/svg\" height=\"24px\"viewBox=\"0 0 24 24\"\n",
              "     width=\"24px\">\n",
              "    <g>\n",
              "        <path d=\"M19 3H5c-1.1 0-2 .9-2 2v14c0 1.1.9 2 2 2h14c1.1 0 2-.9 2-2V5c0-1.1-.9-2-2-2zM9 17H7v-7h2v7zm4 0h-2V7h2v10zm4 0h-2v-4h2v4z\"/>\n",
              "    </g>\n",
              "</svg>\n",
              "  </button>\n",
              "\n",
              "<style>\n",
              "  .colab-df-quickchart {\n",
              "      --bg-color: #E8F0FE;\n",
              "      --fill-color: #1967D2;\n",
              "      --hover-bg-color: #E2EBFA;\n",
              "      --hover-fill-color: #174EA6;\n",
              "      --disabled-fill-color: #AAA;\n",
              "      --disabled-bg-color: #DDD;\n",
              "  }\n",
              "\n",
              "  [theme=dark] .colab-df-quickchart {\n",
              "      --bg-color: #3B4455;\n",
              "      --fill-color: #D2E3FC;\n",
              "      --hover-bg-color: #434B5C;\n",
              "      --hover-fill-color: #FFFFFF;\n",
              "      --disabled-bg-color: #3B4455;\n",
              "      --disabled-fill-color: #666;\n",
              "  }\n",
              "\n",
              "  .colab-df-quickchart {\n",
              "    background-color: var(--bg-color);\n",
              "    border: none;\n",
              "    border-radius: 50%;\n",
              "    cursor: pointer;\n",
              "    display: none;\n",
              "    fill: var(--fill-color);\n",
              "    height: 32px;\n",
              "    padding: 0;\n",
              "    width: 32px;\n",
              "  }\n",
              "\n",
              "  .colab-df-quickchart:hover {\n",
              "    background-color: var(--hover-bg-color);\n",
              "    box-shadow: 0 1px 2px rgba(60, 64, 67, 0.3), 0 1px 3px 1px rgba(60, 64, 67, 0.15);\n",
              "    fill: var(--button-hover-fill-color);\n",
              "  }\n",
              "\n",
              "  .colab-df-quickchart-complete:disabled,\n",
              "  .colab-df-quickchart-complete:disabled:hover {\n",
              "    background-color: var(--disabled-bg-color);\n",
              "    fill: var(--disabled-fill-color);\n",
              "    box-shadow: none;\n",
              "  }\n",
              "\n",
              "  .colab-df-spinner {\n",
              "    border: 2px solid var(--fill-color);\n",
              "    border-color: transparent;\n",
              "    border-bottom-color: var(--fill-color);\n",
              "    animation:\n",
              "      spin 1s steps(1) infinite;\n",
              "  }\n",
              "\n",
              "  @keyframes spin {\n",
              "    0% {\n",
              "      border-color: transparent;\n",
              "      border-bottom-color: var(--fill-color);\n",
              "      border-left-color: var(--fill-color);\n",
              "    }\n",
              "    20% {\n",
              "      border-color: transparent;\n",
              "      border-left-color: var(--fill-color);\n",
              "      border-top-color: var(--fill-color);\n",
              "    }\n",
              "    30% {\n",
              "      border-color: transparent;\n",
              "      border-left-color: var(--fill-color);\n",
              "      border-top-color: var(--fill-color);\n",
              "      border-right-color: var(--fill-color);\n",
              "    }\n",
              "    40% {\n",
              "      border-color: transparent;\n",
              "      border-right-color: var(--fill-color);\n",
              "      border-top-color: var(--fill-color);\n",
              "    }\n",
              "    60% {\n",
              "      border-color: transparent;\n",
              "      border-right-color: var(--fill-color);\n",
              "    }\n",
              "    80% {\n",
              "      border-color: transparent;\n",
              "      border-right-color: var(--fill-color);\n",
              "      border-bottom-color: var(--fill-color);\n",
              "    }\n",
              "    90% {\n",
              "      border-color: transparent;\n",
              "      border-bottom-color: var(--fill-color);\n",
              "    }\n",
              "  }\n",
              "</style>\n",
              "\n",
              "  <script>\n",
              "    async function quickchart(key) {\n",
              "      const quickchartButtonEl =\n",
              "        document.querySelector('#' + key + ' button');\n",
              "      quickchartButtonEl.disabled = true;  // To prevent multiple clicks.\n",
              "      quickchartButtonEl.classList.add('colab-df-spinner');\n",
              "      try {\n",
              "        const charts = await google.colab.kernel.invokeFunction(\n",
              "            'suggestCharts', [key], {});\n",
              "      } catch (error) {\n",
              "        console.error('Error during call to suggestCharts:', error);\n",
              "      }\n",
              "      quickchartButtonEl.classList.remove('colab-df-spinner');\n",
              "      quickchartButtonEl.classList.add('colab-df-quickchart-complete');\n",
              "    }\n",
              "    (() => {\n",
              "      let quickchartButtonEl =\n",
              "        document.querySelector('#df-8bf71136-cbc1-45e0-ae28-417fe5331ec3 button');\n",
              "      quickchartButtonEl.style.display =\n",
              "        google.colab.kernel.accessAllowed ? 'block' : 'none';\n",
              "    })();\n",
              "  </script>\n",
              "</div>\n",
              "\n",
              "    </div>\n",
              "  </div>\n"
            ],
            "application/vnd.google.colaboratory.intrinsic+json": {
              "type": "dataframe",
              "summary": "{\n  \"name\": \"df\",\n  \"rows\": 8,\n  \"fields\": [\n    {\n      \"column\": \"win / lose (1/0)\",\n      \"properties\": {\n        \"dtype\": \"number\",\n        \"std\": 8.702288286914621,\n        \"min\": 0.0,\n        \"max\": 25.0,\n        \"num_unique_values\": 5,\n        \"samples\": [\n          0.4,\n          1.0,\n          0.5\n        ],\n        \"semantic_type\": \"\",\n        \"description\": \"\"\n      }\n    },\n    {\n      \"column\": \"durationG(min)\",\n      \"properties\": {\n        \"dtype\": \"number\",\n        \"std\": 10.547301058313039,\n        \"min\": 5.6879477845704605,\n        \"max\": 42.09,\n        \"num_unique_values\": 8,\n        \"samples\": [\n          27.862000000000002,\n          27.51,\n          25.0\n        ],\n        \"semantic_type\": \"\",\n        \"description\": \"\"\n      }\n    },\n    {\n      \"column\": \"cs\",\n      \"properties\": {\n        \"dtype\": \"number\",\n        \"std\": 83.69924528582764,\n        \"min\": 25.0,\n        \"max\": 256.0,\n        \"num_unique_values\": 8,\n        \"samples\": [\n          193.76,\n          194.0,\n          25.0\n        ],\n        \"semantic_type\": \"\",\n        \"description\": \"\"\n      }\n    },\n    {\n      \"column\": \"cs/min\",\n      \"properties\": {\n        \"dtype\": \"number\",\n        \"std\": 7.045918956892169,\n        \"min\": 1.141785095997783,\n        \"max\": 25.0,\n        \"num_unique_values\": 8,\n        \"samples\": [\n          7.048744800000001,\n          7.14732,\n          25.0\n        ],\n        \"semantic_type\": \"\",\n        \"description\": \"\"\n      }\n    },\n    {\n      \"column\": \"kills\",\n      \"properties\": {\n        \"dtype\": \"number\",\n        \"std\": 7.897998260583083,\n        \"min\": 2.0,\n        \"max\": 25.0,\n        \"num_unique_values\": 8,\n        \"samples\": [\n          10.88,\n          11.0,\n          25.0\n        ],\n        \"semantic_type\": \"\",\n        \"description\": \"\"\n      }\n    },\n    {\n      \"column\": \"deaths\",\n      \"properties\": {\n        \"dtype\": \"number\",\n        \"std\": 7.705633577109609,\n        \"min\": 0.0,\n        \"max\": 25.0,\n        \"num_unique_values\": 8,\n        \"samples\": [\n          5.08,\n          5.0,\n          25.0\n        ],\n        \"semantic_type\": \"\",\n        \"description\": \"\"\n      }\n    },\n    {\n      \"column\": \"assists\",\n      \"properties\": {\n        \"dtype\": \"number\",\n        \"std\": 8.215000381622554,\n        \"min\": 1.0,\n        \"max\": 25.0,\n        \"num_unique_values\": 8,\n        \"samples\": [\n          6.44,\n          6.0,\n          25.0\n        ],\n        \"semantic_type\": \"\",\n        \"description\": \"\"\n      }\n    }\n  ]\n}"
            }
          },
          "metadata": {},
          "execution_count": 8
        }
      ]
    },
    {
      "cell_type": "code",
      "source": [
        "print(f'This has {len(df.columns)} categories:')\n",
        "stra = ''\n",
        "howManyBySide = 6\n",
        "for i in range(len(df.columns)):\n",
        "  stra += df.columns[i] + ', '\n",
        "  if (i + 1) % howManyBySide == 0:\n",
        "    stra += '\\n'\n",
        "print(stra)"
      ],
      "metadata": {
        "colab": {
          "base_uri": "https://localhost:8080/"
        },
        "id": "kCCtQx3dzIwx",
        "outputId": "934eb026-994e-47c8-9b0a-1db5dea9d5f0"
      },
      "execution_count": 9,
      "outputs": [
        {
          "output_type": "stream",
          "name": "stdout",
          "text": [
            "This has 12 categories:\n",
            "champion, spell_1, spell_2, win / lose (1/0), durationG(min), cs, \n",
            "cs/min, first item, kills, deaths, assists, day_played, \n",
            "\n"
          ]
        }
      ]
    },
    {
      "cell_type": "code",
      "source": [
        "print(f'this dataset has {df.shape[1]} columns and {df.shape[0]} rows') # Mostramos cantidad de filas y columnas"
      ],
      "metadata": {
        "colab": {
          "base_uri": "https://localhost:8080/"
        },
        "id": "wB7qx4bg1E57",
        "outputId": "ed2043de-33d2-403b-9bff-844a26b5d9a2"
      },
      "execution_count": 10,
      "outputs": [
        {
          "output_type": "stream",
          "name": "stdout",
          "text": [
            "this dataset has 12 columns and 25 rows\n"
          ]
        }
      ]
    },
    {
      "cell_type": "code",
      "source": [
        "winRate = df['win / lose (1/0)'].value_counts()\n",
        "winRate # Cuento especificamente la cantidad de victorias y derrotas  (0 = derrota; 1 = victoria)"
      ],
      "metadata": {
        "colab": {
          "base_uri": "https://localhost:8080/",
          "height": 178
        },
        "id": "35mpPwDhIqzj",
        "outputId": "246f0020-9f9f-4d6a-838f-beb8fbf93c5b"
      },
      "execution_count": 11,
      "outputs": [
        {
          "output_type": "execute_result",
          "data": {
            "text/plain": [
              "win / lose (1/0)\n",
              "0    15\n",
              "1    10\n",
              "Name: count, dtype: int64"
            ],
            "text/html": [
              "<div>\n",
              "<style scoped>\n",
              "    .dataframe tbody tr th:only-of-type {\n",
              "        vertical-align: middle;\n",
              "    }\n",
              "\n",
              "    .dataframe tbody tr th {\n",
              "        vertical-align: top;\n",
              "    }\n",
              "\n",
              "    .dataframe thead th {\n",
              "        text-align: right;\n",
              "    }\n",
              "</style>\n",
              "<table border=\"1\" class=\"dataframe\">\n",
              "  <thead>\n",
              "    <tr style=\"text-align: right;\">\n",
              "      <th></th>\n",
              "      <th>count</th>\n",
              "    </tr>\n",
              "    <tr>\n",
              "      <th>win / lose (1/0)</th>\n",
              "      <th></th>\n",
              "    </tr>\n",
              "  </thead>\n",
              "  <tbody>\n",
              "    <tr>\n",
              "      <th>0</th>\n",
              "      <td>15</td>\n",
              "    </tr>\n",
              "    <tr>\n",
              "      <th>1</th>\n",
              "      <td>10</td>\n",
              "    </tr>\n",
              "  </tbody>\n",
              "</table>\n",
              "</div><br><label><b>dtype:</b> int64</label>"
            ]
          },
          "metadata": {},
          "execution_count": 11
        }
      ]
    },
    {
      "cell_type": "code",
      "source": [
        "wR= (winRate[1] / winRate.sum()) * 100 # Con esto estoy calculando el porcentaje de victorias\n",
        "print(f'Porcentaje de victorias: {wR:.2f}%')"
      ],
      "metadata": {
        "colab": {
          "base_uri": "https://localhost:8080/"
        },
        "id": "OWIMg9T1I4uf",
        "outputId": "0d96dda5-27bb-4e95-bc47-58e8a3b5042b"
      },
      "execution_count": 12,
      "outputs": [
        {
          "output_type": "stream",
          "name": "stdout",
          "text": [
            "Porcentaje de victorias: 40.00%\n"
          ]
        }
      ]
    },
    {
      "cell_type": "code",
      "source": [
        "dR= (winRate[0] / winRate.sum()) * 100 # Con esto estoy calculando el porcentaje de victorias\n",
        "print(f'Porcentaje de derrotas: {dR:.2f}%')"
      ],
      "metadata": {
        "colab": {
          "base_uri": "https://localhost:8080/"
        },
        "id": "z33dOLBmKZH5",
        "outputId": "e1771ae5-9adc-4bae-e9e4-1527b2370a1a"
      },
      "execution_count": 13,
      "outputs": [
        {
          "output_type": "stream",
          "name": "stdout",
          "text": [
            "Porcentaje de derrotas: 60.00%\n"
          ]
        }
      ]
    },
    {
      "cell_type": "code",
      "source": [
        "df['KDA'] = (df['kills'] + df['assists']) / df['deaths'].replace(0, 1)  # Reemplaza 0 en deaths con un 1\n",
        "print(df[['kills', 'deaths', 'assists', 'KDA']]) #Muestro el KDA\n"
      ],
      "metadata": {
        "colab": {
          "base_uri": "https://localhost:8080/"
        },
        "id": "KKLq3vAUK9wj",
        "outputId": "eda70955-a3db-414d-d58a-7aaa5eb0188a"
      },
      "execution_count": 14,
      "outputs": [
        {
          "output_type": "stream",
          "name": "stdout",
          "text": [
            "    kills  deaths  assists        KDA\n",
            "0       9       9        8   1.888889\n",
            "1      22       8        9   3.875000\n",
            "2      20       4       18   9.500000\n",
            "3       2       7        8   1.428571\n",
            "4       8       3        6   4.666667\n",
            "5       4       1        1   5.000000\n",
            "6      12       7        7   2.714286\n",
            "7      13       4        8   5.250000\n",
            "8      11       6        2   2.166667\n",
            "9      12       7        6   2.571429\n",
            "10      9       7        6   2.142857\n",
            "11      6       1        4  10.000000\n",
            "12      6       4        6   3.000000\n",
            "13      8       0        3  11.000000\n",
            "14     19       8        7   3.250000\n",
            "15     15       5       12   5.400000\n",
            "16     10       5        4   2.800000\n",
            "17     12       5       10   4.400000\n",
            "18     16       6        4   3.333333\n",
            "19      2       6        5   1.166667\n",
            "20     13       7        3   2.285714\n",
            "21     12       5        6   3.600000\n",
            "22     10       5        5   3.000000\n",
            "23     11       3        9   6.666667\n",
            "24     10       4        4   3.500000\n"
          ]
        }
      ]
    },
    {
      "cell_type": "code",
      "source": [
        "np.average(df['KDA'], weights=df['KDA']) #Media ponderada del KDA\n",
        "#"
      ],
      "metadata": {
        "colab": {
          "base_uri": "https://localhost:8080/"
        },
        "id": "hOQkoktBmVVM",
        "outputId": "589492ff-c031-47ce-980b-c655721ac3dd"
      },
      "execution_count": 15,
      "outputs": [
        {
          "output_type": "execute_result",
          "data": {
            "text/plain": [
              "5.752536740170792"
            ]
          },
          "metadata": {},
          "execution_count": 15
        }
      ]
    },
    {
      "cell_type": "code",
      "source": [
        "#Dibujando diagramas de caja de kda\n",
        "ax = (df['KDA']).plot.box(figsize=(2,4))\n",
        "ax.set_ylabel(\"KDA\")"
      ],
      "metadata": {
        "colab": {
          "base_uri": "https://localhost:8080/",
          "height": 385
        },
        "id": "A428avaQCSq-",
        "outputId": "dee127da-ca7d-42d3-94b2-87e7a4197cc2"
      },
      "execution_count": 92,
      "outputs": [
        {
          "output_type": "execute_result",
          "data": {
            "text/plain": [
              "Text(0, 0.5, 'KDA')"
            ]
          },
          "metadata": {},
          "execution_count": 92
        },
        {
          "output_type": "display_data",
          "data": {
            "text/plain": [
              "<Figure size 200x400 with 1 Axes>"
            ],
            "image/png": "[encoded data removed]"
          },
          "metadata": {}
        }
      ]
    },
    {
      "cell_type": "code",
      "source": [
        "# Calculando la tabla de frecuencias de KDA\n",
        "binned_KDA = pd.cut(df[\"KDA\"], 10)  # Agrupar en 10 intervalos\n",
        "frequency_counts = binned_KDA.value_counts()  # Contar las frecuencias\n",
        "\n",
        "print(frequency_counts)"
      ],
      "metadata": {
        "colab": {
          "base_uri": "https://localhost:8080/"
        },
        "id": "-Y4m7NXQCZZz",
        "outputId": "5fc69c9c-c2c4-4a35-9b95-9742bb965d1e"
      },
      "execution_count": 93,
      "outputs": [
        {
          "output_type": "stream",
          "name": "stdout",
          "text": [
            "KDA\n",
            "(2.15, 3.133]      7\n",
            "(3.133, 4.117]     5\n",
            "(1.157, 2.15]      4\n",
            "(4.117, 5.1]       3\n",
            "(5.1, 6.083]       2\n",
            "(9.033, 10.017]    2\n",
            "(6.083, 7.067]     1\n",
            "(10.017, 11.0]     1\n",
            "(7.067, 8.05]      0\n",
            "(8.05, 9.033]      0\n",
            "Name: count, dtype: int64\n"
          ]
        }
      ]
    },
    {
      "cell_type": "code",
      "source": [
        "#Histograma de kda\n",
        "ax = (df.KDA).plot.hist(figsize=(4,4))\n",
        "ax.set_ylabel(\"KDA\")"
      ],
      "metadata": {
        "colab": {
          "base_uri": "https://localhost:8080/",
          "height": 385
        },
        "id": "59kOv9pHDzek",
        "outputId": "bee9f373-0a0c-4410-b05d-98bf0ef59e01"
      },
      "execution_count": 103,
      "outputs": [
        {
          "output_type": "execute_result",
          "data": {
            "text/plain": [
              "Text(0, 0.5, 'KDA')"
            ]
          },
          "metadata": {},
          "execution_count": 103
        },
        {
          "output_type": "display_data",
          "data": {
            "text/plain": [
              "<Figure size 400x400 with 1 Axes>"
            ],
            "image/png": "[encoded data removed]"
          },
          "metadata": {}
        }
      ]
    },
    {
      "cell_type": "code",
      "source": [
        "#Diagrama de dispersión y curva de densidad de KDA\n",
        "ax=df[\"KDA\"].plot.hist(density=True,xlim=[0,12],bins=range(1,12))\n",
        "df[\"KDA\"].plot.density(ax=ax)\n",
        "ax.set_xlabel(\"KDA\")"
      ],
      "metadata": {
        "colab": {
          "base_uri": "https://localhost:8080/",
          "height": 466
        },
        "id": "g-MVuW9oD47o",
        "outputId": "4bb9fb2f-cc3e-47bf-8001-a02781336237"
      },
      "execution_count": 104,
      "outputs": [
        {
          "output_type": "execute_result",
          "data": {
            "text/plain": [
              "Text(0.5, 0, 'KDA')"
            ]
          },
          "metadata": {},
          "execution_count": 104
        },
        {
          "output_type": "display_data",
          "data": {
            "text/plain": [
              "<Figure size 640x480 with 1 Axes>"
            ],
            "image/png": "[encoded data removed]"
          },
          "metadata": {}
        }
      ]
    },
    {
      "cell_type": "code",
      "source": [
        "kda_by_result = df.groupby('win / lose (1/0)')['KDA'].agg(['mean', 'median', 'min', 'max']) #Estoy sacando el promedio (mean) y la mediana (median)\n",
        "print(kda_by_result)"
      ],
      "metadata": {
        "colab": {
          "base_uri": "https://localhost:8080/"
        },
        "id": "Ka9TW9zZMXH6",
        "outputId": "c9ff294f-27d5-490a-b9b3-32cf8b791639"
      },
      "execution_count": 16,
      "outputs": [
        {
          "output_type": "stream",
          "name": "stdout",
          "text": [
            "                      mean    median       min   max\n",
            "win / lose (1/0)                                    \n",
            "0                 2.796005  2.714286  1.166667   5.0\n",
            "1                 6.266667  5.325000  3.250000  11.0\n"
          ]
        }
      ]
    },
    {
      "cell_type": "code",
      "source": [
        "df['kills'].mean() #Promedio de kills\n"
      ],
      "metadata": {
        "colab": {
          "base_uri": "https://localhost:8080/"
        },
        "id": "j4TOhQufjc57",
        "outputId": "1e7f6e2a-7599-4a46-accb-b2c0f1eb654c"
      },
      "execution_count": 17,
      "outputs": [
        {
          "output_type": "execute_result",
          "data": {
            "text/plain": [
              "10.88"
            ]
          },
          "metadata": {},
          "execution_count": 17
        }
      ]
    },
    {
      "cell_type": "code",
      "source": [
        "trim_mean(df.kills,0.1) #quiero contar el 10% de los datos"
      ],
      "metadata": {
        "colab": {
          "base_uri": "https://localhost:8080/"
        },
        "id": "CiyfJpdo4xmi",
        "outputId": "0ed40c33-0f62-4c37-bb23-ba209be97dc9"
      },
      "execution_count": 33,
      "outputs": [
        {
          "output_type": "execute_result",
          "data": {
            "text/plain": [
              "10.761904761904763"
            ]
          },
          "metadata": {},
          "execution_count": 33
        }
      ]
    },
    {
      "cell_type": "code",
      "source": [
        "df['kills'].median() #Mediana de kills"
      ],
      "metadata": {
        "colab": {
          "base_uri": "https://localhost:8080/"
        },
        "id": "PF4vzxy55S5j",
        "outputId": "593582b6-cb51-442b-a4d3-941cd4a3b81d"
      },
      "execution_count": 36,
      "outputs": [
        {
          "output_type": "execute_result",
          "data": {
            "text/plain": [
              "11.0"
            ]
          },
          "metadata": {},
          "execution_count": 36
        }
      ]
    },
    {
      "cell_type": "code",
      "source": [
        "np.average(df['kills'], weights=df['kills']) # Promedio ponderado de kills"
      ],
      "metadata": {
        "colab": {
          "base_uri": "https://localhost:8080/"
        },
        "id": "Q6JxHSe4mdqt",
        "outputId": "987abe89-1dae-471a-9d91-5062aa31baa1"
      },
      "execution_count": 18,
      "outputs": [
        {
          "output_type": "execute_result",
          "data": {
            "text/plain": [
              "13.117647058823529"
            ]
          },
          "metadata": {},
          "execution_count": 18
        }
      ]
    },
    {
      "cell_type": "code",
      "source": [
        "# Calcular la desviación estándar de kills\n",
        "desviacion_estandar_kills = df['kills'].std()\n",
        "print(f'Desviación Estándar de Kills: {desviacion_estandar_kills:.2f}')"
      ],
      "metadata": {
        "colab": {
          "base_uri": "https://localhost:8080/"
        },
        "id": "igLZu3xJ7339",
        "outputId": "cb67b440-0539-4cf0-e8c7-6f9d947e7209"
      },
      "execution_count": 65,
      "outputs": [
        {
          "output_type": "stream",
          "name": "stdout",
          "text": [
            "Desviación Estándar de Kills: 5.04\n"
          ]
        }
      ]
    },
    {
      "cell_type": "code",
      "source": [
        "#Calculando IQR de kills\n",
        "IQR_kills = df.kills.quantile(0.75)-df.kills.quantile(0.25)\n",
        "print(f'IQR de kills: {IQR_kills:.2f}')"
      ],
      "metadata": {
        "colab": {
          "base_uri": "https://localhost:8080/"
        },
        "id": "tYL2bHJU9qBG",
        "outputId": "f3281911-8d1c-412b-ca35-b52526a68a4a"
      },
      "execution_count": 63,
      "outputs": [
        {
          "output_type": "stream",
          "name": "stdout",
          "text": [
            "IQR de kills: 5.00\n"
          ]
        }
      ]
    },
    {
      "cell_type": "code",
      "source": [
        "# Calcular MAD de kills (desviación absoluta mediana de la mediana)\n",
        "mad_kills = robust.scale.mad(df[\"kills\"])\n",
        "print(f'MAD de Kills: {mad_kills:.2f}')"
      ],
      "metadata": {
        "colab": {
          "base_uri": "https://localhost:8080/"
        },
        "id": "cYS_lN9V8nAl",
        "outputId": "c61cf2d4-49ec-43a7-97e7-98a36ca75c95"
      },
      "execution_count": 57,
      "outputs": [
        {
          "output_type": "stream",
          "name": "stdout",
          "text": [
            "MAD de Kills: 2.97\n"
          ]
        }
      ]
    },
    {
      "cell_type": "code",
      "source": [
        "#Calculando percentiles de kills\n",
        "df[\"kills\"].quantile([0.05, 0.25, 0.5, 0.75, 0.95])"
      ],
      "metadata": {
        "colab": {
          "base_uri": "https://localhost:8080/",
          "height": 241
        },
        "id": "dnF76fb__hYs",
        "outputId": "7b90e9c1-32b0-45c6-e054-2543796a6be4"
      },
      "execution_count": 75,
      "outputs": [
        {
          "output_type": "execute_result",
          "data": {
            "text/plain": [
              "0.05     2.4\n",
              "0.25     8.0\n",
              "0.50    11.0\n",
              "0.75    13.0\n",
              "0.95    19.8\n",
              "Name: kills, dtype: float64"
            ],
            "text/html": [
              "<div>\n",
              "<style scoped>\n",
              "    .dataframe tbody tr th:only-of-type {\n",
              "        vertical-align: middle;\n",
              "    }\n",
              "\n",
              "    .dataframe tbody tr th {\n",
              "        vertical-align: top;\n",
              "    }\n",
              "\n",
              "    .dataframe thead th {\n",
              "        text-align: right;\n",
              "    }\n",
              "</style>\n",
              "<table border=\"1\" class=\"dataframe\">\n",
              "  <thead>\n",
              "    <tr style=\"text-align: right;\">\n",
              "      <th></th>\n",
              "      <th>kills</th>\n",
              "    </tr>\n",
              "  </thead>\n",
              "  <tbody>\n",
              "    <tr>\n",
              "      <th>0.05</th>\n",
              "      <td>2.4</td>\n",
              "    </tr>\n",
              "    <tr>\n",
              "      <th>0.25</th>\n",
              "      <td>8.0</td>\n",
              "    </tr>\n",
              "    <tr>\n",
              "      <th>0.50</th>\n",
              "      <td>11.0</td>\n",
              "    </tr>\n",
              "    <tr>\n",
              "      <th>0.75</th>\n",
              "      <td>13.0</td>\n",
              "    </tr>\n",
              "    <tr>\n",
              "      <th>0.95</th>\n",
              "      <td>19.8</td>\n",
              "    </tr>\n",
              "  </tbody>\n",
              "</table>\n",
              "</div><br><label><b>dtype:</b> float64</label>"
            ]
          },
          "metadata": {},
          "execution_count": 75
        }
      ]
    },
    {
      "cell_type": "code",
      "source": [
        "#Dibujando diagramas de caja de kills\n",
        "ax = (df['kills']).plot.box(figsize=(2,4))\n",
        "ax.set_ylabel(\"kills\")"
      ],
      "metadata": {
        "colab": {
          "base_uri": "https://localhost:8080/",
          "height": 385
        },
        "id": "StGIqC06AQVu",
        "outputId": "7a22d176-7ff7-4e95-ef92-e067c2feab7c"
      },
      "execution_count": 84,
      "outputs": [
        {
          "output_type": "execute_result",
          "data": {
            "text/plain": [
              "Text(0, 0.5, 'kills')"
            ]
          },
          "metadata": {},
          "execution_count": 84
        },
        {
          "output_type": "display_data",
          "data": {
            "text/plain": [
              "<Figure size 200x400 with 1 Axes>"
            ],
            "image/png": "[encoded data removed]"
          },
          "metadata": {}
        }
      ]
    },
    {
      "cell_type": "code",
      "source": [
        "# Calculando la tabla de frecuencias de kills\n",
        "binned_kills = pd.cut(df[\"kills\"], 10)  # Agrupar en 10 intervalos\n",
        "frequency_counts = binned_kills.value_counts()  # Contar las frecuencias\n",
        "\n",
        "print(frequency_counts)"
      ],
      "metadata": {
        "colab": {
          "base_uri": "https://localhost:8080/"
        },
        "id": "XICio_LLB55W",
        "outputId": "98fa6416-e3cf-44c2-f668-07c80164c434"
      },
      "execution_count": 91,
      "outputs": [
        {
          "output_type": "stream",
          "name": "stdout",
          "text": [
            "kills\n",
            "(10.0, 12.0]    6\n",
            "(8.0, 10.0]     5\n",
            "(1.98, 4.0]     3\n",
            "(4.0, 6.0]      2\n",
            "(6.0, 8.0]      2\n",
            "(12.0, 14.0]    2\n",
            "(14.0, 16.0]    2\n",
            "(18.0, 20.0]    2\n",
            "(20.0, 22.0]    1\n",
            "(16.0, 18.0]    0\n",
            "Name: count, dtype: int64\n"
          ]
        }
      ]
    },
    {
      "cell_type": "code",
      "source": [
        "#Histograma de kills\n",
        "ax = (df.kills).plot.hist(figsize=(4,4))\n",
        "ax.set_ylabel(\"Kills\")"
      ],
      "metadata": {
        "colab": {
          "base_uri": "https://localhost:8080/",
          "height": 385
        },
        "id": "P7oFDiijDCW3",
        "outputId": "45a65a74-495b-4ad1-8d3d-805bc3015b5d"
      },
      "execution_count": 97,
      "outputs": [
        {
          "output_type": "execute_result",
          "data": {
            "text/plain": [
              "Text(0, 0.5, 'Kills')"
            ]
          },
          "metadata": {},
          "execution_count": 97
        },
        {
          "output_type": "display_data",
          "data": {
            "text/plain": [
              "<Figure size 400x400 with 1 Axes>"
            ],
            "image/png": "[encoded data removed]"
          },
          "metadata": {}
        }
      ]
    },
    {
      "cell_type": "code",
      "source": [
        "#Diagrama de dispersión y curva de densidad de kills\n",
        "ax=df[\"kills\"].plot.hist(density=True,xlim=[0,12],bins=range(1,12))\n",
        "df[\"kills\"].plot.density(ax=ax)\n",
        "ax.set_xlabel(\"Kills\")"
      ],
      "metadata": {
        "colab": {
          "base_uri": "https://localhost:8080/",
          "height": 466
        },
        "id": "wXYLIqKrDIMD",
        "outputId": "279a379f-5128-4636-ee7f-713306c7a1fd"
      },
      "execution_count": 98,
      "outputs": [
        {
          "output_type": "execute_result",
          "data": {
            "text/plain": [
              "Text(0.5, 0, 'Kills')"
            ]
          },
          "metadata": {},
          "execution_count": 98
        },
        {
          "output_type": "display_data",
          "data": {
            "text/plain": [
              "<Figure size 640x480 with 1 Axes>"
            ],
            "image/png": "[encoded data removed]"
          },
          "metadata": {}
        }
      ]
    },
    {
      "cell_type": "code",
      "source": [
        "df['deaths'].mean() #Promedio de muertes"
      ],
      "metadata": {
        "colab": {
          "base_uri": "https://localhost:8080/"
        },
        "id": "5RU_FkWCkilu",
        "outputId": "10b43b9b-a5c5-41d4-cd7c-6d5a092003fc"
      },
      "execution_count": 19,
      "outputs": [
        {
          "output_type": "execute_result",
          "data": {
            "text/plain": [
              "5.08"
            ]
          },
          "metadata": {},
          "execution_count": 19
        }
      ]
    },
    {
      "cell_type": "code",
      "source": [
        "trim_mean(df.deaths,0.1) #quiero contar el 10% de los datos"
      ],
      "metadata": {
        "colab": {
          "base_uri": "https://localhost:8080/"
        },
        "id": "BgJoPDK443ud",
        "outputId": "3d34ffae-da47-4c7e-c943-58b149f85e05"
      },
      "execution_count": 34,
      "outputs": [
        {
          "output_type": "execute_result",
          "data": {
            "text/plain": [
              "5.190476190476191"
            ]
          },
          "metadata": {},
          "execution_count": 34
        }
      ]
    },
    {
      "cell_type": "code",
      "source": [
        "df['deaths'].median() #Mediana de muertes"
      ],
      "metadata": {
        "colab": {
          "base_uri": "https://localhost:8080/"
        },
        "id": "ZqzWPtE65XYY",
        "outputId": "0ccd4a05-8775-4b00-f2db-fc8a3d34b64c"
      },
      "execution_count": 37,
      "outputs": [
        {
          "output_type": "execute_result",
          "data": {
            "text/plain": [
              "5.0"
            ]
          },
          "metadata": {},
          "execution_count": 37
        }
      ]
    },
    {
      "cell_type": "code",
      "source": [
        "np.average(df['deaths'], weights=df['deaths']) #Promedio ponderado de muertes\n",
        "#"
      ],
      "metadata": {
        "colab": {
          "base_uri": "https://localhost:8080/"
        },
        "id": "r7PXrU2HmeKA",
        "outputId": "402036ab-10b1-4b46-89e5-faeba3ec30ee"
      },
      "execution_count": 20,
      "outputs": [
        {
          "output_type": "execute_result",
          "data": {
            "text/plain": [
              "6.070866141732283"
            ]
          },
          "metadata": {},
          "execution_count": 20
        }
      ]
    },
    {
      "cell_type": "code",
      "source": [
        "# Calcular la desviación estándar de muertes\n",
        "desviacion_estandar_deaths = df['deaths'].std()\n",
        "print(f'Desviación Estándar de muertes: {desviacion_estandar_deaths:.2f}')"
      ],
      "metadata": {
        "colab": {
          "base_uri": "https://localhost:8080/"
        },
        "id": "g0I_f4GM8EUX",
        "outputId": "7ce74396-4dfc-421c-81d3-2fcfead56488"
      },
      "execution_count": 66,
      "outputs": [
        {
          "output_type": "stream",
          "name": "stdout",
          "text": [
            "Desviación Estándar de muertes: 2.29\n"
          ]
        }
      ]
    },
    {
      "cell_type": "code",
      "source": [
        "#Calculando IQR de muertes\n",
        "IQR_deaths = df.deaths.quantile(0.75)-df.deaths.quantile(0.25)\n",
        "print(f'IQR de muertes: {IQR_deaths:.2f}')"
      ],
      "metadata": {
        "colab": {
          "base_uri": "https://localhost:8080/"
        },
        "id": "lA-FKl5u9wZP",
        "outputId": "9425af3c-7849-4c3a-bd0d-bb8a144cb716"
      },
      "execution_count": 64,
      "outputs": [
        {
          "output_type": "stream",
          "name": "stdout",
          "text": [
            "IQR de muertes: 3.00\n"
          ]
        }
      ]
    },
    {
      "cell_type": "code",
      "source": [
        "# Calcular MAD de muertes (desviación absoluta mediana de la mediana)\n",
        "mad_deaths = robust.scale.mad(df[\"deaths\"])\n",
        "print(f'MAD de muertes: {mad_deaths:.2f}')"
      ],
      "metadata": {
        "colab": {
          "base_uri": "https://localhost:8080/"
        },
        "id": "U_q9uccV9FSN",
        "outputId": "b63b1416-3c5c-447c-f70e-d7a1876bbf2b"
      },
      "execution_count": 58,
      "outputs": [
        {
          "output_type": "stream",
          "name": "stdout",
          "text": [
            "MAD de muertes: 2.97\n"
          ]
        }
      ]
    },
    {
      "cell_type": "code",
      "source": [
        "#Calculando percentiles de muertes\n",
        "df[\"deaths\"].quantile([0.05, 0.25, 0.5, 0.75, 0.95])"
      ],
      "metadata": {
        "colab": {
          "base_uri": "https://localhost:8080/",
          "height": 241
        },
        "id": "CPOuPmYI_mFc",
        "outputId": "15c6bd87-9fba-4204-ca9b-73091cd4177f"
      },
      "execution_count": 76,
      "outputs": [
        {
          "output_type": "execute_result",
          "data": {
            "text/plain": [
              "0.05    1.0\n",
              "0.25    4.0\n",
              "0.50    5.0\n",
              "0.75    7.0\n",
              "0.95    8.0\n",
              "Name: deaths, dtype: float64"
            ],
            "text/html": [
              "<div>\n",
              "<style scoped>\n",
              "    .dataframe tbody tr th:only-of-type {\n",
              "        vertical-align: middle;\n",
              "    }\n",
              "\n",
              "    .dataframe tbody tr th {\n",
              "        vertical-align: top;\n",
              "    }\n",
              "\n",
              "    .dataframe thead th {\n",
              "        text-align: right;\n",
              "    }\n",
              "</style>\n",
              "<table border=\"1\" class=\"dataframe\">\n",
              "  <thead>\n",
              "    <tr style=\"text-align: right;\">\n",
              "      <th></th>\n",
              "      <th>deaths</th>\n",
              "    </tr>\n",
              "  </thead>\n",
              "  <tbody>\n",
              "    <tr>\n",
              "      <th>0.05</th>\n",
              "      <td>1.0</td>\n",
              "    </tr>\n",
              "    <tr>\n",
              "      <th>0.25</th>\n",
              "      <td>4.0</td>\n",
              "    </tr>\n",
              "    <tr>\n",
              "      <th>0.50</th>\n",
              "      <td>5.0</td>\n",
              "    </tr>\n",
              "    <tr>\n",
              "      <th>0.75</th>\n",
              "      <td>7.0</td>\n",
              "    </tr>\n",
              "    <tr>\n",
              "      <th>0.95</th>\n",
              "      <td>8.0</td>\n",
              "    </tr>\n",
              "  </tbody>\n",
              "</table>\n",
              "</div><br><label><b>dtype:</b> float64</label>"
            ]
          },
          "metadata": {},
          "execution_count": 76
        }
      ]
    },
    {
      "cell_type": "code",
      "source": [
        "#Dibujando diagramas de caja de muertes\n",
        "ax = (df['deaths']).plot.box(figsize=(2,4))\n",
        "ax.set_ylabel(\"muertes\")"
      ],
      "metadata": {
        "colab": {
          "base_uri": "https://localhost:8080/",
          "height": 385
        },
        "id": "s3uMFk6uALwX",
        "outputId": "f800256a-77bc-4775-abac-e907aa17ab1c"
      },
      "execution_count": 83,
      "outputs": [
        {
          "output_type": "execute_result",
          "data": {
            "text/plain": [
              "Text(0, 0.5, 'muertes')"
            ]
          },
          "metadata": {},
          "execution_count": 83
        },
        {
          "output_type": "display_data",
          "data": {
            "text/plain": [
              "<Figure size 200x400 with 1 Axes>"
            ],
            "image/png": "[encoded data removed]"
          },
          "metadata": {}
        }
      ]
    },
    {
      "cell_type": "code",
      "source": [
        "# Calculando la tabla de frecuencias de muertes\n",
        "binned_deaths = pd.cut(df[\"deaths\"], 10)  # Agrupar en 10 intervalos\n",
        "frequency_counts = binned_deaths.value_counts()  # Contar las frecuencias\n",
        "\n",
        "print(frequency_counts)"
      ],
      "metadata": {
        "colab": {
          "base_uri": "https://localhost:8080/"
        },
        "id": "yOh3H3PgBvxu",
        "outputId": "8eb40053-065f-4603-82c6-0d4e4f5b7feb"
      },
      "execution_count": 90,
      "outputs": [
        {
          "output_type": "stream",
          "name": "stdout",
          "text": [
            "deaths\n",
            "(4.5, 5.4]       5\n",
            "(6.3, 7.2]       5\n",
            "(3.6, 4.5]       4\n",
            "(5.4, 6.3]       3\n",
            "(0.9, 1.8]       2\n",
            "(2.7, 3.6]       2\n",
            "(7.2, 8.1]       2\n",
            "(-0.009, 0.9]    1\n",
            "(8.1, 9.0]       1\n",
            "(1.8, 2.7]       0\n",
            "Name: count, dtype: int64\n"
          ]
        }
      ]
    },
    {
      "cell_type": "code",
      "source": [
        "#Histograma de muertes\n",
        "ax = (df.deaths).plot.hist(figsize=(4,4))\n",
        "ax.set_ylabel(\"muertes\")"
      ],
      "metadata": {
        "colab": {
          "base_uri": "https://localhost:8080/",
          "height": 385
        },
        "id": "Q2v-NPgeDVbw",
        "outputId": "1ea2267e-28bb-48a8-8da7-2d17ce8718db"
      },
      "execution_count": 99,
      "outputs": [
        {
          "output_type": "execute_result",
          "data": {
            "text/plain": [
              "Text(0, 0.5, 'muertes')"
            ]
          },
          "metadata": {},
          "execution_count": 99
        },
        {
          "output_type": "display_data",
          "data": {
            "text/plain": [
              "<Figure size 400x400 with 1 Axes>"
            ],
            "image/png": "[encoded data removed]"
          },
          "metadata": {}
        }
      ]
    },
    {
      "cell_type": "code",
      "source": [
        "#Diagrama de dispersión y curva de densidad de muertes\n",
        "ax=df[\"deaths\"].plot.hist(density=True,xlim=[0,12],bins=range(1,12))\n",
        "df[\"deaths\"].plot.density(ax=ax)\n",
        "ax.set_xlabel(\"muertes\")"
      ],
      "metadata": {
        "colab": {
          "base_uri": "https://localhost:8080/",
          "height": 466
        },
        "id": "k9rPshPADaTB",
        "outputId": "fbba0c9d-96ce-44a3-b548-c55296187348"
      },
      "execution_count": 100,
      "outputs": [
        {
          "output_type": "execute_result",
          "data": {
            "text/plain": [
              "Text(0.5, 0, 'muertes')"
            ]
          },
          "metadata": {},
          "execution_count": 100
        },
        {
          "output_type": "display_data",
          "data": {
            "text/plain": [
              "<Figure size 640x480 with 1 Axes>"
            ],
            "image/png": "[encoded data removed]"
          },
          "metadata": {}
        }
      ]
    },
    {
      "cell_type": "code",
      "source": [
        "df['assists'].mean() #Promedio de asistencias"
      ],
      "metadata": {
        "colab": {
          "base_uri": "https://localhost:8080/"
        },
        "id": "vegH_nxSkq8x",
        "outputId": "fec01bb4-9840-4c59-acab-81b0d837527b"
      },
      "execution_count": 21,
      "outputs": [
        {
          "output_type": "execute_result",
          "data": {
            "text/plain": [
              "6.44"
            ]
          },
          "metadata": {},
          "execution_count": 21
        }
      ]
    },
    {
      "cell_type": "code",
      "source": [
        "trim_mean(df.assists,0.1) #quiero contar el 10% de los datos"
      ],
      "metadata": {
        "colab": {
          "base_uri": "https://localhost:8080/"
        },
        "id": "RbSP6AxK47rl",
        "outputId": "5d4af475-5fba-4411-ed97-6370b607a8fd"
      },
      "execution_count": 35,
      "outputs": [
        {
          "output_type": "execute_result",
          "data": {
            "text/plain": [
              "6.095238095238095"
            ]
          },
          "metadata": {},
          "execution_count": 35
        }
      ]
    },
    {
      "cell_type": "code",
      "source": [
        "df['assists'].median() #Mediana de asistencias"
      ],
      "metadata": {
        "colab": {
          "base_uri": "https://localhost:8080/"
        },
        "id": "_tvcebj95av4",
        "outputId": "77f4d84f-ef08-4b65-8f8d-c9e85c86d11f"
      },
      "execution_count": 39,
      "outputs": [
        {
          "output_type": "execute_result",
          "data": {
            "text/plain": [
              "6.0"
            ]
          },
          "metadata": {},
          "execution_count": 39
        }
      ]
    },
    {
      "cell_type": "code",
      "source": [
        "np.average(df['assists'], weights=df['assists']) #Promedio ponderado de asistencias"
      ],
      "metadata": {
        "colab": {
          "base_uri": "https://localhost:8080/"
        },
        "id": "niYS73Q5met1",
        "outputId": "25f1da62-60aa-44c5-a53c-99eb250ab5ee"
      },
      "execution_count": 22,
      "outputs": [
        {
          "output_type": "execute_result",
          "data": {
            "text/plain": [
              "8.304347826086957"
            ]
          },
          "metadata": {},
          "execution_count": 22
        }
      ]
    },
    {
      "cell_type": "code",
      "source": [
        "# Calcular la desviación estándar de asistencias\n",
        "desviacion_estandar_assists = df['assists'].std()\n",
        "print(f'Desviación Estándar de asistencias: {desviacion_estandar_assists:.2f}')"
      ],
      "metadata": {
        "colab": {
          "base_uri": "https://localhost:8080/"
        },
        "id": "gthwOJSa8K18",
        "outputId": "6c1bab82-effd-4cd1-fb9c-134aac7ec576"
      },
      "execution_count": 67,
      "outputs": [
        {
          "output_type": "stream",
          "name": "stdout",
          "text": [
            "Desviación Estándar de asistencias: 3.54\n"
          ]
        }
      ]
    },
    {
      "cell_type": "code",
      "source": [
        "#Calculando IQR de asistencias\n",
        "IQR_assists = df.assists.quantile(0.75)-df.assists.quantile(0.25)\n",
        "print(f'IQR de asistencias: {IQR_assists:.2f}')"
      ],
      "metadata": {
        "colab": {
          "base_uri": "https://localhost:8080/"
        },
        "id": "PaPH2-HN9XFK",
        "outputId": "7862db44-47e5-4727-d9bd-6d9b098151d1"
      },
      "execution_count": 61,
      "outputs": [
        {
          "output_type": "stream",
          "name": "stdout",
          "text": [
            "IQR de asistencias: 4.00\n"
          ]
        }
      ]
    },
    {
      "cell_type": "code",
      "source": [
        "# Calcular MAD de asistencias (desviación absoluta mediana de la mediana)\n",
        "mad_assists = robust.scale.mad(df[\"assists\"])\n",
        "print(f'MAD de asistencias: {mad_assists:.2f}')"
      ],
      "metadata": {
        "colab": {
          "base_uri": "https://localhost:8080/"
        },
        "id": "MYlMOXBJ9NNe",
        "outputId": "ccd05123-d448-4034-834a-f39190ee2827"
      },
      "execution_count": 59,
      "outputs": [
        {
          "output_type": "stream",
          "name": "stdout",
          "text": [
            "MAD de asistencias: 2.97\n"
          ]
        }
      ]
    },
    {
      "cell_type": "code",
      "source": [
        "#Calculando percentiles de asistencias\n",
        "df[\"assists\"].quantile([0.05, 0.25, 0.5, 0.75, 0.95])"
      ],
      "metadata": {
        "colab": {
          "base_uri": "https://localhost:8080/",
          "height": 241
        },
        "id": "kw9uaM-2_px-",
        "outputId": "14456a35-58f3-49ab-ffee-92d776bea7dc"
      },
      "execution_count": 77,
      "outputs": [
        {
          "output_type": "execute_result",
          "data": {
            "text/plain": [
              "0.05     2.2\n",
              "0.25     4.0\n",
              "0.50     6.0\n",
              "0.75     8.0\n",
              "0.95    11.6\n",
              "Name: assists, dtype: float64"
            ],
            "text/html": [
              "<div>\n",
              "<style scoped>\n",
              "    .dataframe tbody tr th:only-of-type {\n",
              "        vertical-align: middle;\n",
              "    }\n",
              "\n",
              "    .dataframe tbody tr th {\n",
              "        vertical-align: top;\n",
              "    }\n",
              "\n",
              "    .dataframe thead th {\n",
              "        text-align: right;\n",
              "    }\n",
              "</style>\n",
              "<table border=\"1\" class=\"dataframe\">\n",
              "  <thead>\n",
              "    <tr style=\"text-align: right;\">\n",
              "      <th></th>\n",
              "      <th>assists</th>\n",
              "    </tr>\n",
              "  </thead>\n",
              "  <tbody>\n",
              "    <tr>\n",
              "      <th>0.05</th>\n",
              "      <td>2.2</td>\n",
              "    </tr>\n",
              "    <tr>\n",
              "      <th>0.25</th>\n",
              "      <td>4.0</td>\n",
              "    </tr>\n",
              "    <tr>\n",
              "      <th>0.50</th>\n",
              "      <td>6.0</td>\n",
              "    </tr>\n",
              "    <tr>\n",
              "      <th>0.75</th>\n",
              "      <td>8.0</td>\n",
              "    </tr>\n",
              "    <tr>\n",
              "      <th>0.95</th>\n",
              "      <td>11.6</td>\n",
              "    </tr>\n",
              "  </tbody>\n",
              "</table>\n",
              "</div><br><label><b>dtype:</b> float64</label>"
            ]
          },
          "metadata": {},
          "execution_count": 77
        }
      ]
    },
    {
      "cell_type": "code",
      "source": [
        "#Dibujando diagramas de caja de asistencias\n",
        "ax = (df['assists']).plot.box(figsize=(2,4))\n",
        "ax.set_ylabel(\"assists\")"
      ],
      "metadata": {
        "colab": {
          "base_uri": "https://localhost:8080/",
          "height": 385
        },
        "id": "nrXaP1E_AEpN",
        "outputId": "e03cd950-5def-4a47-f101-a3c9f0ed4842"
      },
      "execution_count": 82,
      "outputs": [
        {
          "output_type": "execute_result",
          "data": {
            "text/plain": [
              "Text(0, 0.5, 'assists')"
            ]
          },
          "metadata": {},
          "execution_count": 82
        },
        {
          "output_type": "display_data",
          "data": {
            "text/plain": [
              "<Figure size 200x400 with 1 Axes>"
            ],
            "image/png": "[encoded data removed]"
          },
          "metadata": {}
        }
      ]
    },
    {
      "cell_type": "code",
      "source": [
        "# Calculando la tabla de frecuencias de asistencias\n",
        "binned_assists = pd.cut(df[\"assists\"], 10)  # Agrupar en 10 intervalos\n",
        "frequency_counts = binned_assists.value_counts()  # Contar las frecuencias\n",
        "\n",
        "print(frequency_counts)"
      ],
      "metadata": {
        "colab": {
          "base_uri": "https://localhost:8080/"
        },
        "id": "DygkFNqLBrNZ",
        "outputId": "b0d5f301-b5f5-41b7-dc33-a9a6f799b28c"
      },
      "execution_count": 89,
      "outputs": [
        {
          "output_type": "stream",
          "name": "stdout",
          "text": [
            "assists\n",
            "(4.4, 6.1]      7\n",
            "(2.7, 4.4]      6\n",
            "(7.8, 9.5]      5\n",
            "(0.983, 2.7]    2\n",
            "(6.1, 7.8]      2\n",
            "(9.5, 11.2]     1\n",
            "(11.2, 12.9]    1\n",
            "(16.3, 18.0]    1\n",
            "(12.9, 14.6]    0\n",
            "(14.6, 16.3]    0\n",
            "Name: count, dtype: int64\n"
          ]
        }
      ]
    },
    {
      "cell_type": "code",
      "source": [
        "#Histograma de asistencias\n",
        "ax = (df.assists).plot.hist(figsize=(4,4))\n",
        "ax.set_ylabel(\"asistencias\")"
      ],
      "metadata": {
        "colab": {
          "base_uri": "https://localhost:8080/",
          "height": 385
        },
        "id": "tdImcj9eDjpM",
        "outputId": "6c5f830b-57be-4bba-9bbc-f32d252d79d6"
      },
      "execution_count": 101,
      "outputs": [
        {
          "output_type": "execute_result",
          "data": {
            "text/plain": [
              "Text(0, 0.5, 'asistencias')"
            ]
          },
          "metadata": {},
          "execution_count": 101
        },
        {
          "output_type": "display_data",
          "data": {
            "text/plain": [
              "<Figure size 400x400 with 1 Axes>"
            ],
            "image/png": "[encoded data removed]"
          },
          "metadata": {}
        }
      ]
    },
    {
      "cell_type": "code",
      "source": [
        "#Diagrama de dispersión y curva de densidad de asistencias\n",
        "ax=df[\"assists\"].plot.hist(density=True,xlim=[0,12],bins=range(1,12))\n",
        "df[\"assists\"].plot.density(ax=ax)\n",
        "ax.set_xlabel(\"asistencias\")"
      ],
      "metadata": {
        "colab": {
          "base_uri": "https://localhost:8080/",
          "height": 466
        },
        "id": "pwP6ES4mDofg",
        "outputId": "0d5fd8d2-44a6-4b18-c979-da954727ce57"
      },
      "execution_count": 102,
      "outputs": [
        {
          "output_type": "execute_result",
          "data": {
            "text/plain": [
              "Text(0.5, 0, 'asistencias')"
            ]
          },
          "metadata": {},
          "execution_count": 102
        },
        {
          "output_type": "display_data",
          "data": {
            "text/plain": [
              "<Figure size 640x480 with 1 Axes>"
            ],
            "image/png": "[encoded data removed]"
          },
          "metadata": {}
        }
      ]
    },
    {
      "cell_type": "code",
      "source": [
        "# Grafico usando seaborn\n",
        "plt.figure(figsize=(8, 5)) # Establece el tamaño de la figura a 8 pulgadas de ancho y 5 pulgadas de alto\n",
        "sns.barplot(data=df, x='win / lose (1/0)', y='KDA', hue='win / lose (1/0)', palette=['red', 'green'], errorbar=None, legend=False)# Coloco en X win/lose en Y kda\n",
        "# Hue usa la misma columna para el color de las barras, diferenciando entre victorias y derrotas; palette define los colores para las barras (rojo para derrotas y verde para victorias)\n",
        "plt.xlabel('Resultado de la Partida (0 = Derrota, 1 = Victoria)')\n",
        "plt.ylabel('KDA Promedio')\n",
        "plt.title('KDA Promedio por Resultado de la Partida')\n",
        "plt.xticks(rotation=0)  # Estable la rotacion de las etiquetas del eje X de manera horizontal\n",
        "plt.grid(axis='y', linestyle='--', alpha=0.7) # Añade una cuadrícula horizontal con líneas discontinuas y un 70% de opacidad\n",
        "plt.show()"
      ],
      "metadata": {
        "colab": {
          "base_uri": "https://localhost:8080/",
          "height": 487
        },
        "id": "EfUREi3QMtU2",
        "outputId": "9d40fb43-97d9-4ad6-ddb2-75587d0232f8"
      },
      "execution_count": 23,
      "outputs": [
        {
          "output_type": "display_data",
          "data": {
            "text/plain": [
              "<Figure size 800x500 with 1 Axes>"
            ],
            "image/png": "[encoded data removed]"
          },
          "metadata": {}
        }
      ]
    },
    {
      "cell_type": "code",
      "source": [
        "# Agrupar el DataFrame por el resultado de la partida (win_lose) y calcular las estadísticas de CS para cada grupo\n",
        "cs_by_result = df.groupby('win / lose (1/0)')['cs'].agg(['mean', 'median', 'min', 'max'])\n",
        "print(cs_by_result)"
      ],
      "metadata": {
        "colab": {
          "base_uri": "https://localhost:8080/"
        },
        "id": "AoCL9nvonIZ3",
        "outputId": "d9d778ac-9ae3-4af6-b4df-78aafea2c81c"
      },
      "execution_count": 24,
      "outputs": [
        {
          "output_type": "stream",
          "name": "stdout",
          "text": [
            "                   mean  median  min  max\n",
            "win / lose (1/0)                         \n",
            "0                 195.4   194.0  130  256\n",
            "1                 191.3   188.0  140  229\n"
          ]
        }
      ]
    },
    {
      "cell_type": "code",
      "source": [
        "#FUNCION PARA HALLAR PROMEDIO PONDERADO DEL CS\n",
        "def weighted_average(group):\n",
        "    return np.average(group['cs'], weights=group['cs'])\n",
        "\n",
        "# Aplicar la función al grupo\n",
        "weighted_cs_by_result = df.groupby('win / lose (1/0)').apply(weighted_average).reset_index(name='weighted_average_cs')\n",
        "\n",
        "print(weighted_cs_by_result)"
      ],
      "metadata": {
        "colab": {
          "base_uri": "https://localhost:8080/"
        },
        "id": "jwxPzUPF59z1",
        "outputId": "0f30b3e1-ac36-4eac-84a7-67a7abcc7f02"
      },
      "execution_count": 41,
      "outputs": [
        {
          "output_type": "stream",
          "name": "stdout",
          "text": [
            "   win / lose (1/0)  weighted_average_cs\n",
            "0                 0           204.712044\n",
            "1                 1           195.592786\n"
          ]
        }
      ]
    },
    {
      "cell_type": "code",
      "source": [
        "# Calcular la desviación estándar de cs\n",
        "desviacion_estandar = df['cs'].std()\n",
        "print(f'Desviación Estándar de cs: {desviacion_estandar:.2f}')"
      ],
      "metadata": {
        "colab": {
          "base_uri": "https://localhost:8080/"
        },
        "id": "sG0CLBzA8TmK",
        "outputId": "967fcc41-8f1d-400e-e4f8-a1bf4c3dba14"
      },
      "execution_count": 52,
      "outputs": [
        {
          "output_type": "stream",
          "name": "stdout",
          "text": [
            "Desviación Estándar de cs: 38.52\n"
          ]
        }
      ]
    },
    {
      "cell_type": "code",
      "source": [
        "#Calculando IQR de CS\n",
        "IQR_cs = df.cs.quantile(0.75)-df.cs.quantile(0.25)\n",
        "print(f'IQR de cs: {IQR_cs:.2f}')"
      ],
      "metadata": {
        "colab": {
          "base_uri": "https://localhost:8080/"
        },
        "id": "wHFfTWZu-h3O",
        "outputId": "d180a377-93e8-41aa-c916-2ce13dbc4df4"
      },
      "execution_count": 68,
      "outputs": [
        {
          "output_type": "stream",
          "name": "stdout",
          "text": [
            "IQR de cs: 57.00\n"
          ]
        }
      ]
    },
    {
      "cell_type": "code",
      "source": [
        "# Calcular MAD de cs (desviación absoluta mediana de la mediana)\n",
        "mad_cs = robust.scale.mad(df[\"cs\"])\n",
        "print(f'MAD de cs: {mad_cs:.2f}')"
      ],
      "metadata": {
        "colab": {
          "base_uri": "https://localhost:8080/"
        },
        "id": "k8VFsxSG-iRX",
        "outputId": "371f555c-719d-4c5c-fa18-7318e8c7bebf"
      },
      "execution_count": 69,
      "outputs": [
        {
          "output_type": "stream",
          "name": "stdout",
          "text": [
            "MAD de cs: 43.00\n"
          ]
        }
      ]
    },
    {
      "cell_type": "code",
      "source": [
        "#Calculando percentiles de cs\n",
        "df[\"cs\"].quantile([0.05, 0.25, 0.5, 0.75, 0.95])"
      ],
      "metadata": {
        "colab": {
          "base_uri": "https://localhost:8080/",
          "height": 241
        },
        "id": "DcWhY_Z-_vAn",
        "outputId": "71d84d91-a123-4492-8028-3813d663e8a0"
      },
      "execution_count": 78,
      "outputs": [
        {
          "output_type": "execute_result",
          "data": {
            "text/plain": [
              "0.05    132.0\n",
              "0.25    166.0\n",
              "0.50    194.0\n",
              "0.75    223.0\n",
              "0.95    252.2\n",
              "Name: cs, dtype: float64"
            ],
            "text/html": [
              "<div>\n",
              "<style scoped>\n",
              "    .dataframe tbody tr th:only-of-type {\n",
              "        vertical-align: middle;\n",
              "    }\n",
              "\n",
              "    .dataframe tbody tr th {\n",
              "        vertical-align: top;\n",
              "    }\n",
              "\n",
              "    .dataframe thead th {\n",
              "        text-align: right;\n",
              "    }\n",
              "</style>\n",
              "<table border=\"1\" class=\"dataframe\">\n",
              "  <thead>\n",
              "    <tr style=\"text-align: right;\">\n",
              "      <th></th>\n",
              "      <th>cs</th>\n",
              "    </tr>\n",
              "  </thead>\n",
              "  <tbody>\n",
              "    <tr>\n",
              "      <th>0.05</th>\n",
              "      <td>132.0</td>\n",
              "    </tr>\n",
              "    <tr>\n",
              "      <th>0.25</th>\n",
              "      <td>166.0</td>\n",
              "    </tr>\n",
              "    <tr>\n",
              "      <th>0.50</th>\n",
              "      <td>194.0</td>\n",
              "    </tr>\n",
              "    <tr>\n",
              "      <th>0.75</th>\n",
              "      <td>223.0</td>\n",
              "    </tr>\n",
              "    <tr>\n",
              "      <th>0.95</th>\n",
              "      <td>252.2</td>\n",
              "    </tr>\n",
              "  </tbody>\n",
              "</table>\n",
              "</div><br><label><b>dtype:</b> float64</label>"
            ]
          },
          "metadata": {},
          "execution_count": 78
        }
      ]
    },
    {
      "cell_type": "code",
      "source": [
        "#Dibujando diagramas de caja de cs\n",
        "ax = (df['cs']).plot.box(figsize=(2,4))\n",
        "ax.set_ylabel(\"cs\")"
      ],
      "metadata": {
        "colab": {
          "base_uri": "https://localhost:8080/",
          "height": 386
        },
        "id": "oboCVY52__QW",
        "outputId": "d142aa88-df04-4d8e-9a76-4d8a701ea867"
      },
      "execution_count": 81,
      "outputs": [
        {
          "output_type": "execute_result",
          "data": {
            "text/plain": [
              "Text(0, 0.5, 'cs')"
            ]
          },
          "metadata": {},
          "execution_count": 81
        },
        {
          "output_type": "display_data",
          "data": {
            "text/plain": [
              "<Figure size 200x400 with 1 Axes>"
            ],
            "image/png": "[encoded data removed]"
          },
          "metadata": {}
        }
      ]
    },
    {
      "cell_type": "code",
      "source": [
        "# Calculando la tabla de frecuencias de cs\n",
        "binned_cs = pd.cut(df[\"cs\"], 10)  # Agrupar en 10 intervalos\n",
        "frequency_counts = binned_cs.value_counts()  # Contar las frecuencias\n",
        "\n",
        "print(frequency_counts)"
      ],
      "metadata": {
        "colab": {
          "base_uri": "https://localhost:8080/"
        },
        "id": "UVUzeWW7BmWp",
        "outputId": "589519bb-c93e-4deb-b919-d52432776e39"
      },
      "execution_count": 88,
      "outputs": [
        {
          "output_type": "stream",
          "name": "stdout",
          "text": [
            "cs\n",
            "(155.2, 167.8]      4\n",
            "(193.0, 205.6]      4\n",
            "(218.2, 230.8]      4\n",
            "(243.4, 256.0]      4\n",
            "(129.874, 142.6]    3\n",
            "(167.8, 180.4]      2\n",
            "(205.6, 218.2]      2\n",
            "(142.6, 155.2]      1\n",
            "(180.4, 193.0]      1\n",
            "(230.8, 243.4]      0\n",
            "Name: count, dtype: int64\n"
          ]
        }
      ]
    },
    {
      "cell_type": "code",
      "source": [
        "#Histograma de CS\n",
        "ax = (df.cs).plot.hist(figsize=(4,4))\n",
        "ax.set_ylabel(\"cs\")"
      ],
      "metadata": {
        "colab": {
          "base_uri": "https://localhost:8080/",
          "height": 385
        },
        "id": "qkbsVtPhENS_",
        "outputId": "e7bab571-b284-4a3c-a116-6bdbdf267398"
      },
      "execution_count": 105,
      "outputs": [
        {
          "output_type": "execute_result",
          "data": {
            "text/plain": [
              "Text(0, 0.5, 'cs')"
            ]
          },
          "metadata": {},
          "execution_count": 105
        },
        {
          "output_type": "display_data",
          "data": {
            "text/plain": [
              "<Figure size 400x400 with 1 Axes>"
            ],
            "image/png": "[encoded data removed]"
          },
          "metadata": {}
        }
      ]
    },
    {
      "cell_type": "code",
      "source": [
        "#Diagrama de dispersión y curva de densidad de asistencias\n",
        "fig, ax = plt.subplots(figsize=(8, 6))\n",
        "# Histograma de 'cs'\n",
        "ax.hist(df['cs'], bins=20, density=True, alpha=0.5, color='blue', edgecolor='black')\n",
        "# Curva de densidad de 'cs'\n",
        "sns.kdeplot(df['cs'], ax=ax, fill=True, color='orange')\n",
        "# Configuración del gráfico\n",
        "ax.set_xlabel('cs')\n",
        "ax.set_ylabel('Densidad')\n",
        "ax.set_title('Histograma y Curva de Densidad de CS')\n",
        "# Mostrar el gráfico\n",
        "plt.show()"
      ],
      "metadata": {
        "colab": {
          "base_uri": "https://localhost:8080/",
          "height": 564
        },
        "id": "DGgqJY_OGQzG",
        "outputId": "649b93bc-7986-4f56-a094-4ac5cea2a9f7"
      },
      "execution_count": 121,
      "outputs": [
        {
          "output_type": "display_data",
          "data": {
            "text/plain": [
              "<Figure size 800x600 with 1 Axes>"
            ],
            "image/png": "[encoded data removed]"
          },
          "metadata": {}
        }
      ]
    },
    {
      "cell_type": "code",
      "source": [
        "# Calcular CS por minuto\n",
        "df['cs/min'] = df['cs'] / df['durationG(min)']\n",
        "# Crear una nueva columna para indicar si la partida se ganó o perdió\n",
        "df['win_lose'] = df['win / lose (1/0)']\n",
        "# Agrupar el DataFrame por el resultado de la partida (win_lose) y calcular las estadísticas de CS por minuto para cada grupo\n",
        "csmin_by_result = df.groupby('win_lose')['cs/min'].agg(['mean', 'median', 'min', 'max'])\n",
        "# Imprimir los resultados\n",
        "print(csmin_by_result)"
      ],
      "metadata": {
        "colab": {
          "base_uri": "https://localhost:8080/"
        },
        "id": "Bp_c5r1Lx33J",
        "outputId": "88e6b6ff-5a75-45bf-a057-457c18d3c5f7"
      },
      "execution_count": 25,
      "outputs": [
        {
          "output_type": "stream",
          "name": "stdout",
          "text": [
            "              mean    median       min       max\n",
            "win_lose                                        \n",
            "0         6.868141  6.556701  5.391484  9.067642\n",
            "1         7.319651  7.188512  5.857488  9.600925\n"
          ]
        }
      ]
    },
    {
      "cell_type": "code",
      "source": [
        "#FUNCION PARA HALLAR PROMEDIO PONDERADO DEL CS/MIN\n",
        "def weighted_average(group):\n",
        "    return np.average(group['cs/min'], weights=group['cs/min'])\n",
        "\n",
        "# Aplicar la función al grupo\n",
        "weighted_cs_min_by_result = df.groupby('win / lose (1/0)').apply(weighted_average).reset_index(name='weighted_average_cs/min')\n",
        "\n",
        "print(weighted_cs_min_by_result)"
      ],
      "metadata": {
        "colab": {
          "base_uri": "https://localhost:8080/"
        },
        "id": "uEmfwwT86V7u",
        "outputId": "7efe89ef-ce97-471d-f8e1-f0d4fdb64bb7"
      },
      "execution_count": 43,
      "outputs": [
        {
          "output_type": "stream",
          "name": "stdout",
          "text": [
            "   win / lose (1/0)  weighted_average_cs/min\n",
            "0                 0                 7.031665\n",
            "1                 1                 7.500239\n"
          ]
        }
      ]
    },
    {
      "cell_type": "code",
      "source": [
        "# Calcular la desviación estándar de cs/min\n",
        "desviacion_estandar_cs_min = df['cs/min'].std()\n",
        "print(f'Desviación Estándar de cs/min: {desviacion_estandar_cs_min:.2f}')"
      ],
      "metadata": {
        "colab": {
          "base_uri": "https://localhost:8080/"
        },
        "id": "T5kP0QYV8Ydk",
        "outputId": "d117b12e-bb38-4cd9-98d1-8454863f98f6"
      },
      "execution_count": 70,
      "outputs": [
        {
          "output_type": "stream",
          "name": "stdout",
          "text": [
            "Desviación Estándar de cs/min: 1.14\n"
          ]
        }
      ]
    },
    {
      "cell_type": "code",
      "source": [
        "#Calculando IQR de CS/min\n",
        "IQR_cs_min = df['cs/min'].quantile(0.75)-df['cs/min'].quantile(0.25)\n",
        "print(f'IQR de cs/min: {IQR_cs_min:.2f}')"
      ],
      "metadata": {
        "colab": {
          "base_uri": "https://localhost:8080/"
        },
        "id": "pVNEjgvE-yam",
        "outputId": "9cc1e437-4093-49cd-d052-493f5a8215d1"
      },
      "execution_count": 74,
      "outputs": [
        {
          "output_type": "stream",
          "name": "stdout",
          "text": [
            "IQR de cs/min: 1.92\n"
          ]
        }
      ]
    },
    {
      "cell_type": "code",
      "source": [
        "# Calcular MAD de cs/min (desviación absoluta mediana de la mediana)\n",
        "mad_cs_min = robust.scale.mad(df[\"cs/min\"])\n",
        "print(f'MAD de cs/min: {mad_cs_min:.2f}')"
      ],
      "metadata": {
        "colab": {
          "base_uri": "https://localhost:8080/"
        },
        "id": "t6UWo-dg_BJ2",
        "outputId": "3ecf2381-459f-41cd-90c4-baa4e52d2e48"
      },
      "execution_count": 72,
      "outputs": [
        {
          "output_type": "stream",
          "name": "stdout",
          "text": [
            "MAD de cs/min: 1.40\n"
          ]
        }
      ]
    },
    {
      "cell_type": "code",
      "source": [
        "#Calculando percentiles de cs/min\n",
        "df[\"cs/min\"].quantile([0.05, 0.25, 0.5, 0.75, 0.95])"
      ],
      "metadata": {
        "colab": {
          "base_uri": "https://localhost:8080/",
          "height": 241
        },
        "id": "HN7W0ZBK_ypx",
        "outputId": "0155b5b6-833b-4851-f656-d4bdd9742612"
      },
      "execution_count": 79,
      "outputs": [
        {
          "output_type": "execute_result",
          "data": {
            "text/plain": [
              "0.05    5.631181\n",
              "0.25    6.010929\n",
              "0.50    7.147316\n",
              "0.75    7.935314\n",
              "0.95    8.949502\n",
              "Name: cs/min, dtype: float64"
            ],
            "text/html": [
              "<div>\n",
              "<style scoped>\n",
              "    .dataframe tbody tr th:only-of-type {\n",
              "        vertical-align: middle;\n",
              "    }\n",
              "\n",
              "    .dataframe tbody tr th {\n",
              "        vertical-align: top;\n",
              "    }\n",
              "\n",
              "    .dataframe thead th {\n",
              "        text-align: right;\n",
              "    }\n",
              "</style>\n",
              "<table border=\"1\" class=\"dataframe\">\n",
              "  <thead>\n",
              "    <tr style=\"text-align: right;\">\n",
              "      <th></th>\n",
              "      <th>cs/min</th>\n",
              "    </tr>\n",
              "  </thead>\n",
              "  <tbody>\n",
              "    <tr>\n",
              "      <th>0.05</th>\n",
              "      <td>5.631181</td>\n",
              "    </tr>\n",
              "    <tr>\n",
              "      <th>0.25</th>\n",
              "      <td>6.010929</td>\n",
              "    </tr>\n",
              "    <tr>\n",
              "      <th>0.50</th>\n",
              "      <td>7.147316</td>\n",
              "    </tr>\n",
              "    <tr>\n",
              "      <th>0.75</th>\n",
              "      <td>7.935314</td>\n",
              "    </tr>\n",
              "    <tr>\n",
              "      <th>0.95</th>\n",
              "      <td>8.949502</td>\n",
              "    </tr>\n",
              "  </tbody>\n",
              "</table>\n",
              "</div><br><label><b>dtype:</b> float64</label>"
            ]
          },
          "metadata": {},
          "execution_count": 79
        }
      ]
    },
    {
      "cell_type": "code",
      "source": [
        "#Dibujando diagramas de caja de cs/min\n",
        "ax = (df['cs/min']).plot.box(figsize=(2,4))\n",
        "ax.set_ylabel(\"cs/min\")"
      ],
      "metadata": {
        "colab": {
          "base_uri": "https://localhost:8080/",
          "height": 385
        },
        "id": "nkxEtaka_3pn",
        "outputId": "d4c21365-f208-4751-f0d2-51971d02dfec"
      },
      "execution_count": 80,
      "outputs": [
        {
          "output_type": "execute_result",
          "data": {
            "text/plain": [
              "Text(0, 0.5, 'cs/min')"
            ]
          },
          "metadata": {},
          "execution_count": 80
        },
        {
          "output_type": "display_data",
          "data": {
            "text/plain": [
              "<Figure size 200x400 with 1 Axes>"
            ],
            "image/png": "[encoded data removed]"
          },
          "metadata": {}
        }
      ]
    },
    {
      "cell_type": "code",
      "source": [
        "# Calculando la tabla de frecuencias de cs/min\n",
        "binned_cs_min = pd.cut(df[\"cs/min\"], 10)  # Agrupar en 10 intervalos\n",
        "frequency_counts = binned_cs_min.value_counts()  # Contar las frecuencias\n",
        "\n",
        "print(frequency_counts)"
      ],
      "metadata": {
        "colab": {
          "base_uri": "https://localhost:8080/"
        },
        "id": "A58V5veCAhwL",
        "outputId": "55c5dabd-1d1d-4f7a-92e2-79a9dc5217bb"
      },
      "execution_count": 87,
      "outputs": [
        {
          "output_type": "stream",
          "name": "stdout",
          "text": [
            "cs/min\n",
            "(5.812, 6.233]    5\n",
            "(6.233, 6.654]    4\n",
            "(7.075, 7.496]    4\n",
            "(7.917, 8.338]    4\n",
            "(5.387, 5.812]    3\n",
            "(7.496, 7.917]    2\n",
            "(8.338, 8.759]    1\n",
            "(8.759, 9.18]     1\n",
            "(9.18, 9.601]     1\n",
            "(6.654, 7.075]    0\n",
            "Name: count, dtype: int64\n"
          ]
        }
      ]
    },
    {
      "cell_type": "code",
      "source": [
        "#Histograma de CS/min\n",
        "ax = (df['cs/min']).plot.hist(figsize=(4,4))\n",
        "ax.set_ylabel(\"cs/min\")"
      ],
      "metadata": {
        "colab": {
          "base_uri": "https://localhost:8080/",
          "height": 385
        },
        "id": "5arnoF7fFqvC",
        "outputId": "ea7c24fe-2979-416e-d3f0-f85a57d737da"
      },
      "execution_count": 116,
      "outputs": [
        {
          "output_type": "execute_result",
          "data": {
            "text/plain": [
              "Text(0, 0.5, 'cs/min')"
            ]
          },
          "metadata": {},
          "execution_count": 116
        },
        {
          "output_type": "display_data",
          "data": {
            "text/plain": [
              "<Figure size 400x400 with 1 Axes>"
            ],
            "image/png": "[encoded data removed]"
          },
          "metadata": {}
        }
      ]
    },
    {
      "cell_type": "code",
      "source": [
        "#Diagrama de dispersión y curva de densidad de cs/min\n",
        "ax=df[\"cs/min\"].plot.hist(density=True,xlim=[0,12],bins=range(1,12))\n",
        "df[\"cs/min\"].plot.density(ax=ax)\n",
        "ax.set_xlabel(\"cs/min\")"
      ],
      "metadata": {
        "colab": {
          "base_uri": "https://localhost:8080/",
          "height": 466
        },
        "id": "xuQbhAmIF1yC",
        "outputId": "9da9ca2d-7265-44b2-f500-a076f62bd19d"
      },
      "execution_count": 117,
      "outputs": [
        {
          "output_type": "execute_result",
          "data": {
            "text/plain": [
              "Text(0.5, 0, 'cs/min')"
            ]
          },
          "metadata": {},
          "execution_count": 117
        },
        {
          "output_type": "display_data",
          "data": {
            "text/plain": [
              "<Figure size 640x480 with 1 Axes>"
            ],
            "image/png": "[encoded data removed]"
          },
          "metadata": {}
        }
      ]
    },
    {
      "cell_type": "code",
      "source": [
        "# Grafico usando seaborn\n",
        "plt.figure(figsize=(8, 5)) # Establece el tamaño de la figura a 8 pulgadas de ancho y 5 pulgadas de alto\n",
        "sns.barplot(data=df, x='win / lose (1/0)', y='cs/min', hue='win / lose (1/0)', palette=['red', 'green'], errorbar=None, legend=False)# Coloco en X win/lose en Y kda\n",
        "# Hue usa la misma columna para el color de las barras, diferenciando entre victorias y derrotas; palette define los colores para las barras (rojo para derrotas y verde para victorias)\n",
        "plt.xlabel('Resultado de la Partida (0 = Derrota, 1 = Victoria)')\n",
        "plt.ylabel('cs/min')\n",
        "plt.title('cs/min por Resultado de la Partida')\n",
        "plt.xticks(rotation=0)  # Estable la rotacion de las etiquetas del eje X de manera horizontal\n",
        "plt.grid(axis='y', linestyle='--', alpha=0.7) # Añade una cuadrícula horizontal con líneas discontinuas y un 70% de opacidad\n",
        "plt.show()"
      ],
      "metadata": {
        "colab": {
          "base_uri": "https://localhost:8080/",
          "height": 487
        },
        "id": "6cv-ZNpfx-I_",
        "outputId": "2a1782b0-7a4b-478f-fbd9-f208d448c713"
      },
      "execution_count": 26,
      "outputs": [
        {
          "output_type": "display_data",
          "data": {
            "text/plain": [
              "<Figure size 800x500 with 1 Axes>"
            ],
            "image/png": "[encoded data removed]"
          },
          "metadata": {}
        }
      ]
    },
    {
      "cell_type": "code",
      "source": [
        "item1 = df['first item'].value_counts()\n",
        "item1 # Cuento especificamente la cantidad de veces que se jugo con cada primer objeto"
      ],
      "metadata": {
        "colab": {
          "base_uri": "https://localhost:8080/",
          "height": 178
        },
        "id": "ZsajZrOKWy7z",
        "outputId": "8fb18da6-d914-4d9b-d235-67b84a89fdc6"
      },
      "execution_count": 27,
      "outputs": [
        {
          "output_type": "execute_result",
          "data": {
            "text/plain": [
              "first item\n",
              "kraken slayer    13\n",
              "statik shyv      12\n",
              "Name: count, dtype: int64"
            ],
            "text/html": [
              "<div>\n",
              "<style scoped>\n",
              "    .dataframe tbody tr th:only-of-type {\n",
              "        vertical-align: middle;\n",
              "    }\n",
              "\n",
              "    .dataframe tbody tr th {\n",
              "        vertical-align: top;\n",
              "    }\n",
              "\n",
              "    .dataframe thead th {\n",
              "        text-align: right;\n",
              "    }\n",
              "</style>\n",
              "<table border=\"1\" class=\"dataframe\">\n",
              "  <thead>\n",
              "    <tr style=\"text-align: right;\">\n",
              "      <th></th>\n",
              "      <th>count</th>\n",
              "    </tr>\n",
              "    <tr>\n",
              "      <th>first item</th>\n",
              "      <th></th>\n",
              "    </tr>\n",
              "  </thead>\n",
              "  <tbody>\n",
              "    <tr>\n",
              "      <th>kraken slayer</th>\n",
              "      <td>13</td>\n",
              "    </tr>\n",
              "    <tr>\n",
              "      <th>statik shyv</th>\n",
              "      <td>12</td>\n",
              "    </tr>\n",
              "  </tbody>\n",
              "</table>\n",
              "</div><br><label><b>dtype:</b> int64</label>"
            ]
          },
          "metadata": {},
          "execution_count": 27
        }
      ]
    },
    {
      "cell_type": "code",
      "source": [
        "# Contar las victorias y derrotas para cada objeto\n",
        "item_counts = df.groupby(['first item', 'win / lose (1/0)']).size().unstack(fill_value=0)\n",
        "# Renombrar las columnas para mayor claridad\n",
        "item_counts.columns = ['Derrotas', 'Victorias']\n",
        "# Imprimir los resultados\n",
        "print(item_counts)\n",
        "# Calcular la tasa de victorias para cada objeto\n",
        "item_counts['Tasa de Victorias (%)'] = (item_counts['Victorias'] / (item_counts['Victorias'] + item_counts['Derrotas'])) * 100\n",
        "# Imprimir la tasa de victorias\n",
        "print(item_counts[['Victorias', 'Derrotas', 'Tasa de Victorias (%)']])"
      ],
      "metadata": {
        "colab": {
          "base_uri": "https://localhost:8080/"
        },
        "id": "t_t95e7TYdRf",
        "outputId": "7ae785bd-4b47-4264-aa3e-0e535197750a"
      },
      "execution_count": 28,
      "outputs": [
        {
          "output_type": "stream",
          "name": "stdout",
          "text": [
            "               Derrotas  Victorias\n",
            "first item                        \n",
            "kraken slayer         7          6\n",
            "statik shyv           8          4\n",
            "               Victorias  Derrotas  Tasa de Victorias (%)\n",
            "first item                                               \n",
            "kraken slayer          6         7              46.153846\n",
            "statik shyv            4         8              33.333333\n"
          ]
        }
      ]
    },
    {
      "cell_type": "code",
      "source": [
        "# Graficar\n",
        "plt.figure(figsize=(10, 6))\n",
        "item_counts[['Victorias', 'Derrotas']].plot(kind='bar', stacked=True, color=['green', 'red'])\n",
        "\n",
        "# Personalizar el gráfico\n",
        "plt.title('Victorias y Derrotas por Primer objeto')\n",
        "plt.xlabel('Objeto')\n",
        "plt.ylabel('Cantidad')\n",
        "plt.xticks(rotation=0)  # Rotar las etiquetas del eje x\n",
        "plt.legend(title='Resultado', labels=['Victorias', 'Derrotas'])\n",
        "plt.grid(axis='y', linestyle='--', alpha=0.7)\n",
        "\n",
        "# Mostrar el gráfico\n",
        "plt.show()"
      ],
      "metadata": {
        "colab": {
          "base_uri": "https://localhost:8080/",
          "height": 489
        },
        "id": "bwKZlBLzXGj_",
        "outputId": "ff68d6f8-6c16-415d-ca0f-50168f4ce77f"
      },
      "execution_count": 29,
      "outputs": [
        {
          "output_type": "display_data",
          "data": {
            "text/plain": [
              "<Figure size 1000x600 with 0 Axes>"
            ]
          },
          "metadata": {}
        },
        {
          "output_type": "display_data",
          "data": {
            "text/plain": [
              "<Figure size 640x480 with 1 Axes>"
            ],
            "image/png": "[encoded data removed]"
          },
          "metadata": {}
        }
      ]
    },
    {
      "cell_type": "code",
      "source": [
        "day = df['day_played'].value_counts()\n",
        "day # Cuento especificamente la cantidad de veces que se jugo segun el dia de la semana"
      ],
      "metadata": {
        "colab": {
          "base_uri": "https://localhost:8080/",
          "height": 303
        },
        "id": "PkVVgedpxEkG",
        "outputId": "c5fba70b-432b-4238-eab1-0cf0ac79f5f4"
      },
      "execution_count": 30,
      "outputs": [
        {
          "output_type": "execute_result",
          "data": {
            "text/plain": [
              "day_played\n",
              "martes       9\n",
              "domingo      5\n",
              "viernes      5\n",
              "jueves       4\n",
              "sabado       1\n",
              "miercoles    1\n",
              "Name: count, dtype: int64"
            ],
            "text/html": [
              "<div>\n",
              "<style scoped>\n",
              "    .dataframe tbody tr th:only-of-type {\n",
              "        vertical-align: middle;\n",
              "    }\n",
              "\n",
              "    .dataframe tbody tr th {\n",
              "        vertical-align: top;\n",
              "    }\n",
              "\n",
              "    .dataframe thead th {\n",
              "        text-align: right;\n",
              "    }\n",
              "</style>\n",
              "<table border=\"1\" class=\"dataframe\">\n",
              "  <thead>\n",
              "    <tr style=\"text-align: right;\">\n",
              "      <th></th>\n",
              "      <th>count</th>\n",
              "    </tr>\n",
              "    <tr>\n",
              "      <th>day_played</th>\n",
              "      <th></th>\n",
              "    </tr>\n",
              "  </thead>\n",
              "  <tbody>\n",
              "    <tr>\n",
              "      <th>martes</th>\n",
              "      <td>9</td>\n",
              "    </tr>\n",
              "    <tr>\n",
              "      <th>domingo</th>\n",
              "      <td>5</td>\n",
              "    </tr>\n",
              "    <tr>\n",
              "      <th>viernes</th>\n",
              "      <td>5</td>\n",
              "    </tr>\n",
              "    <tr>\n",
              "      <th>jueves</th>\n",
              "      <td>4</td>\n",
              "    </tr>\n",
              "    <tr>\n",
              "      <th>sabado</th>\n",
              "      <td>1</td>\n",
              "    </tr>\n",
              "    <tr>\n",
              "      <th>miercoles</th>\n",
              "      <td>1</td>\n",
              "    </tr>\n",
              "  </tbody>\n",
              "</table>\n",
              "</div><br><label><b>dtype:</b> int64</label>"
            ]
          },
          "metadata": {},
          "execution_count": 30
        }
      ]
    },
    {
      "cell_type": "code",
      "source": [
        "# Contar las victorias y derrotas para cada objeto\n",
        "day_counts = df.groupby(['day_played', 'win / lose (1/0)']).size().unstack(fill_value=0)\n",
        "# Renombrar las columnas para mayor claridad\n",
        "day_counts.columns = ['Derrotas', 'Victorias']\n",
        "# Imprimir los resultados\n",
        "print(day_counts)\n",
        "# Calcular la tasa de victorias para cada objeto\n",
        "day_counts['Tasa de Victorias (%)'] = (day_counts['Victorias'] / (day_counts['Victorias'] + day_counts['Derrotas'])) * 100\n",
        "# Imprimir la tasa de victorias\n",
        "print(day_counts[['Victorias', 'Derrotas', 'Tasa de Victorias (%)']])"
      ],
      "metadata": {
        "colab": {
          "base_uri": "https://localhost:8080/"
        },
        "id": "SIRZ-bl2xrza",
        "outputId": "41418aff-0dd1-40f1-ede9-024f9ead6dd7"
      },
      "execution_count": 31,
      "outputs": [
        {
          "output_type": "stream",
          "name": "stdout",
          "text": [
            "            Derrotas  Victorias\n",
            "day_played                     \n",
            "domingo            3          2\n",
            "jueves             1          3\n",
            "martes             6          3\n",
            "miercoles          1          0\n",
            "sabado             1          0\n",
            "viernes            3          2\n",
            "            Victorias  Derrotas  Tasa de Victorias (%)\n",
            "day_played                                            \n",
            "domingo             2         3              40.000000\n",
            "jueves              3         1              75.000000\n",
            "martes              3         6              33.333333\n",
            "miercoles           0         1               0.000000\n",
            "sabado              0         1               0.000000\n",
            "viernes             2         3              40.000000\n"
          ]
        }
      ]
    },
    {
      "cell_type": "code",
      "source": [
        "# Graficar\n",
        "plt.figure(figsize=(10, 6))\n",
        "day_counts[['Victorias', 'Derrotas']].plot(kind='bar', stacked=True, color=['green', 'red'])\n",
        "\n",
        "# Personalizar el gráfico\n",
        "plt.title('Victorias y Derrotas por Dia de la semana')\n",
        "plt.xlabel('Dia')\n",
        "plt.ylabel('Cantidad')\n",
        "plt.xticks(rotation=0)  # Rotar las etiquetas del eje x\n",
        "plt.legend(title='Resultado', labels=['Victorias', 'Derrotas'])\n",
        "plt.grid(axis='y', linestyle='--', alpha=0.7)\n",
        "\n",
        "# Mostrar el gráfico\n",
        "plt.show()"
      ],
      "metadata": {
        "colab": {
          "base_uri": "https://localhost:8080/",
          "height": 489
        },
        "id": "5KDaBSVyzWgq",
        "outputId": "2939ca37-52d7-464c-f0ca-52fc4d09c41a"
      },
      "execution_count": 32,
      "outputs": [
        {
          "output_type": "display_data",
          "data": {
            "text/plain": [
              "<Figure size 1000x600 with 0 Axes>"
            ]
          },
          "metadata": {}
        },
        {
          "output_type": "display_data",
          "data": {
            "text/plain": [
              "<Figure size 640x480 with 1 Axes>"
            ],
            "image/png": "[encoded data removed]"
          },
          "metadata": {}
        }
      ]
    },
    {
      "cell_type": "markdown",
      "source": [
        "### Sobre Estimaciones de variabilidad\n",
        "\n",
        "1. **Qué significa que la desviación estándar es casi dos veces mayor que la MAD?**\n",
        "\n",
        "Que la desviación estándar sea casi dos veces mayor que la desviación media absoluta (MAD) significa que hay una gran dispersión en los datos. La desviación estándar es sensible a valores extremos, por lo que si hay algunos valores muy alejados de la media, esto hará que la desviación estándar sea significativamente mayor que la MAD. La MAD es más robusta a valores atípicos.\n",
        "\n",
        "2. **Cómo puedo mejorar esta situación?**\n",
        "\n",
        "Para mejorar la situación y reducir la diferencia entre la desviación estándar y la MAD, se pueden tomar varias medidas:\n",
        "\n",
        "- Identificar y eliminar valores atípicos reales en los datos, si los hay. Algunos valores extremos pueden deberse a errores de medición o entrada de datos.\n",
        "\n",
        "- Transformar los datos, por ejemplo aplicando logaritmos, para reducir el efecto de valores muy altos. Esto puede disminuir la dispersión general.\n",
        "\n",
        "- Utilizar medidas de tendencia central más robustas como la mediana en lugar de la media. La mediana es menos sensible a valores atípicos.\n",
        "\n",
        "- Calcular el rango intercuartílico (IQR) en lugar de la desviación estándar. El IQR se basa en los cuartiles y es más resistente a valores extremos.\n",
        "\n",
        "3. **Explique el resultado obtenido al calcular IQR**\n",
        "\n",
        "El rango intercuartílico (IQR) es la diferencia entre el tercer cuartil (Q3) y el primer cuartil (Q1). Representa la dispersión de la mitad central de los datos, eliminando el 25% más alto y el 25% más bajo.\n",
        "\n",
        "Un IQR grande indica que hay una dispersión considerable en la mitad central de los datos. Aproximadamente el 50% de los valores se encuentran dentro del rango Q1 a Q3.\n",
        "\n",
        "El IQR es una medida robusta de dispersión porque no se ve afectado por valores atípicos en los extremos. A diferencia del rango, que se extiende desde el valor mínimo hasta el máximo, el IQR se enfoca en la variabilidad de la parte central de la distribución.\n",
        "\n"
      ],
      "metadata": {
        "id": "sVfVsGWOJyk7"
      }
    },
    {
      "cell_type": "markdown",
      "source": [
        "\n",
        "### Sobre exploración en distribución de datos\n",
        "\n",
        "1. **Qué información nos suministra los percentiles de tasa de homicidios por estados?**\n",
        "\n",
        "Percentil 5 (P5): 1.600\n",
        "Esto significa que el 5% de los estados tiene una tasa de homicidios menor o igual a 1.600. Este valor representa un límite bajo en la distribución, indicando que hay pocos estados con tasas tan bajas.\n",
        "\n",
        "Percentil 25 (P25): 2.425\n",
        "El 25% de los estados tiene una tasa de homicidios menor o igual a 2.425. Esto indica que un cuarto de los estados se encuentra en el rango más bajo de tasas de homicidio.\n",
        "\n",
        "Mediana (P50): 4.000\n",
        "La mediana indica que el 50% de los estados tiene una tasa de homicidios menor o igual a 4.000. Este es un valor central que divide la distribución en dos mitades iguales.\n",
        "\n",
        "Percentil 75 (P75): 5.550\n",
        "El 75% de los estados tiene una tasa de homicidios menor o igual a 5.550. Esto significa que un cuarto de los estados tiene tasas más altas que este valor, indicando una concentración en el extremo superior.\n",
        "\n",
        "Percentil 95 (P95): 6.510\n",
        "Esto indica que el 95% de los estados tiene una tasa de homicidios menor o igual a 6.510, lo que sugiere que solo un pequeño porcentaje (5%) tiene tasas significativamente más altas.\n",
        "\n",
        "2. **Explique con sus propias palabras qué información suministra el diagrama de caja con respecto a la tasa de homicidios por estado.**\n",
        "\n",
        "Mediana (Q2)\n",
        "Si la mediana es aproximadamente 4, esto indica que el 50% de los estados tienen tasas de homicidio menores o iguales a este valor.\n",
        "\n",
        "Primer Cuartil (Q1)\n",
        "Si Q1 es aproximadamente 2, esto significa que un cuarto de los estados tiene tasas de homicidio por debajo de este nivel.\n",
        "\n",
        "Tercer Cuartil (Q3)\n",
        " Si Q3 es aproximadamente 5, esto significa que solo el 25% superior tiene tasas más altas.\n",
        "\n",
        "Rango Intercuartílico (IQR)\n",
        "Un IQR de aproximadamente 3 sugiere una variabilidad considerable en las tasas; algunos estados tienen tasas significativamente más altas o más bajas.\n",
        "\n",
        "Valores Atípicos\n",
        "Los estados con tasas por encima de aproximadamente 7 serían considerados valores atípicos y podrían incluir a estados como Louisiana (10,3) y Mississippi (8,6).\n",
        "Estos valores atípicos indican que hay estados con problemas significativos en términos de violencia y criminalidad.\n",
        "\n",
        "3. **Cómo podría agregarse los estados que se encuentran en cada uno de los intervalos? Si no sabe la respuesta, complete la tabla de forma manual y postee su respuesta. Interprete los resultados obtenidos.**\n",
        "\n",
        "df = pd.DataFrame(data)\n",
        "\n",
        "# Definir los cuartiles\n",
        "Q1 = df['Murder.Rate'].quantile(0.25)\n",
        "Q3 = df['Murder.Rate'].quantile(0.75)\n",
        "\n",
        "# Definir los intervalos\n",
        "def classify_rate(rate):\n",
        "    if rate <= Q1:\n",
        "        return \"Bajo\"\n",
        "    elif Q1 < rate <= Q3:\n",
        "        return \"Medio\"\n",
        "    else:\n",
        "        return \"Alto\"\n",
        "\n",
        "# Clasificar los estados en intervalos\n",
        "df['Intervalo'] = df['Murder.Rate'].apply(classify_rate)\n",
        "\n",
        "# Mostrar el DataFrame con los intervalos\n",
        "print(df[['State', 'Murder.Rate', 'Intervalo']])\n",
        "\n",
        "Interpretacion de los resultados:\n",
        "\n",
        "Distribución de las Tasas de Homicidio:\n",
        "La mayoría de los estados (28) se clasifican en la categoría \"Medio\", lo que indica que tienen tasas de homicidio que son moderadas en comparación con el resto del conjunto de datos.\n",
        "\n",
        "Un número significativo de estados (15) se clasifica como \"Bajo\", lo que sugiere que estos estados tienen tasas de homicidio relativamente bajas.\n",
        "Por otro lado, hay un número considerable de estados (7) clasificados como \"Alto\", lo que indica que tienen tasas de homicidio más preocupantes.\n",
        "\n",
        "Valores Extremos:\n",
        "Louisiana tiene la tasa más alta (10.3), lo que la coloca claramente en la categoría \"Alto\". Esto puede indicar problemas significativos de violencia y criminalidad en ese estado.\n",
        "Algunos estados como New Hampshire (0.9) y Maine (1.6) tienen tasas muy bajas, lo que sugiere un entorno más seguro en comparación con otros estados.\n",
        "\n",
        "4. **Explique el resultado obtenido por el diagrama de dispersión**\n",
        "\n",
        " Relación entre Población y Tasa de Homicidios\n",
        "Al graficar la tasa de homicidios y la población, se puede observar cómo se distribuyen los puntos (cada punto representa un estado)\n",
        "No se espera que haya una relación lineal clara entre la población y la tasa de homicidios algunos estados con poblaciones altas pueden tener tasas de homicidio relativamente bajas, mientras que otros con poblaciones más pequeñas pueden tener tasas de homicidio muy altas. Esto sugiere que la tasa de homicidio no necesariamente aumenta con la población.\n",
        "\n",
        "Fuerza de la Relación\n",
        "La fuerza de la relación se puede evaluar observando cuán cerca están los puntos de una línea imaginaria.\n",
        "En este caso, los puntos estan bastante dispersos, lo que sugiere que no hay una relación fuerte entre el tamaño de la población y las tasas de homicidio.\n",
        "\n",
        " Valores Atípicos\n",
        "Los valores atípicos son aquellos que se alejan significativamente del patrón general observado en el diagrama.En este conjunto de datos, Louisiana (con una tasa de homicidio de 10.3) y Mississippi (8.6) son ejemplos claros de valores atípicos, ya que tienen tasas significativamente más altas que otros estados, independientemente de su población.\n",
        "\n",
        "Tendencias y Patrones\n",
        "En este caso, no hay una tendencia clara. Los datos pueden mostrar un patrón más disperso sin una dirección definida, lo que indica que factores distintos a la población pueden estar influyendo en las tasas de homicidio.\n",
        "\n"
      ],
      "metadata": {
        "id": "siEnmqOsOAII"
      }
    }
  ]
}