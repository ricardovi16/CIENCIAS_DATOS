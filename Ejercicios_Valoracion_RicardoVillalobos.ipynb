{
  "nbformat": 4,
  "nbformat_minor": 0,
  "metadata": {
    "colab": {
      "provenance": []
    },
    "kernelspec": {
      "name": "python3",
      "display_name": "Python 3"
    },
    "language_info": {
      "name": "python"
    }
  },
  "cells": [
    {
      "cell_type": "markdown",
      "source": [
        "#Introduccion a Python\n",
        "##1.Tipo de Datos\n",
        "*Numericos (int=enteros, float=decimales)\n",
        "*Booleanos (verdadero o falso)\n",
        "*Alfanumericos o cadena de caracteres (\"\" entre comiillas)\n",
        "*Listas ([])\n",
        "*Duplas ()\n",
        "*Diccionarios ({})\n",
        "\n",
        "## Para comentar\n",
        "Comando type() : Con que tipo de dato estamos manejando\n",
        "\n",
        "## Concatenacion: Al sumar dos strings se unen 'Max'+'Min'= MaxMin\n",
        "\n",
        "##Print imprime\n",
        "##Ejem1: print(f\"5+3*4\"={5+3*4} y es un valor de tipo {type(5+3*4)}\")\n",
        "##Ejem2: Si hay comillas: print(f'\"5\"+\"2\"*3={\"5\"+\"2\"*3} y es un valor de tipo {type(\"5\"+\"2\"*3)}')\n",
        "\n",
        "##Potenciacion (**)\n",
        "##Asignacion (=) ; Comparacion (==)\n",
        "## % = Modulo; ejem: 18%2 = 0\n",
        "\n",
        "\n",
        "##2. Teclado\n",
        "## ' '  al lado derecho del 0\n",
        "## []   alt + el simbolo\n",
        "## { alt + al lado de enter; }  alt + arriba de enter\n",
        "\n",
        "##3.Funciones\n",
        "## abs: Calcula el valor absoluto. Ejem: abs(-8)=8\n",
        "## len: Cuenta cuantos caracteres tiene la cadena. Ejem: len(\"seis\")=4\n",
        "## Bool(): Cualquier numero en booleano distinto a 0 es verdadero\n",
        "\n",
        "## Nota 1 Los string se comportan como listas; Ejem. de una cadena de caracteres estoy tomando el que esta en la posicion 3 contando desde 0; str(int('8'*3)/3)[3] = 296.0 == '.' la posicion 3 es el punto .\n",
        "## Nota 1.1 Al hacer '8'*3 lo repito 3 veces es decir = 888"
      ],
      "metadata": {
        "id": "BO2XDHCdJrKs"
      }
    },
    {
      "cell_type": "code",
      "source": [
        "##EJERCICIO 2\n",
        "a = input(\"Digite su nombre y apellido: \")\n",
        "print (a)\n",
        "b = input(\"Digite la fecha de hoy: \")\n",
        "print (b)"
      ],
      "metadata": {
        "colab": {
          "base_uri": "https://localhost:8080/"
        },
        "collapsed": true,
        "id": "7D02kDzYDOIk",
        "outputId": "03066fd9-de74-4b6a-f781-4bbb7fa6e2fc"
      },
      "execution_count": null,
      "outputs": [
        {
          "output_type": "stream",
          "name": "stdout",
          "text": [
            "Digite su nombre y apellido: rICARDO\n",
            "rICARDO\n",
            "Digite la fecha de hoy: 21\n",
            "21\n"
          ]
        }
      ]
    },
    {
      "cell_type": "markdown",
      "source": [],
      "metadata": {
        "id": "FMXJz0VEKU-y"
      }
    },
    {
      "cell_type": "code",
      "source": [
        "##EJERCICIO 3\n",
        "a = input(\"Digite su nombre y apellido: \")\n",
        "print (\"Hola\",a)"
      ],
      "metadata": {
        "colab": {
          "base_uri": "https://localhost:8080/"
        },
        "collapsed": true,
        "id": "S2OJA6rjD2ch",
        "outputId": "bd657d8c-4a49-4ce5-cb79-37477689158e"
      },
      "execution_count": null,
      "outputs": [
        {
          "output_type": "stream",
          "name": "stdout",
          "text": [
            "Digite su nombre y apellido: Ricardo\n",
            "Hola Ricardo\n"
          ]
        }
      ]
    },
    {
      "cell_type": "code",
      "execution_count": null,
      "metadata": {
        "colab": {
          "base_uri": "https://localhost:8080/"
        },
        "id": "3ivo3XgvJPS6",
        "outputId": "5308d727-795a-4ae0-a1d3-c333f2ea694b",
        "collapsed": true
      },
      "outputs": [
        {
          "output_type": "stream",
          "name": "stdout",
          "text": [
            "Digite el radio de un circulo (Un numero):2.2\n",
            "El diametro es: 4.4\n",
            "El perimetro es: 13.82304\n",
            "El area es: 15.205344000000002\n"
          ]
        }
      ],
      "source": [
        "##EJERCICIO 4\n",
        "a = float(input(\"Digite el radio de un circulo (Un numero):\"))\n",
        "b = float(a*2)\n",
        "print (\"El diametro es:\",b)\n",
        "c = float(b*3.1416)\n",
        "print (\"El perimetro es:\",c)\n",
        "d = float(3.1416*a**2)\n",
        "print (\"El area es:\",d)"
      ]
    },
    {
      "cell_type": "code",
      "source": [
        "##EJERCICIO 5\n",
        "print ('Porfavor digite sus 6 notas (0-5)')\n",
        "a=float(input())\n",
        "b=float(input())\n",
        "c=float(input())\n",
        "d=float(input())\n",
        "e=float(input())\n",
        "f=float(input())\n",
        "prom = (a+b+c+d+e+f)/6\n",
        "if a >= 0 and a <= 5 and b >= 0 and b <= 5 and c >= 0 and c <= 5 and d >= 0 and d <= 5 and e >= 0 and e <= 5 and f >= 0 and f <= 5 :\n",
        "  print(\"El promedio de las 6 notas es de:\", prom)\n",
        "else:\n",
        "  print(\"Alguna de las notas ingresadas no esta en el intervalo de (0-5); sus notas ingresadas son:\")\n",
        "  print(a)\n",
        "  print(b)\n",
        "  print(c)\n",
        "  print(d)\n",
        "  print(e)\n",
        "  print(f)"
      ],
      "metadata": {
        "colab": {
          "base_uri": "https://localhost:8080/"
        },
        "id": "jEtHJirjcL58",
        "outputId": "373bbab4-36f8-4c2c-f965-497edd9d8d1b",
        "collapsed": true
      },
      "execution_count": null,
      "outputs": [
        {
          "output_type": "stream",
          "name": "stdout",
          "text": [
            "Porfavor digite sus 6 notas (0-5)\n",
            "1\n",
            "1\n",
            "1\n",
            "3\n",
            "4\n",
            "5\n",
            "El promedio de las 6 notas es de: 2.5\n"
          ]
        }
      ]
    },
    {
      "cell_type": "code",
      "source": [
        "##EJERCICIO 6\n",
        "a = input(\"Digite un valor para saber que tipo de dato es: \")\n",
        "try:\n",
        "    a = int(a)\n",
        "    print(\"Su dato es de tipo: int\")\n",
        "except:\n",
        "    try:\n",
        "        a = float(a)\n",
        "        print(\"Su dato es de tipo: float\")\n",
        "    except:\n",
        "        a = str(a)\n",
        "        print(\"Su dato es de tipo: string\")"
      ],
      "metadata": {
        "colab": {
          "base_uri": "https://localhost:8080/"
        },
        "id": "14WheGIYs8CG",
        "outputId": "bf6111df-9287-4095-a284-59a010e5d503",
        "collapsed": true
      },
      "execution_count": null,
      "outputs": [
        {
          "output_type": "stream",
          "name": "stdout",
          "text": [
            "Digite un valor para saber que tipo de dato es: 2\n",
            "Su dato es de tipo: int\n"
          ]
        }
      ]
    },
    {
      "cell_type": "code",
      "source": [
        "##EJERCICIO 7\n",
        "print(f\"{((5+3)/(3-2))**2}\")"
      ],
      "metadata": {
        "colab": {
          "base_uri": "https://localhost:8080/"
        },
        "id": "KtOutuZ4nPQD",
        "outputId": "8fba8e30-d1d3-4b89-fc4d-dd9c0524bf6e",
        "collapsed": true
      },
      "execution_count": null,
      "outputs": [
        {
          "output_type": "stream",
          "name": "stdout",
          "text": [
            "64.0\n"
          ]
        }
      ]
    },
    {
      "cell_type": "code",
      "source": [
        "##EJERCICIO 8\n",
        "horas = float(input(\"Digite el numero de horas trabajadas: \"))\n",
        "precio = float(input(\"Digite el precio x hora trabajada (pesos): \"))\n",
        "total = (horas*precio)\n",
        "print(\"El valor total de las horas trabajads es de:\",total,\"$\")"
      ],
      "metadata": {
        "colab": {
          "base_uri": "https://localhost:8080/"
        },
        "collapsed": true,
        "id": "C7oPfU40JKNk",
        "outputId": "ed04e66f-9502-4398-c00b-966954e8d78f"
      },
      "execution_count": null,
      "outputs": [
        {
          "output_type": "stream",
          "name": "stdout",
          "text": [
            "Digite el numero de horas trabajadas: 1\n",
            "Digite el precio x hora trabajada (pesos): 100\n",
            "El valor total de las horas trabajads es de: 100.0 $\n"
          ]
        }
      ]
    },
    {
      "cell_type": "code",
      "source": [
        "##EJERCICIO 9\n",
        "C = float(input(\"Digite el valor de la tempetadura(Celsius) para su conversion a Kelvin y Fahrenheit:\"))\n",
        "K = (C + 273.15)\n",
        "F = (C*1.8) + 32\n",
        "print(\"La temperatura en Kelvin es de:\",K,\"K°\")\n",
        "print(\"La temperatura en Fahrenheit es de:\",F,\"F°\")"
      ],
      "metadata": {
        "colab": {
          "base_uri": "https://localhost:8080/"
        },
        "collapsed": true,
        "id": "ImRHhw7ZOO1e",
        "outputId": "6ca58e89-aee5-4aad-9e45-10ff8ed752b6"
      },
      "execution_count": null,
      "outputs": [
        {
          "output_type": "stream",
          "name": "stdout",
          "text": [
            "Digite el valor de la tempetadura(Celsius) para su conversion a Kelvin y Fahrenheit:10\n",
            "La temperatura en Kelvin es de: 283.15 K°\n",
            "La temperatura en Fahrenheit es de: 50.0 F°\n"
          ]
        }
      ]
    },
    {
      "cell_type": "code",
      "source": [
        "##EJERCICIO 10\n",
        "a = float(input(\"Digite el primer numero:\"))\n",
        "b = float(input(\"Digite el Segundo numero:\"))\n",
        "if b>a:\n",
        "  print(\"TRUE\")\n",
        "elif a==b:\n",
        "  print(\"Son iguales\")\n",
        "else:\n",
        "  print(\"FALSE\")\n"
      ],
      "metadata": {
        "colab": {
          "base_uri": "https://localhost:8080/"
        },
        "collapsed": true,
        "id": "t7l5MCe-Z-SC",
        "outputId": "c78038fb-bb7e-4b77-b4fc-bbed2bc0be52"
      },
      "execution_count": null,
      "outputs": [
        {
          "output_type": "stream",
          "name": "stdout",
          "text": [
            "Digite el primer numero:1\n",
            "Digite el Segundo numero:1\n",
            "Son iguales\n"
          ]
        }
      ]
    },
    {
      "cell_type": "code",
      "source": [
        "##EJERCICIO 11\n",
        "a = float(input(\"Digite el primer numero:\"))\n",
        "b = float(input(\"Digite el Segundo numero:\"))\n",
        "if b>a:\n",
        "  print(\"FALSE\")\n",
        "elif a==b:\n",
        "  print(\"Son iguales\")\n",
        "else:\n",
        "  print(\"TRUE\")"
      ],
      "metadata": {
        "colab": {
          "base_uri": "https://localhost:8080/"
        },
        "collapsed": true,
        "id": "enkIzCgmfumw",
        "outputId": "f1a273c0-84c1-4f89-dc8b-019966ae1673"
      },
      "execution_count": null,
      "outputs": [
        {
          "output_type": "stream",
          "name": "stdout",
          "text": [
            "Digite el primer numero:1\n",
            "Digite el Segundo numero:1\n",
            "Son iguales\n"
          ]
        }
      ]
    },
    {
      "cell_type": "code",
      "source": [
        "##EJERCICIO 12\n",
        "d = float(input(\"Digite una distancia (metros):\"))\n",
        "v = float(input(\"Digite una velocidad (metros/segundos):\"))\n",
        "t = (d/v)\n",
        "print(\"El tiempo que se demora en recorrer la distancia es de:\",t,\"segundos\")\n"
      ],
      "metadata": {
        "colab": {
          "base_uri": "https://localhost:8080/"
        },
        "id": "Dkb_GS4FgXWd",
        "outputId": "7960e71a-df83-45dd-a279-d4067d5124bf",
        "collapsed": true
      },
      "execution_count": null,
      "outputs": [
        {
          "output_type": "stream",
          "name": "stdout",
          "text": [
            "Digite una distancia (metros):150\n",
            "Digite una velocidad (metros/segundos):15\n",
            "El tiempo que se demora en recorrer la distancia es de: 10.0 segundos\n"
          ]
        }
      ]
    },
    {
      "cell_type": "code",
      "source": [
        "##EJERCICIO 13\n",
        "a = float(input(\"Ingrese el valor de a: \"))\n",
        "b = float(input(\"Ingrese el valor de b: \"))\n",
        "c = float(input(\"Ingrese el valor de c: \"))\n",
        "resultado = ((a + b) / c) ** 2 + ((a - b) / c) ** 2\n",
        "\n",
        "# Mostrar el resultado\n",
        "print(\"El resultado de la ecuación es:\", resultado)"
      ],
      "metadata": {
        "colab": {
          "base_uri": "https://localhost:8080/"
        },
        "collapsed": true,
        "id": "mJASHwGZJmrL",
        "outputId": "775634b3-ef04-4c9f-8ba4-66fc5cbd7b79"
      },
      "execution_count": null,
      "outputs": [
        {
          "output_type": "stream",
          "name": "stdout",
          "text": [
            "Ingrese el valor de a: 10\n",
            "Ingrese el valor de b: 10\n",
            "Ingrese el valor de c: 10\n",
            "El resultado de la ecuación es: 4.0\n"
          ]
        }
      ]
    },
    {
      "cell_type": "code",
      "source": [
        "##EJERCICIO 14\n",
        "import math\n",
        "a = float(input(\"Ingrese un número para calcular su raíz cuadrada: \"))\n",
        "b = math.sqrt(a)\n",
        "print(\"La raiz cuadrada de su numero es:\",b)"
      ],
      "metadata": {
        "id": "v4JFKfvTqRc5",
        "colab": {
          "base_uri": "https://localhost:8080/"
        },
        "outputId": "99243c39-6066-46ad-834b-a9b0a5defcd9",
        "collapsed": true
      },
      "execution_count": null,
      "outputs": [
        {
          "output_type": "stream",
          "name": "stdout",
          "text": [
            "Ingrese un número para calcular su raíz cuadrada: 100\n",
            "La raiz cuadrada de su numero es: 10.0\n"
          ]
        }
      ]
    },
    {
      "cell_type": "code",
      "source": [
        "##EJERCICIO 15\n",
        "import math\n",
        "cat_a = float(input(\"Digite el valor del cateto a:\"))\n",
        "cat_b = float(input(\"Digite el valor del cateto b:\"))\n",
        "resultado = math.sqrt(cat_a**2 + cat_b**2)\n",
        "print(\"El valor de la hipotenusa es:\",resultado)"
      ],
      "metadata": {
        "colab": {
          "base_uri": "https://localhost:8080/"
        },
        "id": "3LuRjQacNRi9",
        "outputId": "5bfc56bc-4169-421b-c8f1-4d1a1abd2975"
      },
      "execution_count": null,
      "outputs": [
        {
          "output_type": "stream",
          "name": "stdout",
          "text": [
            "Digite el valor del cateto a:1.1\n",
            "Digite el valor del cateto b:10.9\n",
            "El valor de la hipotenusa es: 10.955363982999378\n"
          ]
        }
      ]
    }
  ]
}