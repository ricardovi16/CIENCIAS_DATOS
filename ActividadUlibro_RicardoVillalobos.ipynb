{
  "nbformat": 4,
  "nbformat_minor": 0,
  "metadata": {
    "colab": {
      "provenance": []
    },
    "kernelspec": {
      "name": "python3",
      "display_name": "Python 3"
    },
    "language_info": {
      "name": "python"
    }
  },
  "cells": [
    {
      "cell_type": "markdown",
      "source": [
        "#ACTIVIDAD 1 - LIBROS ANALISIS DE DATOS\n",
        "![Imagen #1](https://drive.google.com/uc?id=1IQEO_SYGzu4KvbFZmgMlkIh_nOI-MHmQ)\n",
        "![Imagen #2](https://drive.google.com/uc?id=1CZ_ZN2G7wbYY8R7lq_GLCY-Eosktmhjp)\n",
        "![Imagen #3](https://drive.google.com/uc?id=1Ov0OVZ932I_CSyV7stWhnTYukfPOQTeK)\n",
        "![Imagen #4](https://drive.google.com/uc?id=1Sb-PQq9MOYh02YO1Govh1HSz5Lb-Fapy)\n",
        "![Imagen #5](https://drive.google.com/uc?id=1OxFMnDOqLe9gPqJTQfrtTYauDo01w9Tc)\n",
        "\n",
        "#ACTIVIDAD 2 - LIBROS INTELIGENCIA ARTIFICIAL\n",
        "![Imagen #6](https://drive.google.com/uc?id=14Cj-yvm3ipjPbpiTCsvIPGI4NbL0xIl7)\n",
        "![Imagen #7](https://drive.google.com/uc?id=1aYP3yDqY2YdfwdZbUzTVNSFYfyqHvCRO)\n",
        "![Imagen #8](https://drive.google.com/uc?id=1aY2aVwNpCkv0LngG43MibIYYX7W81lRb)\n",
        "![Imagen #9](https://drive.google.com/uc?id=1BCzA6NZVzguJIOH8TGw7xkAsayTw6vWx)\n",
        "![Imagen #10](https://drive.google.com/uc?id=1ngtfx-2ZRr0fNlJpFwvXrDEFpMrth6S-)\n",
        "\n",
        "#ACTIVIDAD 3 - BIOGRAFIA DE LOS ORADORES\n",
        "-José Daniel Cabrera Cruz: Es un profesor asociado en la Universidad Autónoma de Bucaramanga (UNAB), Colombia. Se especializa en pensamiento sistémico, innovación y educación, con un enfoque particular en la agricultura y la dinámica de sistemas. Cabrera Cruz ha contribuido a varios proyectos de investigación y publicaciones académicas, abordando temas como la formación de doctores en ingeniería y la aplicación de modelos teóricos en la educación superior. Su trabajo se centra en fomentar la innovación y el desarrollo sostenible en el contexto colombiano.\n",
        "\n",
        "-Liliana Patricia Calderón Bernal: Es una investigadora colombiana, actualmente doctoranda en demografía en el Instituto Max Planck de Investigación Demográfica en Alemania. Se graduó como Historiadora en la Universidad Externado de Colombia en 2016 y luego obtuvo una maestría en demografía en la Universidad de Estrasburgo. Su trabajo se centra en las ciencias sociales, con un enfoque en la historia y la demografía, y ha destacado por su dedicación y perseverancia en la búsqueda de su carrera investigativa.\n",
        "\n",
        "-Doris Amparo Barreto Osma: Es una psicóloga colombiana con formación académica, incluyendo una licenciatura en Psicología de la Universidad Pontificia Bolivariana, una especialización en Psicología Clínica y una maestría en Psicología de la Universidad del Norte de Barranquilla. Actualmente, se desempeña como Directora de Transformación Social en la Universidad Autónoma de Bucaramanga (UNAB).\n",
        "\n",
        "-Andrea Catalina Martínez Lozada: Es una académica colombiana y actual Decana de la Facultad de Economía y Negocios en la Universidad Autónoma de Bucaramanga (UNAB). Ingeniera de Sistemas con un MBA de la Arizona State University y un PhD en Gestión de la Sostenibilidad de la Universidad de los Andes, se especializa en desarrollo sostenible, innovación y emprendimiento comunitario. Su trabajo se centra en fomentar capacidades y alianzas estratégicas para impulsar el desarrollo regional.\n",
        "\n",
        "-Sebastián Roa Prada: Es un investigador principal y docente investigador de la Universidad Autónoma de Bucaramanga (UNAB) que se especializa en proyectos de desarrollo e innovación en el sector agrícola, particularmente en la cadena productiva del cacao en Santander, Colombia. Actualmente lidera el proyecto \"Hållbar Kakao 2.0\" (Cacao Sostenible 2.0), cuyo objetivo es mejorar la competitividad de los productores de cacao de Santander para aumentar su participación en mercados internacionales de cacaos especiales.\n",
        "\n",
        "#ACTIVIDAD 4 - SELFIE EN ULIBRO\n",
        "![Imagen-Selfie](https://drive.google.com/uc?id=13cRBq7lLw3FYaat02KKJcakP64-5l_Va)\n",
        "\n",
        "#ACTIVIDAD 5- DATASET\n",
        "##https://docs.google.com/spreadsheets/d/1W40FswEcf4_7FQ5N62Q_eaoqeZlWkRwQpMZ2Cwr4AlM/edit?usp=sharing\n",
        "\n"
      ],
      "metadata": {
        "id": "X6jllOBUWSBB"
      }
    }
  ]
}