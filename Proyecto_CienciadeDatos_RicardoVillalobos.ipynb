{
  "nbformat": 4,
  "nbformat_minor": 0,
  "metadata": {
    "colab": {
      "provenance": []
    },
    "kernelspec": {
      "name": "python3",
      "display_name": "Python 3"
    },
    "language_info": {
      "name": "python"
    }
  },
  "cells": [
    {
      "cell_type": "markdown",
      "source": [
        "# ANALISIS DEL JUGADOR DE LA SELECCION UNAB RUZI(ADC)🧀\n",
        "# Especficamente con el uso del campeon Kai'sa\n",
        "We start by showing the daaaaata :)"
      ],
      "metadata": {
        "id": "jPMdXNu4BQlF"
      }
    },
    {
      "cell_type": "code",
      "source": [
        "from google.colab import drive\n",
        "drive.mount('/content/drive')"
      ],
      "metadata": {
        "colab": {
          "base_uri": "https://localhost:8080/"
        },
        "id": "YG8zo69QCyUN",
        "outputId": "d02aa521-ad8f-4114-d6ee-c965df55c21c"
      },
      "execution_count": 1,
      "outputs": [
        {
          "output_type": "stream",
          "name": "stdout",
          "text": [
            "Mounted at /content/drive\n"
          ]
        }
      ]
    },
    {
      "cell_type": "code",
      "source": [
        "!pip install statsmodels"
      ],
      "metadata": {
        "collapsed": true,
        "colab": {
          "base_uri": "https://localhost:8080/"
        },
        "id": "gcs1m5xLj3Qc",
        "outputId": "456eea1a-43de-4395-9f5c-e8a12783bdd3"
      },
      "execution_count": 44,
      "outputs": [
        {
          "output_type": "stream",
          "name": "stdout",
          "text": [
            "Requirement already satisfied: statsmodels in /usr/local/lib/python3.10/dist-packages (0.14.2)\n",
            "Requirement already satisfied: numpy>=1.22.3 in /usr/local/lib/python3.10/dist-packages (from statsmodels) (1.26.4)\n",
            "Requirement already satisfied: scipy!=1.9.2,>=1.8 in /usr/local/lib/python3.10/dist-packages (from statsmodels) (1.13.1)\n",
            "Requirement already satisfied: pandas!=2.1.0,>=1.4 in /usr/local/lib/python3.10/dist-packages (from statsmodels) (2.1.4)\n",
            "Requirement already satisfied: patsy>=0.5.6 in /usr/local/lib/python3.10/dist-packages (from statsmodels) (0.5.6)\n",
            "Requirement already satisfied: packaging>=21.3 in /usr/local/lib/python3.10/dist-packages (from statsmodels) (24.1)\n",
            "Requirement already satisfied: python-dateutil>=2.8.2 in /usr/local/lib/python3.10/dist-packages (from pandas!=2.1.0,>=1.4->statsmodels) (2.8.2)\n",
            "Requirement already satisfied: pytz>=2020.1 in /usr/local/lib/python3.10/dist-packages (from pandas!=2.1.0,>=1.4->statsmodels) (2024.1)\n",
            "Requirement already satisfied: tzdata>=2022.1 in /usr/local/lib/python3.10/dist-packages (from pandas!=2.1.0,>=1.4->statsmodels) (2024.1)\n",
            "Requirement already satisfied: six in /usr/local/lib/python3.10/dist-packages (from patsy>=0.5.6->statsmodels) (1.16.0)\n"
          ]
        }
      ]
    },
    {
      "cell_type": "code",
      "source": [
        "!pip install wquantiles"
      ],
      "metadata": {
        "collapsed": true,
        "colab": {
          "base_uri": "https://localhost:8080/"
        },
        "id": "8xPgB4JDj5t2",
        "outputId": "f9c2f9ab-bf8f-4553-ab17-384b6ed55514"
      },
      "execution_count": 45,
      "outputs": [
        {
          "output_type": "stream",
          "name": "stdout",
          "text": [
            "Collecting wquantiles\n",
            "  Downloading wquantiles-0.6-py3-none-any.whl.metadata (1.1 kB)\n",
            "Requirement already satisfied: numpy>=1.18 in /usr/local/lib/python3.10/dist-packages (from wquantiles) (1.26.4)\n",
            "Downloading wquantiles-0.6-py3-none-any.whl (3.3 kB)\n",
            "Installing collected packages: wquantiles\n",
            "Successfully installed wquantiles-0.6\n"
          ]
        }
      ]
    },
    {
      "cell_type": "code",
      "execution_count": 2,
      "metadata": {
        "id": "OZ5xDVxbwXWv"
      },
      "outputs": [],
      "source": [
        "import pandas as pd # Manipulacion y analisis de datos\n",
        "import numpy as np # Calculos matematicos\n",
        "import matplotlib.pyplot as plt\n",
        "import seaborn as sns # Graficas bonitas\n",
        "import scipy.stats as stats"
      ]
    },
    {
      "cell_type": "code",
      "source": [
        "from scipy.stats import trim_mean\n",
        "from statsmodels import robust"
      ],
      "metadata": {
        "id": "UV1bb_JTkf6_"
      },
      "execution_count": 53,
      "outputs": []
    },
    {
      "cell_type": "code",
      "source": [
        "daRoute = \"/content/drive/MyDrive/Proyecto_CienciaDeDatos/dataset_Ruzi.csv\"\n",
        "df = pd.read_csv(daRoute) #Mostrar mi data set\n",
        "df.head(25)"
      ],
      "metadata": {
        "colab": {
          "base_uri": "https://localhost:8080/",
          "height": 833
        },
        "id": "jkfVPs2ayqRm",
        "outputId": "747233ee-afcc-4303-9cf0-7c7630d4ecfd"
      },
      "execution_count": 22,
      "outputs": [
        {
          "output_type": "execute_result",
          "data": {
            "text/plain": [
              "   champion spell_1       spell_2  win / lose (1/0) durationG(min)   cs  \\\n",
              "0    kai sa   flash  purification                 0          29,12  157   \n",
              "1    kai sa   flash  purification                 0          42,09  253   \n",
              "2    kai sa   flash       barrier                 1          33,32  213   \n",
              "3    kai sa   flash  purification                 0          17,34  130   \n",
              "4    kai sa   flash  purification                 1           21,1  140   \n",
              "5    kai sa   flash       barrier                 0          24,25  159   \n",
              "6    kai sa   flash  purification                 0          34,12  223   \n",
              "7    kai sa   flash       barrier                 1          27,34  227   \n",
              "8    kai sa   flash          heal                 0          26,59  211   \n",
              "9    kai sa   flash  purification                 0          31,27  194   \n",
              "10   kai sa   flash  purification                 0          23,24  130   \n",
              "11   kai sa   flash  purification                 1          21,47  182   \n",
              "12   kai sa   flash          heal                 0          31,21  249   \n",
              "13   kai sa   flash  purification                 1          17,29  166   \n",
              "14   kai sa   flash  purification                 1          33,12  194   \n",
              "15   kai sa   flash  purification                 1          30,43  220   \n",
              "16   kai sa   flash  purification                 0          31,15  256   \n",
              "17   kai sa   flash  purification                 0          33,56  194   \n",
              "18   kai sa   flash       exhaust                 1          28,41  167   \n",
              "19   kai sa   flash  purification                 0          25,29  150   \n",
              "20   kai sa   flash         ghost                 0          25,14  180   \n",
              "21   kai sa   flash  purification                 1           22,8  175   \n",
              "22   kai sa   flash  purification                 0          27,51  197   \n",
              "23   kai sa   flash         ghost                 1          32,04  229   \n",
              "24   kai sa   flash          heal                 0          27,35  248   \n",
              "\n",
              "         cs/min     first item  kills  deaths  assists  vision points  \\\n",
              "0   5,391483516    statik shyv      9       9        8              0   \n",
              "1   6,010928962    statik shyv     22       8        9              0   \n",
              "2   6,392557023    statik shyv     20       4       18              0   \n",
              "3   7,497116494    statik shyv      2       7        8              0   \n",
              "4    6,63507109  kraken slayer      8       3        6              0   \n",
              "5   6,556701031    statik shyv      4       1        1              0   \n",
              "6   6,535756155  kraken slayer     12       7        7              0   \n",
              "7   8,302852963  kraken slayer     13       4        8              0   \n",
              "8   7,935314028  kraken slayer     11       6        2              0   \n",
              "9   6,204029421    statik shyv     12       7        6              0   \n",
              "10  5,593803787    statik shyv      9       7        6              0   \n",
              "11  8,476944574    statik shyv      6       1        4              0   \n",
              "12  7,978212112    statik shyv      6       4        6              0   \n",
              "13   9,60092539    statik shyv      8       0        3              0   \n",
              "14  5,857487923  kraken slayer     19       8        7              0   \n",
              "15  7,229707525    statik shyv     15       5       12              0   \n",
              "16  8,218298555    statik shyv     10       5        4              0   \n",
              "17  5,780691299  kraken slayer     12       5       10              0   \n",
              "18  5,878211897  kraken slayer     16       6        4              0   \n",
              "19  5,931198102  kraken slayer      2       6        5              0   \n",
              "20  7,159904535  kraken slayer     13       7        3              0   \n",
              "21  7,675438596  kraken slayer     12       5        6              0   \n",
              "22  7,161032352  kraken slayer     10       5        5              0   \n",
              "23  7,147315855  kraken slayer     11       3        9              0   \n",
              "24  9,067641682  kraken slayer     10       4        4              0   \n",
              "\n",
              "    ally support  enemy support  enemy adc  patch  \n",
              "0              0              0          0      0  \n",
              "1              0              0          0      0  \n",
              "2              0              0          0      0  \n",
              "3              0              0          0      0  \n",
              "4              0              0          0      0  \n",
              "5              0              0          0      0  \n",
              "6              0              0          0      0  \n",
              "7              0              0          0      0  \n",
              "8              0              0          0      0  \n",
              "9              0              0          0      0  \n",
              "10             0              0          0      0  \n",
              "11             0              0          0      0  \n",
              "12             0              0          0      0  \n",
              "13             0              0          0      0  \n",
              "14             0              0          0      0  \n",
              "15             0              0          0      0  \n",
              "16             0              0          0      0  \n",
              "17             0              0          0      0  \n",
              "18             0              0          0      0  \n",
              "19             0              0          0      0  \n",
              "20             0              0          0      0  \n",
              "21             0              0          0      0  \n",
              "22             0              0          0      0  \n",
              "23             0              0          0      0  \n",
              "24             0              0          0      0  "
            ],
            "text/html": [
              "\n",
              "  <div id=\"df-4c0edcdc-461d-4bf6-b0d6-6fca63d1b478\" class=\"colab-df-container\">\n",
              "    <div>\n",
              "<style scoped>\n",
              "    .dataframe tbody tr th:only-of-type {\n",
              "        vertical-align: middle;\n",
              "    }\n",
              "\n",
              "    .dataframe tbody tr th {\n",
              "        vertical-align: top;\n",
              "    }\n",
              "\n",
              "    .dataframe thead th {\n",
              "        text-align: right;\n",
              "    }\n",
              "</style>\n",
              "<table border=\"1\" class=\"dataframe\">\n",
              "  <thead>\n",
              "    <tr style=\"text-align: right;\">\n",
              "      <th></th>\n",
              "      <th>champion</th>\n",
              "      <th>spell_1</th>\n",
              "      <th>spell_2</th>\n",
              "      <th>win / lose (1/0)</th>\n",
              "      <th>durationG(min)</th>\n",
              "      <th>cs</th>\n",
              "      <th>cs/min</th>\n",
              "      <th>first item</th>\n",
              "      <th>kills</th>\n",
              "      <th>deaths</th>\n",
              "      <th>assists</th>\n",
              "      <th>vision points</th>\n",
              "      <th>ally support</th>\n",
              "      <th>enemy support</th>\n",
              "      <th>enemy adc</th>\n",
              "      <th>patch</th>\n",
              "    </tr>\n",
              "  </thead>\n",
              "  <tbody>\n",
              "    <tr>\n",
              "      <th>0</th>\n",
              "      <td>kai sa</td>\n",
              "      <td>flash</td>\n",
              "      <td>purification</td>\n",
              "      <td>0</td>\n",
              "      <td>29,12</td>\n",
              "      <td>157</td>\n",
              "      <td>5,391483516</td>\n",
              "      <td>statik shyv</td>\n",
              "      <td>9</td>\n",
              "      <td>9</td>\n",
              "      <td>8</td>\n",
              "      <td>0</td>\n",
              "      <td>0</td>\n",
              "      <td>0</td>\n",
              "      <td>0</td>\n",
              "      <td>0</td>\n",
              "    </tr>\n",
              "    <tr>\n",
              "      <th>1</th>\n",
              "      <td>kai sa</td>\n",
              "      <td>flash</td>\n",
              "      <td>purification</td>\n",
              "      <td>0</td>\n",
              "      <td>42,09</td>\n",
              "      <td>253</td>\n",
              "      <td>6,010928962</td>\n",
              "      <td>statik shyv</td>\n",
              "      <td>22</td>\n",
              "      <td>8</td>\n",
              "      <td>9</td>\n",
              "      <td>0</td>\n",
              "      <td>0</td>\n",
              "      <td>0</td>\n",
              "      <td>0</td>\n",
              "      <td>0</td>\n",
              "    </tr>\n",
              "    <tr>\n",
              "      <th>2</th>\n",
              "      <td>kai sa</td>\n",
              "      <td>flash</td>\n",
              "      <td>barrier</td>\n",
              "      <td>1</td>\n",
              "      <td>33,32</td>\n",
              "      <td>213</td>\n",
              "      <td>6,392557023</td>\n",
              "      <td>statik shyv</td>\n",
              "      <td>20</td>\n",
              "      <td>4</td>\n",
              "      <td>18</td>\n",
              "      <td>0</td>\n",
              "      <td>0</td>\n",
              "      <td>0</td>\n",
              "      <td>0</td>\n",
              "      <td>0</td>\n",
              "    </tr>\n",
              "    <tr>\n",
              "      <th>3</th>\n",
              "      <td>kai sa</td>\n",
              "      <td>flash</td>\n",
              "      <td>purification</td>\n",
              "      <td>0</td>\n",
              "      <td>17,34</td>\n",
              "      <td>130</td>\n",
              "      <td>7,497116494</td>\n",
              "      <td>statik shyv</td>\n",
              "      <td>2</td>\n",
              "      <td>7</td>\n",
              "      <td>8</td>\n",
              "      <td>0</td>\n",
              "      <td>0</td>\n",
              "      <td>0</td>\n",
              "      <td>0</td>\n",
              "      <td>0</td>\n",
              "    </tr>\n",
              "    <tr>\n",
              "      <th>4</th>\n",
              "      <td>kai sa</td>\n",
              "      <td>flash</td>\n",
              "      <td>purification</td>\n",
              "      <td>1</td>\n",
              "      <td>21,1</td>\n",
              "      <td>140</td>\n",
              "      <td>6,63507109</td>\n",
              "      <td>kraken slayer</td>\n",
              "      <td>8</td>\n",
              "      <td>3</td>\n",
              "      <td>6</td>\n",
              "      <td>0</td>\n",
              "      <td>0</td>\n",
              "      <td>0</td>\n",
              "      <td>0</td>\n",
              "      <td>0</td>\n",
              "    </tr>\n",
              "    <tr>\n",
              "      <th>5</th>\n",
              "      <td>kai sa</td>\n",
              "      <td>flash</td>\n",
              "      <td>barrier</td>\n",
              "      <td>0</td>\n",
              "      <td>24,25</td>\n",
              "      <td>159</td>\n",
              "      <td>6,556701031</td>\n",
              "      <td>statik shyv</td>\n",
              "      <td>4</td>\n",
              "      <td>1</td>\n",
              "      <td>1</td>\n",
              "      <td>0</td>\n",
              "      <td>0</td>\n",
              "      <td>0</td>\n",
              "      <td>0</td>\n",
              "      <td>0</td>\n",
              "    </tr>\n",
              "    <tr>\n",
              "      <th>6</th>\n",
              "      <td>kai sa</td>\n",
              "      <td>flash</td>\n",
              "      <td>purification</td>\n",
              "      <td>0</td>\n",
              "      <td>34,12</td>\n",
              "      <td>223</td>\n",
              "      <td>6,535756155</td>\n",
              "      <td>kraken slayer</td>\n",
              "      <td>12</td>\n",
              "      <td>7</td>\n",
              "      <td>7</td>\n",
              "      <td>0</td>\n",
              "      <td>0</td>\n",
              "      <td>0</td>\n",
              "      <td>0</td>\n",
              "      <td>0</td>\n",
              "    </tr>\n",
              "    <tr>\n",
              "      <th>7</th>\n",
              "      <td>kai sa</td>\n",
              "      <td>flash</td>\n",
              "      <td>barrier</td>\n",
              "      <td>1</td>\n",
              "      <td>27,34</td>\n",
              "      <td>227</td>\n",
              "      <td>8,302852963</td>\n",
              "      <td>kraken slayer</td>\n",
              "      <td>13</td>\n",
              "      <td>4</td>\n",
              "      <td>8</td>\n",
              "      <td>0</td>\n",
              "      <td>0</td>\n",
              "      <td>0</td>\n",
              "      <td>0</td>\n",
              "      <td>0</td>\n",
              "    </tr>\n",
              "    <tr>\n",
              "      <th>8</th>\n",
              "      <td>kai sa</td>\n",
              "      <td>flash</td>\n",
              "      <td>heal</td>\n",
              "      <td>0</td>\n",
              "      <td>26,59</td>\n",
              "      <td>211</td>\n",
              "      <td>7,935314028</td>\n",
              "      <td>kraken slayer</td>\n",
              "      <td>11</td>\n",
              "      <td>6</td>\n",
              "      <td>2</td>\n",
              "      <td>0</td>\n",
              "      <td>0</td>\n",
              "      <td>0</td>\n",
              "      <td>0</td>\n",
              "      <td>0</td>\n",
              "    </tr>\n",
              "    <tr>\n",
              "      <th>9</th>\n",
              "      <td>kai sa</td>\n",
              "      <td>flash</td>\n",
              "      <td>purification</td>\n",
              "      <td>0</td>\n",
              "      <td>31,27</td>\n",
              "      <td>194</td>\n",
              "      <td>6,204029421</td>\n",
              "      <td>statik shyv</td>\n",
              "      <td>12</td>\n",
              "      <td>7</td>\n",
              "      <td>6</td>\n",
              "      <td>0</td>\n",
              "      <td>0</td>\n",
              "      <td>0</td>\n",
              "      <td>0</td>\n",
              "      <td>0</td>\n",
              "    </tr>\n",
              "    <tr>\n",
              "      <th>10</th>\n",
              "      <td>kai sa</td>\n",
              "      <td>flash</td>\n",
              "      <td>purification</td>\n",
              "      <td>0</td>\n",
              "      <td>23,24</td>\n",
              "      <td>130</td>\n",
              "      <td>5,593803787</td>\n",
              "      <td>statik shyv</td>\n",
              "      <td>9</td>\n",
              "      <td>7</td>\n",
              "      <td>6</td>\n",
              "      <td>0</td>\n",
              "      <td>0</td>\n",
              "      <td>0</td>\n",
              "      <td>0</td>\n",
              "      <td>0</td>\n",
              "    </tr>\n",
              "    <tr>\n",
              "      <th>11</th>\n",
              "      <td>kai sa</td>\n",
              "      <td>flash</td>\n",
              "      <td>purification</td>\n",
              "      <td>1</td>\n",
              "      <td>21,47</td>\n",
              "      <td>182</td>\n",
              "      <td>8,476944574</td>\n",
              "      <td>statik shyv</td>\n",
              "      <td>6</td>\n",
              "      <td>1</td>\n",
              "      <td>4</td>\n",
              "      <td>0</td>\n",
              "      <td>0</td>\n",
              "      <td>0</td>\n",
              "      <td>0</td>\n",
              "      <td>0</td>\n",
              "    </tr>\n",
              "    <tr>\n",
              "      <th>12</th>\n",
              "      <td>kai sa</td>\n",
              "      <td>flash</td>\n",
              "      <td>heal</td>\n",
              "      <td>0</td>\n",
              "      <td>31,21</td>\n",
              "      <td>249</td>\n",
              "      <td>7,978212112</td>\n",
              "      <td>statik shyv</td>\n",
              "      <td>6</td>\n",
              "      <td>4</td>\n",
              "      <td>6</td>\n",
              "      <td>0</td>\n",
              "      <td>0</td>\n",
              "      <td>0</td>\n",
              "      <td>0</td>\n",
              "      <td>0</td>\n",
              "    </tr>\n",
              "    <tr>\n",
              "      <th>13</th>\n",
              "      <td>kai sa</td>\n",
              "      <td>flash</td>\n",
              "      <td>purification</td>\n",
              "      <td>1</td>\n",
              "      <td>17,29</td>\n",
              "      <td>166</td>\n",
              "      <td>9,60092539</td>\n",
              "      <td>statik shyv</td>\n",
              "      <td>8</td>\n",
              "      <td>0</td>\n",
              "      <td>3</td>\n",
              "      <td>0</td>\n",
              "      <td>0</td>\n",
              "      <td>0</td>\n",
              "      <td>0</td>\n",
              "      <td>0</td>\n",
              "    </tr>\n",
              "    <tr>\n",
              "      <th>14</th>\n",
              "      <td>kai sa</td>\n",
              "      <td>flash</td>\n",
              "      <td>purification</td>\n",
              "      <td>1</td>\n",
              "      <td>33,12</td>\n",
              "      <td>194</td>\n",
              "      <td>5,857487923</td>\n",
              "      <td>kraken slayer</td>\n",
              "      <td>19</td>\n",
              "      <td>8</td>\n",
              "      <td>7</td>\n",
              "      <td>0</td>\n",
              "      <td>0</td>\n",
              "      <td>0</td>\n",
              "      <td>0</td>\n",
              "      <td>0</td>\n",
              "    </tr>\n",
              "    <tr>\n",
              "      <th>15</th>\n",
              "      <td>kai sa</td>\n",
              "      <td>flash</td>\n",
              "      <td>purification</td>\n",
              "      <td>1</td>\n",
              "      <td>30,43</td>\n",
              "      <td>220</td>\n",
              "      <td>7,229707525</td>\n",
              "      <td>statik shyv</td>\n",
              "      <td>15</td>\n",
              "      <td>5</td>\n",
              "      <td>12</td>\n",
              "      <td>0</td>\n",
              "      <td>0</td>\n",
              "      <td>0</td>\n",
              "      <td>0</td>\n",
              "      <td>0</td>\n",
              "    </tr>\n",
              "    <tr>\n",
              "      <th>16</th>\n",
              "      <td>kai sa</td>\n",
              "      <td>flash</td>\n",
              "      <td>purification</td>\n",
              "      <td>0</td>\n",
              "      <td>31,15</td>\n",
              "      <td>256</td>\n",
              "      <td>8,218298555</td>\n",
              "      <td>statik shyv</td>\n",
              "      <td>10</td>\n",
              "      <td>5</td>\n",
              "      <td>4</td>\n",
              "      <td>0</td>\n",
              "      <td>0</td>\n",
              "      <td>0</td>\n",
              "      <td>0</td>\n",
              "      <td>0</td>\n",
              "    </tr>\n",
              "    <tr>\n",
              "      <th>17</th>\n",
              "      <td>kai sa</td>\n",
              "      <td>flash</td>\n",
              "      <td>purification</td>\n",
              "      <td>0</td>\n",
              "      <td>33,56</td>\n",
              "      <td>194</td>\n",
              "      <td>5,780691299</td>\n",
              "      <td>kraken slayer</td>\n",
              "      <td>12</td>\n",
              "      <td>5</td>\n",
              "      <td>10</td>\n",
              "      <td>0</td>\n",
              "      <td>0</td>\n",
              "      <td>0</td>\n",
              "      <td>0</td>\n",
              "      <td>0</td>\n",
              "    </tr>\n",
              "    <tr>\n",
              "      <th>18</th>\n",
              "      <td>kai sa</td>\n",
              "      <td>flash</td>\n",
              "      <td>exhaust</td>\n",
              "      <td>1</td>\n",
              "      <td>28,41</td>\n",
              "      <td>167</td>\n",
              "      <td>5,878211897</td>\n",
              "      <td>kraken slayer</td>\n",
              "      <td>16</td>\n",
              "      <td>6</td>\n",
              "      <td>4</td>\n",
              "      <td>0</td>\n",
              "      <td>0</td>\n",
              "      <td>0</td>\n",
              "      <td>0</td>\n",
              "      <td>0</td>\n",
              "    </tr>\n",
              "    <tr>\n",
              "      <th>19</th>\n",
              "      <td>kai sa</td>\n",
              "      <td>flash</td>\n",
              "      <td>purification</td>\n",
              "      <td>0</td>\n",
              "      <td>25,29</td>\n",
              "      <td>150</td>\n",
              "      <td>5,931198102</td>\n",
              "      <td>kraken slayer</td>\n",
              "      <td>2</td>\n",
              "      <td>6</td>\n",
              "      <td>5</td>\n",
              "      <td>0</td>\n",
              "      <td>0</td>\n",
              "      <td>0</td>\n",
              "      <td>0</td>\n",
              "      <td>0</td>\n",
              "    </tr>\n",
              "    <tr>\n",
              "      <th>20</th>\n",
              "      <td>kai sa</td>\n",
              "      <td>flash</td>\n",
              "      <td>ghost</td>\n",
              "      <td>0</td>\n",
              "      <td>25,14</td>\n",
              "      <td>180</td>\n",
              "      <td>7,159904535</td>\n",
              "      <td>kraken slayer</td>\n",
              "      <td>13</td>\n",
              "      <td>7</td>\n",
              "      <td>3</td>\n",
              "      <td>0</td>\n",
              "      <td>0</td>\n",
              "      <td>0</td>\n",
              "      <td>0</td>\n",
              "      <td>0</td>\n",
              "    </tr>\n",
              "    <tr>\n",
              "      <th>21</th>\n",
              "      <td>kai sa</td>\n",
              "      <td>flash</td>\n",
              "      <td>purification</td>\n",
              "      <td>1</td>\n",
              "      <td>22,8</td>\n",
              "      <td>175</td>\n",
              "      <td>7,675438596</td>\n",
              "      <td>kraken slayer</td>\n",
              "      <td>12</td>\n",
              "      <td>5</td>\n",
              "      <td>6</td>\n",
              "      <td>0</td>\n",
              "      <td>0</td>\n",
              "      <td>0</td>\n",
              "      <td>0</td>\n",
              "      <td>0</td>\n",
              "    </tr>\n",
              "    <tr>\n",
              "      <th>22</th>\n",
              "      <td>kai sa</td>\n",
              "      <td>flash</td>\n",
              "      <td>purification</td>\n",
              "      <td>0</td>\n",
              "      <td>27,51</td>\n",
              "      <td>197</td>\n",
              "      <td>7,161032352</td>\n",
              "      <td>kraken slayer</td>\n",
              "      <td>10</td>\n",
              "      <td>5</td>\n",
              "      <td>5</td>\n",
              "      <td>0</td>\n",
              "      <td>0</td>\n",
              "      <td>0</td>\n",
              "      <td>0</td>\n",
              "      <td>0</td>\n",
              "    </tr>\n",
              "    <tr>\n",
              "      <th>23</th>\n",
              "      <td>kai sa</td>\n",
              "      <td>flash</td>\n",
              "      <td>ghost</td>\n",
              "      <td>1</td>\n",
              "      <td>32,04</td>\n",
              "      <td>229</td>\n",
              "      <td>7,147315855</td>\n",
              "      <td>kraken slayer</td>\n",
              "      <td>11</td>\n",
              "      <td>3</td>\n",
              "      <td>9</td>\n",
              "      <td>0</td>\n",
              "      <td>0</td>\n",
              "      <td>0</td>\n",
              "      <td>0</td>\n",
              "      <td>0</td>\n",
              "    </tr>\n",
              "    <tr>\n",
              "      <th>24</th>\n",
              "      <td>kai sa</td>\n",
              "      <td>flash</td>\n",
              "      <td>heal</td>\n",
              "      <td>0</td>\n",
              "      <td>27,35</td>\n",
              "      <td>248</td>\n",
              "      <td>9,067641682</td>\n",
              "      <td>kraken slayer</td>\n",
              "      <td>10</td>\n",
              "      <td>4</td>\n",
              "      <td>4</td>\n",
              "      <td>0</td>\n",
              "      <td>0</td>\n",
              "      <td>0</td>\n",
              "      <td>0</td>\n",
              "      <td>0</td>\n",
              "    </tr>\n",
              "  </tbody>\n",
              "</table>\n",
              "</div>\n",
              "    <div class=\"colab-df-buttons\">\n",
              "\n",
              "  <div class=\"colab-df-container\">\n",
              "    <button class=\"colab-df-convert\" onclick=\"convertToInteractive('df-4c0edcdc-461d-4bf6-b0d6-6fca63d1b478')\"\n",
              "            title=\"Convert this dataframe to an interactive table.\"\n",
              "            style=\"display:none;\">\n",
              "\n",
              "  <svg xmlns=\"http://www.w3.org/2000/svg\" height=\"24px\" viewBox=\"0 -960 960 960\">\n",
              "    <path d=\"M120-120v-720h720v720H120Zm60-500h600v-160H180v160Zm220 220h160v-160H400v160Zm0 220h160v-160H400v160ZM180-400h160v-160H180v160Zm440 0h160v-160H620v160ZM180-180h160v-160H180v160Zm440 0h160v-160H620v160Z\"/>\n",
              "  </svg>\n",
              "    </button>\n",
              "\n",
              "  <style>\n",
              "    .colab-df-container {\n",
              "      display:flex;\n",
              "      gap: 12px;\n",
              "    }\n",
              "\n",
              "    .colab-df-convert {\n",
              "      background-color: #E8F0FE;\n",
              "      border: none;\n",
              "      border-radius: 50%;\n",
              "      cursor: pointer;\n",
              "      display: none;\n",
              "      fill: #1967D2;\n",
              "      height: 32px;\n",
              "      padding: 0 0 0 0;\n",
              "      width: 32px;\n",
              "    }\n",
              "\n",
              "    .colab-df-convert:hover {\n",
              "      background-color: #E2EBFA;\n",
              "      box-shadow: 0px 1px 2px rgba(60, 64, 67, 0.3), 0px 1px 3px 1px rgba(60, 64, 67, 0.15);\n",
              "      fill: #174EA6;\n",
              "    }\n",
              "\n",
              "    .colab-df-buttons div {\n",
              "      margin-bottom: 4px;\n",
              "    }\n",
              "\n",
              "    [theme=dark] .colab-df-convert {\n",
              "      background-color: #3B4455;\n",
              "      fill: #D2E3FC;\n",
              "    }\n",
              "\n",
              "    [theme=dark] .colab-df-convert:hover {\n",
              "      background-color: #434B5C;\n",
              "      box-shadow: 0px 1px 3px 1px rgba(0, 0, 0, 0.15);\n",
              "      filter: drop-shadow(0px 1px 2px rgba(0, 0, 0, 0.3));\n",
              "      fill: #FFFFFF;\n",
              "    }\n",
              "  </style>\n",
              "\n",
              "    <script>\n",
              "      const buttonEl =\n",
              "        document.querySelector('#df-4c0edcdc-461d-4bf6-b0d6-6fca63d1b478 button.colab-df-convert');\n",
              "      buttonEl.style.display =\n",
              "        google.colab.kernel.accessAllowed ? 'block' : 'none';\n",
              "\n",
              "      async function convertToInteractive(key) {\n",
              "        const element = document.querySelector('#df-4c0edcdc-461d-4bf6-b0d6-6fca63d1b478');\n",
              "        const dataTable =\n",
              "          await google.colab.kernel.invokeFunction('convertToInteractive',\n",
              "                                                    [key], {});\n",
              "        if (!dataTable) return;\n",
              "\n",
              "        const docLinkHtml = 'Like what you see? Visit the ' +\n",
              "          '<a target=\"_blank\" href=https://colab.research.google.com/notebooks/data_table.ipynb>data table notebook</a>'\n",
              "          + ' to learn more about interactive tables.';\n",
              "        element.innerHTML = '';\n",
              "        dataTable['output_type'] = 'display_data';\n",
              "        await google.colab.output.renderOutput(dataTable, element);\n",
              "        const docLink = document.createElement('div');\n",
              "        docLink.innerHTML = docLinkHtml;\n",
              "        element.appendChild(docLink);\n",
              "      }\n",
              "    </script>\n",
              "  </div>\n",
              "\n",
              "\n",
              "<div id=\"df-cf824f71-47fa-4b47-afe7-78952a378fc0\">\n",
              "  <button class=\"colab-df-quickchart\" onclick=\"quickchart('df-cf824f71-47fa-4b47-afe7-78952a378fc0')\"\n",
              "            title=\"Suggest charts\"\n",
              "            style=\"display:none;\">\n",
              "\n",
              "<svg xmlns=\"http://www.w3.org/2000/svg\" height=\"24px\"viewBox=\"0 0 24 24\"\n",
              "     width=\"24px\">\n",
              "    <g>\n",
              "        <path d=\"M19 3H5c-1.1 0-2 .9-2 2v14c0 1.1.9 2 2 2h14c1.1 0 2-.9 2-2V5c0-1.1-.9-2-2-2zM9 17H7v-7h2v7zm4 0h-2V7h2v10zm4 0h-2v-4h2v4z\"/>\n",
              "    </g>\n",
              "</svg>\n",
              "  </button>\n",
              "\n",
              "<style>\n",
              "  .colab-df-quickchart {\n",
              "      --bg-color: #E8F0FE;\n",
              "      --fill-color: #1967D2;\n",
              "      --hover-bg-color: #E2EBFA;\n",
              "      --hover-fill-color: #174EA6;\n",
              "      --disabled-fill-color: #AAA;\n",
              "      --disabled-bg-color: #DDD;\n",
              "  }\n",
              "\n",
              "  [theme=dark] .colab-df-quickchart {\n",
              "      --bg-color: #3B4455;\n",
              "      --fill-color: #D2E3FC;\n",
              "      --hover-bg-color: #434B5C;\n",
              "      --hover-fill-color: #FFFFFF;\n",
              "      --disabled-bg-color: #3B4455;\n",
              "      --disabled-fill-color: #666;\n",
              "  }\n",
              "\n",
              "  .colab-df-quickchart {\n",
              "    background-color: var(--bg-color);\n",
              "    border: none;\n",
              "    border-radius: 50%;\n",
              "    cursor: pointer;\n",
              "    display: none;\n",
              "    fill: var(--fill-color);\n",
              "    height: 32px;\n",
              "    padding: 0;\n",
              "    width: 32px;\n",
              "  }\n",
              "\n",
              "  .colab-df-quickchart:hover {\n",
              "    background-color: var(--hover-bg-color);\n",
              "    box-shadow: 0 1px 2px rgba(60, 64, 67, 0.3), 0 1px 3px 1px rgba(60, 64, 67, 0.15);\n",
              "    fill: var(--button-hover-fill-color);\n",
              "  }\n",
              "\n",
              "  .colab-df-quickchart-complete:disabled,\n",
              "  .colab-df-quickchart-complete:disabled:hover {\n",
              "    background-color: var(--disabled-bg-color);\n",
              "    fill: var(--disabled-fill-color);\n",
              "    box-shadow: none;\n",
              "  }\n",
              "\n",
              "  .colab-df-spinner {\n",
              "    border: 2px solid var(--fill-color);\n",
              "    border-color: transparent;\n",
              "    border-bottom-color: var(--fill-color);\n",
              "    animation:\n",
              "      spin 1s steps(1) infinite;\n",
              "  }\n",
              "\n",
              "  @keyframes spin {\n",
              "    0% {\n",
              "      border-color: transparent;\n",
              "      border-bottom-color: var(--fill-color);\n",
              "      border-left-color: var(--fill-color);\n",
              "    }\n",
              "    20% {\n",
              "      border-color: transparent;\n",
              "      border-left-color: var(--fill-color);\n",
              "      border-top-color: var(--fill-color);\n",
              "    }\n",
              "    30% {\n",
              "      border-color: transparent;\n",
              "      border-left-color: var(--fill-color);\n",
              "      border-top-color: var(--fill-color);\n",
              "      border-right-color: var(--fill-color);\n",
              "    }\n",
              "    40% {\n",
              "      border-color: transparent;\n",
              "      border-right-color: var(--fill-color);\n",
              "      border-top-color: var(--fill-color);\n",
              "    }\n",
              "    60% {\n",
              "      border-color: transparent;\n",
              "      border-right-color: var(--fill-color);\n",
              "    }\n",
              "    80% {\n",
              "      border-color: transparent;\n",
              "      border-right-color: var(--fill-color);\n",
              "      border-bottom-color: var(--fill-color);\n",
              "    }\n",
              "    90% {\n",
              "      border-color: transparent;\n",
              "      border-bottom-color: var(--fill-color);\n",
              "    }\n",
              "  }\n",
              "</style>\n",
              "\n",
              "  <script>\n",
              "    async function quickchart(key) {\n",
              "      const quickchartButtonEl =\n",
              "        document.querySelector('#' + key + ' button');\n",
              "      quickchartButtonEl.disabled = true;  // To prevent multiple clicks.\n",
              "      quickchartButtonEl.classList.add('colab-df-spinner');\n",
              "      try {\n",
              "        const charts = await google.colab.kernel.invokeFunction(\n",
              "            'suggestCharts', [key], {});\n",
              "      } catch (error) {\n",
              "        console.error('Error during call to suggestCharts:', error);\n",
              "      }\n",
              "      quickchartButtonEl.classList.remove('colab-df-spinner');\n",
              "      quickchartButtonEl.classList.add('colab-df-quickchart-complete');\n",
              "    }\n",
              "    (() => {\n",
              "      let quickchartButtonEl =\n",
              "        document.querySelector('#df-cf824f71-47fa-4b47-afe7-78952a378fc0 button');\n",
              "      quickchartButtonEl.style.display =\n",
              "        google.colab.kernel.accessAllowed ? 'block' : 'none';\n",
              "    })();\n",
              "  </script>\n",
              "</div>\n",
              "\n",
              "    </div>\n",
              "  </div>\n"
            ],
            "application/vnd.google.colaboratory.intrinsic+json": {
              "type": "dataframe",
              "variable_name": "df",
              "summary": "{\n  \"name\": \"df\",\n  \"rows\": 25,\n  \"fields\": [\n    {\n      \"column\": \"champion\",\n      \"properties\": {\n        \"dtype\": \"category\",\n        \"num_unique_values\": 1,\n        \"samples\": [\n          \"kai sa\"\n        ],\n        \"semantic_type\": \"\",\n        \"description\": \"\"\n      }\n    },\n    {\n      \"column\": \"spell_1\",\n      \"properties\": {\n        \"dtype\": \"category\",\n        \"num_unique_values\": 1,\n        \"samples\": [\n          \"flash\"\n        ],\n        \"semantic_type\": \"\",\n        \"description\": \"\"\n      }\n    },\n    {\n      \"column\": \"spell_2\",\n      \"properties\": {\n        \"dtype\": \"category\",\n        \"num_unique_values\": 5,\n        \"samples\": [\n          \"barrier\"\n        ],\n        \"semantic_type\": \"\",\n        \"description\": \"\"\n      }\n    },\n    {\n      \"column\": \"win / lose (1/0)\",\n      \"properties\": {\n        \"dtype\": \"number\",\n        \"std\": 0,\n        \"min\": 0,\n        \"max\": 1,\n        \"num_unique_values\": 2,\n        \"samples\": [\n          1\n        ],\n        \"semantic_type\": \"\",\n        \"description\": \"\"\n      }\n    },\n    {\n      \"column\": \"durationG(min)\",\n      \"properties\": {\n        \"dtype\": \"string\",\n        \"num_unique_values\": 25,\n        \"samples\": [\n          \"26,59\"\n        ],\n        \"semantic_type\": \"\",\n        \"description\": \"\"\n      }\n    },\n    {\n      \"column\": \"cs\",\n      \"properties\": {\n        \"dtype\": \"number\",\n        \"std\": 38,\n        \"min\": 130,\n        \"max\": 256,\n        \"num_unique_values\": 22,\n        \"samples\": [\n          157\n        ],\n        \"semantic_type\": \"\",\n        \"description\": \"\"\n      }\n    },\n    {\n      \"column\": \"cs/min\",\n      \"properties\": {\n        \"dtype\": \"string\",\n        \"num_unique_values\": 25,\n        \"samples\": [\n          \"7,935314028\"\n        ],\n        \"semantic_type\": \"\",\n        \"description\": \"\"\n      }\n    },\n    {\n      \"column\": \"first item\",\n      \"properties\": {\n        \"dtype\": \"category\",\n        \"num_unique_values\": 2,\n        \"samples\": [\n          \"kraken slayer\"\n        ],\n        \"semantic_type\": \"\",\n        \"description\": \"\"\n      }\n    },\n    {\n      \"column\": \"kills\",\n      \"properties\": {\n        \"dtype\": \"number\",\n        \"std\": 5,\n        \"min\": 2,\n        \"max\": 22,\n        \"num_unique_values\": 14,\n        \"samples\": [\n          6\n        ],\n        \"semantic_type\": \"\",\n        \"description\": \"\"\n      }\n    },\n    {\n      \"column\": \"deaths\",\n      \"properties\": {\n        \"dtype\": \"number\",\n        \"std\": 2,\n        \"min\": 0,\n        \"max\": 9,\n        \"num_unique_values\": 9,\n        \"samples\": [\n          0\n        ],\n        \"semantic_type\": \"\",\n        \"description\": \"\"\n      }\n    },\n    {\n      \"column\": \"assists\",\n      \"properties\": {\n        \"dtype\": \"number\",\n        \"std\": 3,\n        \"min\": 1,\n        \"max\": 18,\n        \"num_unique_values\": 12,\n        \"samples\": [\n          10\n        ],\n        \"semantic_type\": \"\",\n        \"description\": \"\"\n      }\n    },\n    {\n      \"column\": \"vision points\",\n      \"properties\": {\n        \"dtype\": \"number\",\n        \"std\": 0,\n        \"min\": 0,\n        \"max\": 0,\n        \"num_unique_values\": 1,\n        \"samples\": [\n          0\n        ],\n        \"semantic_type\": \"\",\n        \"description\": \"\"\n      }\n    },\n    {\n      \"column\": \"ally support\",\n      \"properties\": {\n        \"dtype\": \"number\",\n        \"std\": 0,\n        \"min\": 0,\n        \"max\": 0,\n        \"num_unique_values\": 1,\n        \"samples\": [\n          0\n        ],\n        \"semantic_type\": \"\",\n        \"description\": \"\"\n      }\n    },\n    {\n      \"column\": \"enemy support\",\n      \"properties\": {\n        \"dtype\": \"number\",\n        \"std\": 0,\n        \"min\": 0,\n        \"max\": 0,\n        \"num_unique_values\": 1,\n        \"samples\": [\n          0\n        ],\n        \"semantic_type\": \"\",\n        \"description\": \"\"\n      }\n    },\n    {\n      \"column\": \"enemy adc\",\n      \"properties\": {\n        \"dtype\": \"number\",\n        \"std\": 0,\n        \"min\": 0,\n        \"max\": 0,\n        \"num_unique_values\": 1,\n        \"samples\": [\n          0\n        ],\n        \"semantic_type\": \"\",\n        \"description\": \"\"\n      }\n    },\n    {\n      \"column\": \"patch\",\n      \"properties\": {\n        \"dtype\": \"number\",\n        \"std\": 0,\n        \"min\": 0,\n        \"max\": 0,\n        \"num_unique_values\": 1,\n        \"samples\": [\n          0\n        ],\n        \"semantic_type\": \"\",\n        \"description\": \"\"\n      }\n    }\n  ]\n}"
            }
          },
          "metadata": {},
          "execution_count": 22
        }
      ]
    },
    {
      "cell_type": "code",
      "source": [
        "df.info() # Muestra informacion de mi data set"
      ],
      "metadata": {
        "colab": {
          "base_uri": "https://localhost:8080/"
        },
        "id": "znueJkaAZUVR",
        "outputId": "1ece7aac-6a2c-4fc3-ee54-cdda0933d224"
      },
      "execution_count": 31,
      "outputs": [
        {
          "output_type": "stream",
          "name": "stdout",
          "text": [
            "<class 'pandas.core.frame.DataFrame'>\n",
            "RangeIndex: 25 entries, 0 to 24\n",
            "Data columns (total 16 columns):\n",
            " #   Column            Non-Null Count  Dtype \n",
            "---  ------            --------------  ----- \n",
            " 0   champion          25 non-null     object\n",
            " 1   spell_1           25 non-null     object\n",
            " 2   spell_2           25 non-null     object\n",
            " 3   win / lose (1/0)  25 non-null     int64 \n",
            " 4   durationG(min)    25 non-null     object\n",
            " 5   cs                25 non-null     int64 \n",
            " 6   cs/min            25 non-null     object\n",
            " 7   first item        25 non-null     object\n",
            " 8   kills             25 non-null     int64 \n",
            " 9   deaths            25 non-null     int64 \n",
            " 10  assists           25 non-null     int64 \n",
            " 11  vision points     25 non-null     int64 \n",
            " 12  ally support      25 non-null     int64 \n",
            " 13  enemy support     25 non-null     int64 \n",
            " 14  enemy adc         25 non-null     int64 \n",
            " 15  patch             25 non-null     int64 \n",
            "dtypes: int64(10), object(6)\n",
            "memory usage: 3.2+ KB\n"
          ]
        }
      ]
    },
    {
      "cell_type": "code",
      "source": [
        "df.describe() # Muestra estadisticas de mi data set"
      ],
      "metadata": {
        "colab": {
          "base_uri": "https://localhost:8080/",
          "height": 300
        },
        "id": "oSBCggV1ZjAo",
        "outputId": "716130a0-ceaa-4608-f389-c933111b21c3"
      },
      "execution_count": 32,
      "outputs": [
        {
          "output_type": "execute_result",
          "data": {
            "text/plain": [
              "       win / lose (1/0)          cs      kills     deaths    assists  \\\n",
              "count              25.0   25.000000  25.000000  25.000000  25.000000   \n",
              "mean                0.4  193.760000  10.880000   5.080000   6.440000   \n",
              "std                 0.5   38.517615   5.035871   2.289833   3.536477   \n",
              "min                 0.0  130.000000   2.000000   0.000000   1.000000   \n",
              "25%                 0.0  166.000000   8.000000   4.000000   4.000000   \n",
              "50%                 0.0  194.000000  11.000000   5.000000   6.000000   \n",
              "75%                 1.0  223.000000  13.000000   7.000000   8.000000   \n",
              "max                 1.0  256.000000  22.000000   9.000000  18.000000   \n",
              "\n",
              "       vision points  ally support  enemy support  enemy adc  patch  \n",
              "count           25.0          25.0           25.0       25.0   25.0  \n",
              "mean             0.0           0.0            0.0        0.0    0.0  \n",
              "std              0.0           0.0            0.0        0.0    0.0  \n",
              "min              0.0           0.0            0.0        0.0    0.0  \n",
              "25%              0.0           0.0            0.0        0.0    0.0  \n",
              "50%              0.0           0.0            0.0        0.0    0.0  \n",
              "75%              0.0           0.0            0.0        0.0    0.0  \n",
              "max              0.0           0.0            0.0        0.0    0.0  "
            ],
            "text/html": [
              "\n",
              "  <div id=\"df-29d483ca-8da7-4aad-ad8e-c4d2b6804a85\" class=\"colab-df-container\">\n",
              "    <div>\n",
              "<style scoped>\n",
              "    .dataframe tbody tr th:only-of-type {\n",
              "        vertical-align: middle;\n",
              "    }\n",
              "\n",
              "    .dataframe tbody tr th {\n",
              "        vertical-align: top;\n",
              "    }\n",
              "\n",
              "    .dataframe thead th {\n",
              "        text-align: right;\n",
              "    }\n",
              "</style>\n",
              "<table border=\"1\" class=\"dataframe\">\n",
              "  <thead>\n",
              "    <tr style=\"text-align: right;\">\n",
              "      <th></th>\n",
              "      <th>win / lose (1/0)</th>\n",
              "      <th>cs</th>\n",
              "      <th>kills</th>\n",
              "      <th>deaths</th>\n",
              "      <th>assists</th>\n",
              "      <th>vision points</th>\n",
              "      <th>ally support</th>\n",
              "      <th>enemy support</th>\n",
              "      <th>enemy adc</th>\n",
              "      <th>patch</th>\n",
              "    </tr>\n",
              "  </thead>\n",
              "  <tbody>\n",
              "    <tr>\n",
              "      <th>count</th>\n",
              "      <td>25.0</td>\n",
              "      <td>25.000000</td>\n",
              "      <td>25.000000</td>\n",
              "      <td>25.000000</td>\n",
              "      <td>25.000000</td>\n",
              "      <td>25.0</td>\n",
              "      <td>25.0</td>\n",
              "      <td>25.0</td>\n",
              "      <td>25.0</td>\n",
              "      <td>25.0</td>\n",
              "    </tr>\n",
              "    <tr>\n",
              "      <th>mean</th>\n",
              "      <td>0.4</td>\n",
              "      <td>193.760000</td>\n",
              "      <td>10.880000</td>\n",
              "      <td>5.080000</td>\n",
              "      <td>6.440000</td>\n",
              "      <td>0.0</td>\n",
              "      <td>0.0</td>\n",
              "      <td>0.0</td>\n",
              "      <td>0.0</td>\n",
              "      <td>0.0</td>\n",
              "    </tr>\n",
              "    <tr>\n",
              "      <th>std</th>\n",
              "      <td>0.5</td>\n",
              "      <td>38.517615</td>\n",
              "      <td>5.035871</td>\n",
              "      <td>2.289833</td>\n",
              "      <td>3.536477</td>\n",
              "      <td>0.0</td>\n",
              "      <td>0.0</td>\n",
              "      <td>0.0</td>\n",
              "      <td>0.0</td>\n",
              "      <td>0.0</td>\n",
              "    </tr>\n",
              "    <tr>\n",
              "      <th>min</th>\n",
              "      <td>0.0</td>\n",
              "      <td>130.000000</td>\n",
              "      <td>2.000000</td>\n",
              "      <td>0.000000</td>\n",
              "      <td>1.000000</td>\n",
              "      <td>0.0</td>\n",
              "      <td>0.0</td>\n",
              "      <td>0.0</td>\n",
              "      <td>0.0</td>\n",
              "      <td>0.0</td>\n",
              "    </tr>\n",
              "    <tr>\n",
              "      <th>25%</th>\n",
              "      <td>0.0</td>\n",
              "      <td>166.000000</td>\n",
              "      <td>8.000000</td>\n",
              "      <td>4.000000</td>\n",
              "      <td>4.000000</td>\n",
              "      <td>0.0</td>\n",
              "      <td>0.0</td>\n",
              "      <td>0.0</td>\n",
              "      <td>0.0</td>\n",
              "      <td>0.0</td>\n",
              "    </tr>\n",
              "    <tr>\n",
              "      <th>50%</th>\n",
              "      <td>0.0</td>\n",
              "      <td>194.000000</td>\n",
              "      <td>11.000000</td>\n",
              "      <td>5.000000</td>\n",
              "      <td>6.000000</td>\n",
              "      <td>0.0</td>\n",
              "      <td>0.0</td>\n",
              "      <td>0.0</td>\n",
              "      <td>0.0</td>\n",
              "      <td>0.0</td>\n",
              "    </tr>\n",
              "    <tr>\n",
              "      <th>75%</th>\n",
              "      <td>1.0</td>\n",
              "      <td>223.000000</td>\n",
              "      <td>13.000000</td>\n",
              "      <td>7.000000</td>\n",
              "      <td>8.000000</td>\n",
              "      <td>0.0</td>\n",
              "      <td>0.0</td>\n",
              "      <td>0.0</td>\n",
              "      <td>0.0</td>\n",
              "      <td>0.0</td>\n",
              "    </tr>\n",
              "    <tr>\n",
              "      <th>max</th>\n",
              "      <td>1.0</td>\n",
              "      <td>256.000000</td>\n",
              "      <td>22.000000</td>\n",
              "      <td>9.000000</td>\n",
              "      <td>18.000000</td>\n",
              "      <td>0.0</td>\n",
              "      <td>0.0</td>\n",
              "      <td>0.0</td>\n",
              "      <td>0.0</td>\n",
              "      <td>0.0</td>\n",
              "    </tr>\n",
              "  </tbody>\n",
              "</table>\n",
              "</div>\n",
              "    <div class=\"colab-df-buttons\">\n",
              "\n",
              "  <div class=\"colab-df-container\">\n",
              "    <button class=\"colab-df-convert\" onclick=\"convertToInteractive('df-29d483ca-8da7-4aad-ad8e-c4d2b6804a85')\"\n",
              "            title=\"Convert this dataframe to an interactive table.\"\n",
              "            style=\"display:none;\">\n",
              "\n",
              "  <svg xmlns=\"http://www.w3.org/2000/svg\" height=\"24px\" viewBox=\"0 -960 960 960\">\n",
              "    <path d=\"M120-120v-720h720v720H120Zm60-500h600v-160H180v160Zm220 220h160v-160H400v160Zm0 220h160v-160H400v160ZM180-400h160v-160H180v160Zm440 0h160v-160H620v160ZM180-180h160v-160H180v160Zm440 0h160v-160H620v160Z\"/>\n",
              "  </svg>\n",
              "    </button>\n",
              "\n",
              "  <style>\n",
              "    .colab-df-container {\n",
              "      display:flex;\n",
              "      gap: 12px;\n",
              "    }\n",
              "\n",
              "    .colab-df-convert {\n",
              "      background-color: #E8F0FE;\n",
              "      border: none;\n",
              "      border-radius: 50%;\n",
              "      cursor: pointer;\n",
              "      display: none;\n",
              "      fill: #1967D2;\n",
              "      height: 32px;\n",
              "      padding: 0 0 0 0;\n",
              "      width: 32px;\n",
              "    }\n",
              "\n",
              "    .colab-df-convert:hover {\n",
              "      background-color: #E2EBFA;\n",
              "      box-shadow: 0px 1px 2px rgba(60, 64, 67, 0.3), 0px 1px 3px 1px rgba(60, 64, 67, 0.15);\n",
              "      fill: #174EA6;\n",
              "    }\n",
              "\n",
              "    .colab-df-buttons div {\n",
              "      margin-bottom: 4px;\n",
              "    }\n",
              "\n",
              "    [theme=dark] .colab-df-convert {\n",
              "      background-color: #3B4455;\n",
              "      fill: #D2E3FC;\n",
              "    }\n",
              "\n",
              "    [theme=dark] .colab-df-convert:hover {\n",
              "      background-color: #434B5C;\n",
              "      box-shadow: 0px 1px 3px 1px rgba(0, 0, 0, 0.15);\n",
              "      filter: drop-shadow(0px 1px 2px rgba(0, 0, 0, 0.3));\n",
              "      fill: #FFFFFF;\n",
              "    }\n",
              "  </style>\n",
              "\n",
              "    <script>\n",
              "      const buttonEl =\n",
              "        document.querySelector('#df-29d483ca-8da7-4aad-ad8e-c4d2b6804a85 button.colab-df-convert');\n",
              "      buttonEl.style.display =\n",
              "        google.colab.kernel.accessAllowed ? 'block' : 'none';\n",
              "\n",
              "      async function convertToInteractive(key) {\n",
              "        const element = document.querySelector('#df-29d483ca-8da7-4aad-ad8e-c4d2b6804a85');\n",
              "        const dataTable =\n",
              "          await google.colab.kernel.invokeFunction('convertToInteractive',\n",
              "                                                    [key], {});\n",
              "        if (!dataTable) return;\n",
              "\n",
              "        const docLinkHtml = 'Like what you see? Visit the ' +\n",
              "          '<a target=\"_blank\" href=https://colab.research.google.com/notebooks/data_table.ipynb>data table notebook</a>'\n",
              "          + ' to learn more about interactive tables.';\n",
              "        element.innerHTML = '';\n",
              "        dataTable['output_type'] = 'display_data';\n",
              "        await google.colab.output.renderOutput(dataTable, element);\n",
              "        const docLink = document.createElement('div');\n",
              "        docLink.innerHTML = docLinkHtml;\n",
              "        element.appendChild(docLink);\n",
              "      }\n",
              "    </script>\n",
              "  </div>\n",
              "\n",
              "\n",
              "<div id=\"df-fc00cc53-3c96-423e-90d8-f50d5df3f5f1\">\n",
              "  <button class=\"colab-df-quickchart\" onclick=\"quickchart('df-fc00cc53-3c96-423e-90d8-f50d5df3f5f1')\"\n",
              "            title=\"Suggest charts\"\n",
              "            style=\"display:none;\">\n",
              "\n",
              "<svg xmlns=\"http://www.w3.org/2000/svg\" height=\"24px\"viewBox=\"0 0 24 24\"\n",
              "     width=\"24px\">\n",
              "    <g>\n",
              "        <path d=\"M19 3H5c-1.1 0-2 .9-2 2v14c0 1.1.9 2 2 2h14c1.1 0 2-.9 2-2V5c0-1.1-.9-2-2-2zM9 17H7v-7h2v7zm4 0h-2V7h2v10zm4 0h-2v-4h2v4z\"/>\n",
              "    </g>\n",
              "</svg>\n",
              "  </button>\n",
              "\n",
              "<style>\n",
              "  .colab-df-quickchart {\n",
              "      --bg-color: #E8F0FE;\n",
              "      --fill-color: #1967D2;\n",
              "      --hover-bg-color: #E2EBFA;\n",
              "      --hover-fill-color: #174EA6;\n",
              "      --disabled-fill-color: #AAA;\n",
              "      --disabled-bg-color: #DDD;\n",
              "  }\n",
              "\n",
              "  [theme=dark] .colab-df-quickchart {\n",
              "      --bg-color: #3B4455;\n",
              "      --fill-color: #D2E3FC;\n",
              "      --hover-bg-color: #434B5C;\n",
              "      --hover-fill-color: #FFFFFF;\n",
              "      --disabled-bg-color: #3B4455;\n",
              "      --disabled-fill-color: #666;\n",
              "  }\n",
              "\n",
              "  .colab-df-quickchart {\n",
              "    background-color: var(--bg-color);\n",
              "    border: none;\n",
              "    border-radius: 50%;\n",
              "    cursor: pointer;\n",
              "    display: none;\n",
              "    fill: var(--fill-color);\n",
              "    height: 32px;\n",
              "    padding: 0;\n",
              "    width: 32px;\n",
              "  }\n",
              "\n",
              "  .colab-df-quickchart:hover {\n",
              "    background-color: var(--hover-bg-color);\n",
              "    box-shadow: 0 1px 2px rgba(60, 64, 67, 0.3), 0 1px 3px 1px rgba(60, 64, 67, 0.15);\n",
              "    fill: var(--button-hover-fill-color);\n",
              "  }\n",
              "\n",
              "  .colab-df-quickchart-complete:disabled,\n",
              "  .colab-df-quickchart-complete:disabled:hover {\n",
              "    background-color: var(--disabled-bg-color);\n",
              "    fill: var(--disabled-fill-color);\n",
              "    box-shadow: none;\n",
              "  }\n",
              "\n",
              "  .colab-df-spinner {\n",
              "    border: 2px solid var(--fill-color);\n",
              "    border-color: transparent;\n",
              "    border-bottom-color: var(--fill-color);\n",
              "    animation:\n",
              "      spin 1s steps(1) infinite;\n",
              "  }\n",
              "\n",
              "  @keyframes spin {\n",
              "    0% {\n",
              "      border-color: transparent;\n",
              "      border-bottom-color: var(--fill-color);\n",
              "      border-left-color: var(--fill-color);\n",
              "    }\n",
              "    20% {\n",
              "      border-color: transparent;\n",
              "      border-left-color: var(--fill-color);\n",
              "      border-top-color: var(--fill-color);\n",
              "    }\n",
              "    30% {\n",
              "      border-color: transparent;\n",
              "      border-left-color: var(--fill-color);\n",
              "      border-top-color: var(--fill-color);\n",
              "      border-right-color: var(--fill-color);\n",
              "    }\n",
              "    40% {\n",
              "      border-color: transparent;\n",
              "      border-right-color: var(--fill-color);\n",
              "      border-top-color: var(--fill-color);\n",
              "    }\n",
              "    60% {\n",
              "      border-color: transparent;\n",
              "      border-right-color: var(--fill-color);\n",
              "    }\n",
              "    80% {\n",
              "      border-color: transparent;\n",
              "      border-right-color: var(--fill-color);\n",
              "      border-bottom-color: var(--fill-color);\n",
              "    }\n",
              "    90% {\n",
              "      border-color: transparent;\n",
              "      border-bottom-color: var(--fill-color);\n",
              "    }\n",
              "  }\n",
              "</style>\n",
              "\n",
              "  <script>\n",
              "    async function quickchart(key) {\n",
              "      const quickchartButtonEl =\n",
              "        document.querySelector('#' + key + ' button');\n",
              "      quickchartButtonEl.disabled = true;  // To prevent multiple clicks.\n",
              "      quickchartButtonEl.classList.add('colab-df-spinner');\n",
              "      try {\n",
              "        const charts = await google.colab.kernel.invokeFunction(\n",
              "            'suggestCharts', [key], {});\n",
              "      } catch (error) {\n",
              "        console.error('Error during call to suggestCharts:', error);\n",
              "      }\n",
              "      quickchartButtonEl.classList.remove('colab-df-spinner');\n",
              "      quickchartButtonEl.classList.add('colab-df-quickchart-complete');\n",
              "    }\n",
              "    (() => {\n",
              "      let quickchartButtonEl =\n",
              "        document.querySelector('#df-fc00cc53-3c96-423e-90d8-f50d5df3f5f1 button');\n",
              "      quickchartButtonEl.style.display =\n",
              "        google.colab.kernel.accessAllowed ? 'block' : 'none';\n",
              "    })();\n",
              "  </script>\n",
              "</div>\n",
              "\n",
              "    </div>\n",
              "  </div>\n"
            ],
            "application/vnd.google.colaboratory.intrinsic+json": {
              "type": "dataframe",
              "summary": "{\n  \"name\": \"df\",\n  \"rows\": 8,\n  \"fields\": [\n    {\n      \"column\": \"win / lose (1/0)\",\n      \"properties\": {\n        \"dtype\": \"number\",\n        \"std\": 8.702288286914621,\n        \"min\": 0.0,\n        \"max\": 25.0,\n        \"num_unique_values\": 5,\n        \"samples\": [\n          0.4,\n          1.0,\n          0.5\n        ],\n        \"semantic_type\": \"\",\n        \"description\": \"\"\n      }\n    },\n    {\n      \"column\": \"cs\",\n      \"properties\": {\n        \"dtype\": \"number\",\n        \"std\": 83.69924528582764,\n        \"min\": 25.0,\n        \"max\": 256.0,\n        \"num_unique_values\": 8,\n        \"samples\": [\n          193.76,\n          194.0,\n          25.0\n        ],\n        \"semantic_type\": \"\",\n        \"description\": \"\"\n      }\n    },\n    {\n      \"column\": \"kills\",\n      \"properties\": {\n        \"dtype\": \"number\",\n        \"std\": 7.897998260583083,\n        \"min\": 2.0,\n        \"max\": 25.0,\n        \"num_unique_values\": 8,\n        \"samples\": [\n          10.88,\n          11.0,\n          25.0\n        ],\n        \"semantic_type\": \"\",\n        \"description\": \"\"\n      }\n    },\n    {\n      \"column\": \"deaths\",\n      \"properties\": {\n        \"dtype\": \"number\",\n        \"std\": 7.705633577109609,\n        \"min\": 0.0,\n        \"max\": 25.0,\n        \"num_unique_values\": 8,\n        \"samples\": [\n          5.08,\n          5.0,\n          25.0\n        ],\n        \"semantic_type\": \"\",\n        \"description\": \"\"\n      }\n    },\n    {\n      \"column\": \"assists\",\n      \"properties\": {\n        \"dtype\": \"number\",\n        \"std\": 8.215000381622554,\n        \"min\": 1.0,\n        \"max\": 25.0,\n        \"num_unique_values\": 8,\n        \"samples\": [\n          6.44,\n          6.0,\n          25.0\n        ],\n        \"semantic_type\": \"\",\n        \"description\": \"\"\n      }\n    },\n    {\n      \"column\": \"vision points\",\n      \"properties\": {\n        \"dtype\": \"number\",\n        \"std\": 8.838834764831844,\n        \"min\": 0.0,\n        \"max\": 25.0,\n        \"num_unique_values\": 2,\n        \"samples\": [\n          0.0,\n          25.0\n        ],\n        \"semantic_type\": \"\",\n        \"description\": \"\"\n      }\n    },\n    {\n      \"column\": \"ally support\",\n      \"properties\": {\n        \"dtype\": \"number\",\n        \"std\": 8.838834764831844,\n        \"min\": 0.0,\n        \"max\": 25.0,\n        \"num_unique_values\": 2,\n        \"samples\": [\n          0.0,\n          25.0\n        ],\n        \"semantic_type\": \"\",\n        \"description\": \"\"\n      }\n    },\n    {\n      \"column\": \"enemy support\",\n      \"properties\": {\n        \"dtype\": \"number\",\n        \"std\": 8.838834764831844,\n        \"min\": 0.0,\n        \"max\": 25.0,\n        \"num_unique_values\": 2,\n        \"samples\": [\n          0.0,\n          25.0\n        ],\n        \"semantic_type\": \"\",\n        \"description\": \"\"\n      }\n    },\n    {\n      \"column\": \"enemy adc\",\n      \"properties\": {\n        \"dtype\": \"number\",\n        \"std\": 8.838834764831844,\n        \"min\": 0.0,\n        \"max\": 25.0,\n        \"num_unique_values\": 2,\n        \"samples\": [\n          0.0,\n          25.0\n        ],\n        \"semantic_type\": \"\",\n        \"description\": \"\"\n      }\n    },\n    {\n      \"column\": \"patch\",\n      \"properties\": {\n        \"dtype\": \"number\",\n        \"std\": 8.838834764831844,\n        \"min\": 0.0,\n        \"max\": 25.0,\n        \"num_unique_values\": 2,\n        \"samples\": [\n          0.0,\n          25.0\n        ],\n        \"semantic_type\": \"\",\n        \"description\": \"\"\n      }\n    }\n  ]\n}"
            }
          },
          "metadata": {},
          "execution_count": 32
        }
      ]
    },
    {
      "cell_type": "code",
      "source": [
        "print(f'This has {len(df.columns)} categories:')\n",
        "stra = ''\n",
        "howManyBySide = 6\n",
        "for i in range(len(df.columns)):\n",
        "  stra += df.columns[i] + ', '\n",
        "  if (i + 1) % howManyBySide == 0:\n",
        "    stra += '\\n'\n",
        "print(stra)"
      ],
      "metadata": {
        "colab": {
          "base_uri": "https://localhost:8080/"
        },
        "id": "kCCtQx3dzIwx",
        "outputId": "5ee4dc24-e6a9-4908-bfa1-4b29dcf2e80c"
      },
      "execution_count": null,
      "outputs": [
        {
          "output_type": "stream",
          "name": "stdout",
          "text": [
            "This has 16 categories:\n",
            "champion, spell_1, spell_2, win / lose (1/0), durationG(min), cs, \n",
            "cs/min, first item, kills, deaths, assists, vision points, \n",
            "ally support, enemy support, enemy adc, patch, \n"
          ]
        }
      ]
    },
    {
      "cell_type": "code",
      "source": [
        "print(f'this dataset has {df.shape[1]} columns and {df.shape[0]} rows') # Mostramos cantidad de filas y columnas"
      ],
      "metadata": {
        "colab": {
          "base_uri": "https://localhost:8080/"
        },
        "id": "wB7qx4bg1E57",
        "outputId": "94854758-f27e-47e5-e3e2-6967c5ba0fdf"
      },
      "execution_count": null,
      "outputs": [
        {
          "output_type": "stream",
          "name": "stdout",
          "text": [
            "this dataset has 16 columns and 25 rows\n"
          ]
        }
      ]
    },
    {
      "cell_type": "code",
      "source": [
        "winRate = df['win / lose (1/0)'].value_counts()\n",
        "winRate # Cuento especificamente la cantidad de victorias y derrotas  (0 = derrota; 1 = victoria)"
      ],
      "metadata": {
        "colab": {
          "base_uri": "https://localhost:8080/",
          "height": 178
        },
        "id": "35mpPwDhIqzj",
        "outputId": "108b44bc-1bd4-45f6-cfc0-9b455cb49099"
      },
      "execution_count": 4,
      "outputs": [
        {
          "output_type": "execute_result",
          "data": {
            "text/plain": [
              "win / lose (1/0)\n",
              "0    15\n",
              "1    10\n",
              "Name: count, dtype: int64"
            ],
            "text/html": [
              "<div>\n",
              "<style scoped>\n",
              "    .dataframe tbody tr th:only-of-type {\n",
              "        vertical-align: middle;\n",
              "    }\n",
              "\n",
              "    .dataframe tbody tr th {\n",
              "        vertical-align: top;\n",
              "    }\n",
              "\n",
              "    .dataframe thead th {\n",
              "        text-align: right;\n",
              "    }\n",
              "</style>\n",
              "<table border=\"1\" class=\"dataframe\">\n",
              "  <thead>\n",
              "    <tr style=\"text-align: right;\">\n",
              "      <th></th>\n",
              "      <th>count</th>\n",
              "    </tr>\n",
              "    <tr>\n",
              "      <th>win / lose (1/0)</th>\n",
              "      <th></th>\n",
              "    </tr>\n",
              "  </thead>\n",
              "  <tbody>\n",
              "    <tr>\n",
              "      <th>0</th>\n",
              "      <td>15</td>\n",
              "    </tr>\n",
              "    <tr>\n",
              "      <th>1</th>\n",
              "      <td>10</td>\n",
              "    </tr>\n",
              "  </tbody>\n",
              "</table>\n",
              "</div><br><label><b>dtype:</b> int64</label>"
            ]
          },
          "metadata": {},
          "execution_count": 4
        }
      ]
    },
    {
      "cell_type": "code",
      "source": [
        "wR= (winRate[1] / winRate.sum()) * 100 # Con esto estoy calculando el porcentaje de victorias\n",
        "print(f'Porcentaje de victorias: {wR:.2f}%')"
      ],
      "metadata": {
        "colab": {
          "base_uri": "https://localhost:8080/"
        },
        "id": "OWIMg9T1I4uf",
        "outputId": "af60fd1d-49d2-4129-baa2-a5640c4cfd7d"
      },
      "execution_count": 6,
      "outputs": [
        {
          "output_type": "stream",
          "name": "stdout",
          "text": [
            "Porcentaje de victorias: 40.00%\n"
          ]
        }
      ]
    },
    {
      "cell_type": "code",
      "source": [
        "dR= (winRate[0] / winRate.sum()) * 100 # Con esto estoy calculando el porcentaje de victorias\n",
        "print(f'Porcentaje de derrotas: {dR:.2f}%')"
      ],
      "metadata": {
        "colab": {
          "base_uri": "https://localhost:8080/"
        },
        "id": "z33dOLBmKZH5",
        "outputId": "07661d4a-b4f9-4eaf-83ee-1360477af56f"
      },
      "execution_count": 7,
      "outputs": [
        {
          "output_type": "stream",
          "name": "stdout",
          "text": [
            "Porcentaje de derrotas: 60.00%\n"
          ]
        }
      ]
    },
    {
      "cell_type": "code",
      "source": [
        "df['KDA'] = (df['kills'] + df['assists']) / df['deaths'].replace(0, 1)  # Reemplaza 0 en deaths con un 1\n",
        "print(df[['kills', 'deaths', 'assists', 'KDA']]) #Muestro el KDA\n"
      ],
      "metadata": {
        "colab": {
          "base_uri": "https://localhost:8080/"
        },
        "id": "KKLq3vAUK9wj",
        "outputId": "08340615-be87-4086-b81b-2453c42eba6c"
      },
      "execution_count": 8,
      "outputs": [
        {
          "output_type": "stream",
          "name": "stdout",
          "text": [
            "    kills  deaths  assists        KDA\n",
            "0       9       9        8   1.888889\n",
            "1      22       8        9   3.875000\n",
            "2      20       4       18   9.500000\n",
            "3       2       7        8   1.428571\n",
            "4       8       3        6   4.666667\n",
            "5       4       1        1   5.000000\n",
            "6      12       7        7   2.714286\n",
            "7      13       4        8   5.250000\n",
            "8      11       6        2   2.166667\n",
            "9      12       7        6   2.571429\n",
            "10      9       7        6   2.142857\n",
            "11      6       1        4  10.000000\n",
            "12      6       4        6   3.000000\n",
            "13      8       0        3  11.000000\n",
            "14     19       8        7   3.250000\n",
            "15     15       5       12   5.400000\n",
            "16     10       5        4   2.800000\n",
            "17     12       5       10   4.400000\n",
            "18     16       6        4   3.333333\n",
            "19      2       6        5   1.166667\n",
            "20     13       7        3   2.285714\n",
            "21     12       5        6   3.600000\n",
            "22     10       5        5   3.000000\n",
            "23     11       3        9   6.666667\n",
            "24     10       4        4   3.500000\n"
          ]
        }
      ]
    },
    {
      "cell_type": "code",
      "source": [
        "np.average(df['KDA'], weights=df['KDA']) #Media ponderada\n",
        "#"
      ],
      "metadata": {
        "colab": {
          "base_uri": "https://localhost:8080/"
        },
        "id": "hOQkoktBmVVM",
        "outputId": "10df24d8-8624-40af-98ce-687343bc5427"
      },
      "execution_count": 69,
      "outputs": [
        {
          "output_type": "execute_result",
          "data": {
            "text/plain": [
              "5.752536740170792"
            ]
          },
          "metadata": {},
          "execution_count": 69
        }
      ]
    },
    {
      "cell_type": "code",
      "source": [
        "kda_by_result = df.groupby('win / lose (1/0)')['KDA'].agg(['mean', 'median', 'min', 'max']) #Estoy sacando el promedio (mean) y la mediana (median)\n",
        "print(kda_by_result)"
      ],
      "metadata": {
        "colab": {
          "base_uri": "https://localhost:8080/"
        },
        "id": "Ka9TW9zZMXH6",
        "outputId": "5ea1f39f-2e61-41e3-b575-edd2ac55830b"
      },
      "execution_count": 9,
      "outputs": [
        {
          "output_type": "stream",
          "name": "stdout",
          "text": [
            "                      mean    median       min   max\n",
            "win / lose (1/0)                                    \n",
            "0                 2.796005  2.714286  1.166667   5.0\n",
            "1                 6.266667  5.325000  3.250000  11.0\n"
          ]
        }
      ]
    },
    {
      "cell_type": "code",
      "source": [
        "df['kills'].mean() #Tomar una feature\n"
      ],
      "metadata": {
        "colab": {
          "base_uri": "https://localhost:8080/"
        },
        "id": "j4TOhQufjc57",
        "outputId": "e4a50f64-512f-47b5-bc0f-1e3d40b57d15"
      },
      "execution_count": 51,
      "outputs": [
        {
          "output_type": "execute_result",
          "data": {
            "text/plain": [
              "10.88"
            ]
          },
          "metadata": {},
          "execution_count": 51
        }
      ]
    },
    {
      "cell_type": "code",
      "source": [
        "np.average(df['kills'], weights=df['kills'])\n",
        "#"
      ],
      "metadata": {
        "colab": {
          "base_uri": "https://localhost:8080/"
        },
        "id": "Q6JxHSe4mdqt",
        "outputId": "1156a054-67fe-4a4a-d03b-7c7e568311fc"
      },
      "execution_count": 72,
      "outputs": [
        {
          "output_type": "execute_result",
          "data": {
            "text/plain": [
              "13.117647058823529"
            ]
          },
          "metadata": {},
          "execution_count": 72
        }
      ]
    },
    {
      "cell_type": "code",
      "source": [
        "df['deaths'].mean() #Tomar una feature\n"
      ],
      "metadata": {
        "colab": {
          "base_uri": "https://localhost:8080/"
        },
        "id": "5RU_FkWCkilu",
        "outputId": "757e074c-40f9-451f-910d-607496430cc4"
      },
      "execution_count": 55,
      "outputs": [
        {
          "output_type": "execute_result",
          "data": {
            "text/plain": [
              "5.08"
            ]
          },
          "metadata": {},
          "execution_count": 55
        }
      ]
    },
    {
      "cell_type": "code",
      "source": [
        "np.average(df['deaths'], weights=df['deaths'])\n",
        "#"
      ],
      "metadata": {
        "colab": {
          "base_uri": "https://localhost:8080/"
        },
        "id": "r7PXrU2HmeKA",
        "outputId": "9b8772ca-e9c7-4955-cfac-5d1a45cc9b5f"
      },
      "execution_count": 70,
      "outputs": [
        {
          "output_type": "execute_result",
          "data": {
            "text/plain": [
              "6.070866141732283"
            ]
          },
          "metadata": {},
          "execution_count": 70
        }
      ]
    },
    {
      "cell_type": "code",
      "source": [
        "df['assists'].mean() #Tomar una feature"
      ],
      "metadata": {
        "colab": {
          "base_uri": "https://localhost:8080/"
        },
        "id": "vegH_nxSkq8x",
        "outputId": "aa6a7e7a-e6e0-4b23-dde9-0fce64337e8a"
      },
      "execution_count": 58,
      "outputs": [
        {
          "output_type": "execute_result",
          "data": {
            "text/plain": [
              "6.44"
            ]
          },
          "metadata": {},
          "execution_count": 58
        }
      ]
    },
    {
      "cell_type": "code",
      "source": [
        "np.average(df['assists'], weights=df['assists'])\n",
        "#"
      ],
      "metadata": {
        "colab": {
          "base_uri": "https://localhost:8080/"
        },
        "id": "niYS73Q5met1",
        "outputId": "b21716fc-4773-43d9-ffe0-09be93b70908"
      },
      "execution_count": 71,
      "outputs": [
        {
          "output_type": "execute_result",
          "data": {
            "text/plain": [
              "8.304347826086957"
            ]
          },
          "metadata": {},
          "execution_count": 71
        }
      ]
    },
    {
      "cell_type": "code",
      "source": [
        "# Grafico usando seaborn\n",
        "plt.figure(figsize=(8, 5)) # Establece el tamaño de la figura a 8 pulgadas de ancho y 5 pulgadas de alto\n",
        "sns.barplot(data=df, x='win / lose (1/0)', y='KDA', hue='win / lose (1/0)', palette=['red', 'green'], errorbar=None, legend=False)# Coloco en X win/lose en Y kda\n",
        "# Hue usa la misma columna para el color de las barras, diferenciando entre victorias y derrotas; palette define los colores para las barras (rojo para derrotas y verde para victorias)\n",
        "plt.xlabel('Resultado de la Partida (0 = Derrota, 1 = Victoria)')\n",
        "plt.ylabel('KDA Promedio')\n",
        "plt.title('KDA Promedio por Resultado de la Partida')\n",
        "plt.xticks(rotation=0)  # Estable la rotacion de las etiquetas del eje X de manera horizontal\n",
        "plt.grid(axis='y', linestyle='--', alpha=0.7) # Añade una cuadrícula horizontal con líneas discontinuas y un 70% de opacidad\n",
        "plt.show()"
      ],
      "metadata": {
        "colab": {
          "base_uri": "https://localhost:8080/",
          "height": 487
        },
        "id": "EfUREi3QMtU2",
        "outputId": "46ccbcc1-0619-434a-e3f6-201357604bdc"
      },
      "execution_count": 10,
      "outputs": [
        {
          "output_type": "display_data",
          "data": {
            "text/plain": [
              "<Figure size 800x500 with 1 Axes>"
            ],
            "image/png": "[encoded data removed]"
          },
          "metadata": {}
        }
      ]
    },
    {
      "cell_type": "code",
      "source": [
        "# Agrupar el DataFrame por el resultado de la partida (win_lose) y calcular las estadísticas de CS para cada grupo\n",
        "cs_by_result = df.groupby('win / lose (1/0)')['cs'].agg(['mean', 'median', 'min', 'max'])\n",
        "print(cs_by_result)"
      ],
      "metadata": {
        "colab": {
          "base_uri": "https://localhost:8080/"
        },
        "id": "AoCL9nvonIZ3",
        "outputId": "f9f4cf39-af23-43ba-e5fd-4b4f905dbf22"
      },
      "execution_count": 11,
      "outputs": [
        {
          "output_type": "stream",
          "name": "stdout",
          "text": [
            "                   mean  median  min  max\n",
            "win / lose (1/0)                         \n",
            "0                 195.4   194.0  130  256\n",
            "1                 191.3   188.0  140  229\n"
          ]
        }
      ]
    },
    {
      "cell_type": "code",
      "source": [
        "df['durationG(min)'] = df['durationG(min)'].str.replace(',', '.').astype(float)  # Convertir duración a flotantes\n",
        "# Calcular CS por minuto\n",
        "df['cs/min'] = df['cs'] / df['durationG(min)']\n",
        "# Crear una nueva columna para indicar si la partida se ganó o perdió\n",
        "df['win_lose'] = df['win / lose (1/0)']\n",
        "# Agrupar el DataFrame por el resultado de la partida (win_lose) y calcular las estadísticas de CS por minuto para cada grupo\n",
        "csmin_by_result = df.groupby('win_lose')['cs/min'].agg(['mean', 'median', 'min', 'max'])\n",
        "# Imprimir los resultados\n",
        "print(csmin_by_result)"
      ],
      "metadata": {
        "colab": {
          "base_uri": "https://localhost:8080/"
        },
        "id": "Bp_c5r1Lx33J",
        "outputId": "dd3f3a6f-53b5-453e-8ca9-2edab57eb201"
      },
      "execution_count": 19,
      "outputs": [
        {
          "output_type": "stream",
          "name": "stdout",
          "text": [
            "              mean    median       min       max\n",
            "win_lose                                        \n",
            "0         6.868141  6.556701  5.391484  9.067642\n",
            "1         7.319651  7.188512  5.857488  9.600925\n"
          ]
        }
      ]
    },
    {
      "cell_type": "code",
      "source": [
        "# Grafico usando seaborn\n",
        "plt.figure(figsize=(8, 5)) # Establece el tamaño de la figura a 8 pulgadas de ancho y 5 pulgadas de alto\n",
        "sns.barplot(data=df, x='win / lose (1/0)', y='cs/min', hue='win / lose (1/0)', palette=['red', 'green'], errorbar=None, legend=False)# Coloco en X win/lose en Y kda\n",
        "# Hue usa la misma columna para el color de las barras, diferenciando entre victorias y derrotas; palette define los colores para las barras (rojo para derrotas y verde para victorias)\n",
        "plt.xlabel('Resultado de la Partida (0 = Derrota, 1 = Victoria)')\n",
        "plt.ylabel('cs/min')\n",
        "plt.title('cs/min por Resultado de la Partida')\n",
        "plt.xticks(rotation=0)  # Estable la rotacion de las etiquetas del eje X de manera horizontal\n",
        "plt.grid(axis='y', linestyle='--', alpha=0.7) # Añade una cuadrícula horizontal con líneas discontinuas y un 70% de opacidad\n",
        "plt.show()"
      ],
      "metadata": {
        "colab": {
          "base_uri": "https://localhost:8080/",
          "height": 487
        },
        "id": "6cv-ZNpfx-I_",
        "outputId": "427b05aa-68fb-413e-9b20-f40748ba0c8d"
      },
      "execution_count": 20,
      "outputs": [
        {
          "output_type": "display_data",
          "data": {
            "text/plain": [
              "<Figure size 800x500 with 1 Axes>"
            ],
            "image/png": "[encoded data removed]"
          },
          "metadata": {}
        }
      ]
    },
    {
      "cell_type": "code",
      "source": [
        "item1 = df['first item'].value_counts()\n",
        "item1 # Cuento especificamente la cantidad de victorias y derrotas  (0 = derrota; 1 = victoria)"
      ],
      "metadata": {
        "colab": {
          "base_uri": "https://localhost:8080/",
          "height": 178
        },
        "id": "ZsajZrOKWy7z",
        "outputId": "a2fe1c01-98c9-4e36-f987-b4356ad07c87"
      },
      "execution_count": 23,
      "outputs": [
        {
          "output_type": "execute_result",
          "data": {
            "text/plain": [
              "first item\n",
              "kraken slayer    13\n",
              "statik shyv      12\n",
              "Name: count, dtype: int64"
            ],
            "text/html": [
              "<div>\n",
              "<style scoped>\n",
              "    .dataframe tbody tr th:only-of-type {\n",
              "        vertical-align: middle;\n",
              "    }\n",
              "\n",
              "    .dataframe tbody tr th {\n",
              "        vertical-align: top;\n",
              "    }\n",
              "\n",
              "    .dataframe thead th {\n",
              "        text-align: right;\n",
              "    }\n",
              "</style>\n",
              "<table border=\"1\" class=\"dataframe\">\n",
              "  <thead>\n",
              "    <tr style=\"text-align: right;\">\n",
              "      <th></th>\n",
              "      <th>count</th>\n",
              "    </tr>\n",
              "    <tr>\n",
              "      <th>first item</th>\n",
              "      <th></th>\n",
              "    </tr>\n",
              "  </thead>\n",
              "  <tbody>\n",
              "    <tr>\n",
              "      <th>kraken slayer</th>\n",
              "      <td>13</td>\n",
              "    </tr>\n",
              "    <tr>\n",
              "      <th>statik shyv</th>\n",
              "      <td>12</td>\n",
              "    </tr>\n",
              "  </tbody>\n",
              "</table>\n",
              "</div><br><label><b>dtype:</b> int64</label>"
            ]
          },
          "metadata": {},
          "execution_count": 23
        }
      ]
    },
    {
      "cell_type": "code",
      "source": [
        "# Contar las victorias y derrotas para cada objeto\n",
        "item_counts = df.groupby(['first item', 'win / lose (1/0)']).size().unstack(fill_value=0)\n",
        "# Renombrar las columnas para mayor claridad\n",
        "item_counts.columns = ['Derrotas', 'Victorias']\n",
        "# Imprimir los resultados\n",
        "print(item_counts)\n",
        "# Calcular la tasa de victorias para cada objeto\n",
        "item_counts['Tasa de Victorias (%)'] = (item_counts['Victorias'] / (item_counts['Victorias'] + item_counts['Derrotas'])) * 100\n",
        "# Imprimir la tasa de victorias\n",
        "print(item_counts[['Victorias', 'Derrotas', 'Tasa de Victorias (%)']])"
      ],
      "metadata": {
        "colab": {
          "base_uri": "https://localhost:8080/"
        },
        "id": "t_t95e7TYdRf",
        "outputId": "9e76f021-1274-4794-d7d7-e55ffd40e604"
      },
      "execution_count": 28,
      "outputs": [
        {
          "output_type": "stream",
          "name": "stdout",
          "text": [
            "               Derrotas  Victorias\n",
            "first item                        \n",
            "kraken slayer         7          6\n",
            "statik shyv           8          4\n",
            "               Victorias  Derrotas  Tasa de Victorias (%)\n",
            "first item                                               \n",
            "kraken slayer          6         7              46.153846\n",
            "statik shyv            4         8              33.333333\n"
          ]
        }
      ]
    },
    {
      "cell_type": "code",
      "source": [
        "# Graficar\n",
        "plt.figure(figsize=(10, 6))\n",
        "item_counts[['Victorias', 'Derrotas']].plot(kind='bar', stacked=True, color=['green', 'red'])\n",
        "\n",
        "# Personalizar el gráfico\n",
        "plt.title('Victorias y Derrotas por Primer objeto')\n",
        "plt.xlabel('Objeto')\n",
        "plt.ylabel('Cantidad')\n",
        "plt.xticks(rotation=0)  # Rotar las etiquetas del eje x\n",
        "plt.legend(title='Resultado', labels=['Victorias', 'Derrotas'])\n",
        "plt.grid(axis='y', linestyle='--', alpha=0.7)\n",
        "\n",
        "# Mostrar el gráfico\n",
        "plt.show()"
      ],
      "metadata": {
        "colab": {
          "base_uri": "https://localhost:8080/",
          "height": 489
        },
        "id": "bwKZlBLzXGj_",
        "outputId": "399f1b51-b7d8-4260-8c80-ba1c4a242a78"
      },
      "execution_count": 30,
      "outputs": [
        {
          "output_type": "display_data",
          "data": {
            "text/plain": [
              "<Figure size 1000x600 with 0 Axes>"
            ]
          },
          "metadata": {}
        },
        {
          "output_type": "display_data",
          "data": {
            "text/plain": [
              "<Figure size 640x480 with 1 Axes>"
            ],
            "image/png": "[encoded data removed]"
          },
          "metadata": {}
        }
      ]
    }
  ]
}